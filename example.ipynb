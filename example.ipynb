{
 "cells": [
  {
   "cell_type": "code",
   "execution_count": 1,
   "metadata": {},
   "outputs": [],
   "source": [
    "# jupyter notebook auto reload\n",
    "%load_ext autoreload\n",
    "%autoreload 2"
   ]
  },
  {
   "cell_type": "code",
   "execution_count": null,
   "metadata": {},
   "outputs": [],
   "source": [
    "from backbones.sana import SANA\n",
    "\n",
    "# 사용 예\n",
    "model = SANA()\n",
    "print(model)"
   ]
  },
  {
   "cell_type": "code",
   "execution_count": 3,
   "metadata": {},
   "outputs": [],
   "source": [
    "import matplotlib.pyplot as plt\n",
    "\n",
    "def show_compare(euler_img, dpm_img):\n",
    "    fig, axes = plt.subplots(1, 2, figsize=(18, 10))\n",
    "    axes[0].imshow(euler_img); axes[0].axis('off'); axes[0].set_title('Euler')\n",
    "    axes[1].imshow(dpm_img);  axes[1].axis('off'); axes[1].set_title('Diff-Solver')\n",
    "    plt.tight_layout()\n",
    "    plt.show()"
   ]
  },
  {
   "cell_type": "code",
   "execution_count": null,
   "metadata": {},
   "outputs": [],
   "source": [
    "from solvers.euler_solver import Euler_Solver\n",
    "from solvers.dpm_solver import DPM_Solver\n",
    "from solvers.sa_solver import SA_Solver\n",
    "from solvers.unipc_solver import UniPC_Solver\n",
    "\n",
    "pos_text = \"A serene twilight view of a traditional Korean hanok village nestled between misty mountain slopes: curved midnight-blue tiled eaves, softly glowing paper lanterns swaying in the breeze; ancient pine trees arching over stone pathways; intricate wooden lattice windows casting delicate shadows; a lone scholar in flowing hanbok practicing calligraphy beside a koi pond with lotus petals drifting on the water; cinematic 8K ultra-realism with dynamic volumetric moonlight filtering through morning mist; painterly strokes blending classical Joseon-era ink wash with modern hyperrealism; shot on RED Monstro 8K, 50 mm f/1.2 lens; subtle film grain; maximum fidelity; emotional atmosphere.\"\n",
    "neg_text = \"lowres, bad anatomy, deformed, blurry, pixelated, oversaturated, underexposed, overexposed, artifact, jpeg artifacts, watermark, text, logo, extra limbs, mutated hands, unnatural colors, noisy background, out of focus, poor composition, cultural clichés, stereotype exaggeration, flat lighting, glitch\"\n",
    "\n",
    "model_fn, noise_schedule, latents = model.get_model_fn(pos_text=pos_text, neg_text=neg_text, guidance_scale=4.5, num_steps=20, seed=42)\n",
    "\n",
    "solver = Euler_Solver(model_fn, noise_schedule)\n",
    "latent_samples = solver.sample(latents, steps=10, skip_type='time_uniform_flow', flow_shift=3.0)\n",
    "pixel_samples = model.decode_vae(latent_samples)\n",
    "euler_sample = pixel_samples[0]\n",
    "\n",
    "solver = DPM_Solver(model_fn, noise_schedule, algorithm_type=\"dpmsolver++\")\n",
    "latent_samples = solver.sample(latents, steps=10, order=2, skip_type=\"time_uniform_flow\", method=\"multistep\", flow_shift=3.0)\n",
    "pixel_samples = model.decode_vae(latent_samples)\n",
    "dpm_sample = pixel_samples[0]\n",
    "\n",
    "show_compare(euler_sample, dpm_sample)"
   ]
  },
  {
   "cell_type": "code",
   "execution_count": null,
   "metadata": {},
   "outputs": [],
   "source": [
    "\n",
    "solver = SA_Solver(model_fn, noise_schedule)\n",
    "tau = lambda t: 0.6 if 0.2 <= t <= 0.8 else 0\n",
    "latent_samples = solver.sample(latents, tau, steps=10, predictor_order=2, corrector_order=3, skip_type=\"time_uniform_flow\", flow_shift=3.0, t_start=0.999, t_end=1e-3)\n",
    "pixel_samples = model.decode_vae(latent_samples)\n",
    "sa_sample = pixel_samples[0]\n",
    "\n",
    "show_compare(euler_sample, sa_sample)"
   ]
  },
  {
   "cell_type": "code",
   "execution_count": null,
   "metadata": {},
   "outputs": [],
   "source": [
    "solver = UniPC_Solver(model_fn, noise_schedule)\n",
    "latent_samples = solver.sample(latents, steps=10, order=3, skip_type=\"time_uniform_flow\", flow_shift=3.0, t_start=0.999, t_end=1e-3)\n",
    "pixel_samples = model.decode_vae(latent_samples)\n",
    "unipc_sample = pixel_samples[0]\n",
    "\n",
    "show_compare(euler_sample, sa_sample)\n"
   ]
  }
 ],
 "metadata": {
  "kernelspec": {
   "display_name": "venv",
   "language": "python",
   "name": "python3"
  },
  "language_info": {
   "codemirror_mode": {
    "name": "ipython",
    "version": 3
   },
   "file_extension": ".py",
   "mimetype": "text/x-python",
   "name": "python",
   "nbconvert_exporter": "python",
   "pygments_lexer": "ipython3",
   "version": "3.10.9"
  }
 },
 "nbformat": 4,
 "nbformat_minor": 2
}
