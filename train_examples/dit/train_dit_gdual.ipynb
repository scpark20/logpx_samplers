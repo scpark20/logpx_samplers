{
 "cells": [
  {
   "cell_type": "code",
   "execution_count": 1,
   "metadata": {},
   "outputs": [],
   "source": [
    "import os \n",
    "os.chdir('../../')\n",
    "os.environ[\"DPM_TQDM\"] = \"False\""
   ]
  },
  {
   "cell_type": "code",
   "execution_count": 2,
   "metadata": {},
   "outputs": [
    {
     "name": "stderr",
     "output_type": "stream",
     "text": [
      "/home/scpark/miniconda3/envs/sana/lib/python3.10/site-packages/tqdm/auto.py:21: TqdmWarning: IProgress not found. Please update jupyter and ipywidgets. See https://ipywidgets.readthedocs.io/en/stable/user_install.html\n",
      "  from .autonotebook import tqdm as notebook_tqdm\n",
      "/home/scpark/miniconda3/envs/sana/lib/python3.10/site-packages/xformers/ops/fmha/flash.py:211: FutureWarning: `torch.library.impl_abstract` was renamed to `torch.library.register_fake`. Please use that instead; we will remove `torch.library.impl_abstract` in a future version of PyTorch.\n",
      "  @torch.library.impl_abstract(\"xformers_flash::flash_fwd\")\n",
      "/home/scpark/miniconda3/envs/sana/lib/python3.10/site-packages/xformers/ops/fmha/flash.py:344: FutureWarning: `torch.library.impl_abstract` was renamed to `torch.library.register_fake`. Please use that instead; we will remove `torch.library.impl_abstract` in a future version of PyTorch.\n",
      "  @torch.library.impl_abstract(\"xformers_flash::flash_bwd\")\n",
      "Loading pipeline components...:   0%|          | 0/3 [00:00<?, ?it/s]An error occurred while trying to fetch /home/scpark/.cache/huggingface/hub/models--facebook--DiT-XL-2-256/snapshots/eab87f77abd5aef071a632f08807fbaab0b704d0/transformer: Error no file named diffusion_pytorch_model.safetensors found in directory /home/scpark/.cache/huggingface/hub/models--facebook--DiT-XL-2-256/snapshots/eab87f77abd5aef071a632f08807fbaab0b704d0/transformer.\n",
      "Defaulting to unsafe serialization. Pass `allow_pickle=False` to raise an error instead.\n",
      "Loading pipeline components...:  33%|███▎      | 1/3 [00:00<00:00,  5.52it/s]An error occurred while trying to fetch /home/scpark/.cache/huggingface/hub/models--facebook--DiT-XL-2-256/snapshots/eab87f77abd5aef071a632f08807fbaab0b704d0/vae: Error no file named diffusion_pytorch_model.safetensors found in directory /home/scpark/.cache/huggingface/hub/models--facebook--DiT-XL-2-256/snapshots/eab87f77abd5aef071a632f08807fbaab0b704d0/vae.\n",
      "Defaulting to unsafe serialization. Pass `allow_pickle=False` to raise an error instead.\n",
      "Loading pipeline components...: 100%|██████████| 3/3 [00:00<00:00, 13.61it/s]\n",
      "Expected types for id2label: (typing.Dict[int, str], <class 'NoneType'>), got typing.Dict[str, str].\n"
     ]
    },
    {
     "name": "stdout",
     "output_type": "stream",
     "text": [
      "<backbones.dit.DiT object at 0x7940142784f0>\n"
     ]
    }
   ],
   "source": [
    "from backbones.dit import DiT\n",
    "\n",
    "# 사용 예\n",
    "model = DiT(trainable=True)\n",
    "print(model)"
   ]
  },
  {
   "cell_type": "code",
   "execution_count": 3,
   "metadata": {},
   "outputs": [
    {
     "name": "stdout",
     "output_type": "stream",
     "text": [
      "done\n",
      "done\n"
     ]
    }
   ],
   "source": [
    "import torch\n",
    "import torch.nn.functional as F\n",
    "from torch import amp\n",
    "from solvers.dual.static.gdual_box_solver import GDual_Box_Solver\n",
    "\n",
    "# 클래스 0–9로 설정\n",
    "class_ids = [i for i in range(8)]\n",
    "model_fn, noise_schedule, latents = model.get_model_fn(pos_conds=class_ids, guidance_scale=3.0)\n",
    "\n",
    "device = 'cuda:0'\n",
    "solver = GDual_Box_Solver(model_fn, noise_schedule, steps=10, skip_type=\"time_uniform\")\n",
    "solver = solver.to(device)\n",
    "print('done')\n",
    "\n",
    "optimizer = torch.optim.Adam(solver.parameters(), lr=1e-3)\n",
    "scaler = amp.GradScaler()\n",
    "print('done')"
   ]
  },
  {
   "cell_type": "code",
   "execution_count": 12,
   "metadata": {},
   "outputs": [
    {
     "name": "stdout",
     "output_type": "stream",
     "text": [
      "done\n"
     ]
    }
   ],
   "source": [
    "optimizer.zero_grad()\n",
    "with amp.autocast(device_type=device, dtype=torch.bfloat16):\n",
    "    pr_latents = solver.sample(latents)\n",
    "    gt_latents = torch.randn_like(pr_latents)\n",
    "    loss = F.mse_loss(pr_latents, gt_latents)\n",
    "\n",
    "scaler.scale(loss).backward()\n",
    "scaler.step(optimizer)\n",
    "scaler.update()\n",
    "\n",
    "print('done')"
   ]
  },
  {
   "cell_type": "code",
   "execution_count": 13,
   "metadata": {},
   "outputs": [
    {
     "data": {
      "text/plain": [
       "Parameter containing:\n",
       "tensor([[ 0.0016,  0.0000,  0.0000,  0.0000,  0.0000],\n",
       "        [-0.0011,  0.0032,  0.0020,  0.0022, -0.0013],\n",
       "        [-0.0041,  0.0026,  0.0028,  0.0028, -0.0019],\n",
       "        [ 0.0018,  0.0045,  0.0010,  0.0049, -0.0049],\n",
       "        [ 0.0050, -0.0049, -0.0050, -0.0049,  0.0050],\n",
       "        [ 0.0036, -0.0046, -0.0042, -0.0046,  0.0042],\n",
       "        [ 0.0049, -0.0050, -0.0050, -0.0050,  0.0050],\n",
       "        [ 0.0048, -0.0049, -0.0049, -0.0049,  0.0049],\n",
       "        [ 0.0050, -0.0050, -0.0050, -0.0050,  0.0050],\n",
       "        [ 0.0004,  0.0000,  0.0000,  0.0000,  0.0000]], device='cuda:0',\n",
       "       requires_grad=True)"
      ]
     },
     "execution_count": 13,
     "metadata": {},
     "output_type": "execute_result"
    }
   ],
   "source": [
    "solver.params"
   ]
  },
  {
   "cell_type": "code",
   "execution_count": null,
   "metadata": {},
   "outputs": [],
   "source": []
  },
  {
   "cell_type": "code",
   "execution_count": null,
   "metadata": {},
   "outputs": [],
   "source": []
  },
  {
   "cell_type": "code",
   "execution_count": null,
   "metadata": {},
   "outputs": [],
   "source": []
  },
  {
   "cell_type": "code",
   "execution_count": null,
   "metadata": {},
   "outputs": [],
   "source": []
  }
 ],
 "metadata": {
  "kernelspec": {
   "display_name": "sana",
   "language": "python",
   "name": "python3"
  },
  "language_info": {
   "codemirror_mode": {
    "name": "ipython",
    "version": 3
   },
   "file_extension": ".py",
   "mimetype": "text/x-python",
   "name": "python",
   "nbconvert_exporter": "python",
   "pygments_lexer": "ipython3",
   "version": "3.10.0"
  }
 },
 "nbformat": 4,
 "nbformat_minor": 2
}
