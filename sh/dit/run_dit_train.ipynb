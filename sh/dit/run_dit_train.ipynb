{
 "cells": [
  {
   "cell_type": "code",
   "execution_count": 1,
   "id": "bb23d165",
   "metadata": {},
   "outputs": [],
   "source": [
    "import os\n",
    "os.chdir('../../')"
   ]
  },
  {
   "cell_type": "code",
   "execution_count": 2,
   "id": "4bdf6f7e",
   "metadata": {},
   "outputs": [
    {
     "name": "stdout",
     "output_type": "stream",
     "text": [
      "samplings/dit/train/dit_train_0/config.json\n"
     ]
    }
   ],
   "source": [
    "!ls samplings/dit/train/dit_train_0/config.json"
   ]
  },
  {
   "cell_type": "code",
   "execution_count": 3,
   "id": "54b6db54",
   "metadata": {},
   "outputs": [
    {
     "name": "stdout",
     "output_type": "stream",
     "text": [
      "torch.Size([4, 32, 32]) torch.Size([4, 32, 32]) torch.Size([201, 4, 32, 32])\n"
     ]
    }
   ],
   "source": [
    "import torch\n",
    "outputs = torch.load('samplings/dit/train/dit_train_0/0.pt', weights_only=True)\n",
    "print(outputs['sample'].shape, outputs['noise'].shape, outputs['traj'].shape)"
   ]
  },
  {
   "cell_type": "code",
   "execution_count": 5,
   "id": "c449e0bc",
   "metadata": {},
   "outputs": [
    {
     "data": {
      "text/plain": [
       "0"
      ]
     },
     "execution_count": 5,
     "metadata": {},
     "output_type": "execute_result"
    }
   ],
   "source": [
    "outputs['cond']"
   ]
  },
  {
   "cell_type": "code",
   "execution_count": null,
   "id": "31e3dd58",
   "metadata": {},
   "outputs": [],
   "source": []
  }
 ],
 "metadata": {
  "kernelspec": {
   "display_name": "sana",
   "language": "python",
   "name": "python3"
  },
  "language_info": {
   "codemirror_mode": {
    "name": "ipython",
    "version": 3
   },
   "file_extension": ".py",
   "mimetype": "text/x-python",
   "name": "python",
   "nbconvert_exporter": "python",
   "pygments_lexer": "ipython3",
   "version": "3.10.0"
  }
 },
 "nbformat": 4,
 "nbformat_minor": 5
}
