{
 "cells": [
  {
   "cell_type": "code",
   "execution_count": 1,
   "id": "139e4196",
   "metadata": {},
   "outputs": [],
   "source": [
    "import os\n",
    "\n",
    "os.chdir('../')"
   ]
  },
  {
   "cell_type": "code",
   "execution_count": 2,
   "id": "59d28245",
   "metadata": {},
   "outputs": [],
   "source": [
    "import os, shutil\n",
    "from pathlib import Path\n",
    "from concurrent.futures import ProcessPoolExecutor, as_completed\n",
    "from typing import Iterable\n",
    "import torch\n",
    "from tqdm import tqdm\n",
    "\n",
    "def _process_one(src_path: Path, dst_path: Path, drop_keys: Iterable[str], legacy_save: bool):\n",
    "    # 프로세스마다 스레드 과사용 방지\n",
    "    try:\n",
    "        torch.set_num_threads(1)\n",
    "    except Exception:\n",
    "        pass\n",
    "\n",
    "    obj = torch.load(src_path, map_location=\"cpu\")\n",
    "    if isinstance(obj, dict):\n",
    "        for k in drop_keys:\n",
    "            obj.pop(k, None)\n",
    "\n",
    "    tmp = dst_path.with_suffix(dst_path.suffix + \".tmp\")\n",
    "    if legacy_save:\n",
    "        # 구식 직렬화(대개 쓰기 속도 빠름, 파일 1개로 저장)\n",
    "        torch.save(obj, tmp, _use_new_zipfile_serialization=False)\n",
    "    else:\n",
    "        torch.save(obj, tmp)\n",
    "    os.replace(tmp, dst_path)  # atomic move\n",
    "    return dst_path.name\n",
    "\n",
    "def copy_pt(src_pt_dir: str,\n",
    "            dst_pt_dir: str,\n",
    "            drop_keys: Iterable[str] = (\"traj\", \"trajs\"),\n",
    "            max_workers: int = None,\n",
    "            legacy_save: bool = True,\n",
    "            skip_existing: bool = True) -> None:\n",
    "    \"\"\"\n",
    "    src_pt_dir의 .pt에서 drop_keys만 제거해 dst_pt_dir로 저장.\n",
    "    - max_workers: 병렬 처리 프로세스 수 (기본: os.cpu_count()//2 정도 자동)\n",
    "    - legacy_save: True면 torch.save의 구식 직렬화 사용(보통 더 빠름)\n",
    "    - skip_existing: True면 대상 파일이 이미 있으면 건너뜀\n",
    "    \"\"\"\n",
    "    src = Path(src_pt_dir); dst = Path(dst_pt_dir)\n",
    "    dst.mkdir(parents=True, exist_ok=True)\n",
    "\n",
    "    # config.json 그대로 복사\n",
    "    if (src / \"config.json\").exists():\n",
    "        shutil.copy2(src / \"config.json\", dst / \"config.json\")\n",
    "\n",
    "    def sort_key(p: Path):\n",
    "        return (0, int(p.stem)) if p.stem.isdigit() else (1, p.stem)\n",
    "\n",
    "    pt_files = sorted(src.glob(\"*.pt\"), key=sort_key)\n",
    "    tasks = []\n",
    "    for f in pt_files:\n",
    "        out = dst / f.name\n",
    "        if skip_existing and out.exists():\n",
    "            continue\n",
    "        tasks.append((f, out))\n",
    "\n",
    "    if not tasks:\n",
    "        return\n",
    "\n",
    "    if max_workers is None:\n",
    "        cw = os.cpu_count() or 8\n",
    "        max_workers = max(1, min(cw // 2, 8))  # I/O라 과도 병렬 비추\n",
    "\n",
    "    with ProcessPoolExecutor(max_workers=max_workers) as ex:\n",
    "        futs = [ex.submit(_process_one, f, o, tuple(drop_keys), legacy_save) for f, o in tasks]\n",
    "        for _ in tqdm(as_completed(futs), total=len(futs), desc=\"Copying (drop traj)\"):\n",
    "            pass\n"
   ]
  },
  {
   "cell_type": "code",
   "execution_count": 3,
   "id": "ec813d57",
   "metadata": {},
   "outputs": [
    {
     "name": "stderr",
     "output_type": "stream",
     "text": [
      "Copying (drop traj): 100%|██████████| 10000/10000 [40:42<00:00,  4.09it/s] \n"
     ]
    }
   ],
   "source": [
    "copy_pt('samplings/dit/train/dit_train_0', 'samplings/dit/train/dit_train_0_trajdrop')"
   ]
  },
  {
   "cell_type": "code",
   "execution_count": null,
   "id": "1f231f59",
   "metadata": {},
   "outputs": [],
   "source": []
  }
 ],
 "metadata": {
  "kernelspec": {
   "display_name": "rbf",
   "language": "python",
   "name": "python3"
  },
  "language_info": {
   "codemirror_mode": {
    "name": "ipython",
    "version": 3
   },
   "file_extension": ".py",
   "mimetype": "text/x-python",
   "name": "python",
   "nbconvert_exporter": "python",
   "pygments_lexer": "ipython3",
   "version": "3.11.10"
  }
 },
 "nbformat": 4,
 "nbformat_minor": 5
}
