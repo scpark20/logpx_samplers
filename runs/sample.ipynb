{
 "cells": [
  {
   "cell_type": "code",
   "execution_count": 1,
   "id": "4dcb0ed8",
   "metadata": {},
   "outputs": [],
   "source": [
    "import os\n",
    "os.chdir('../')"
   ]
  },
  {
   "cell_type": "code",
   "execution_count": null,
   "id": "883160e7",
   "metadata": {},
   "outputs": [
    {
     "data": {
      "text/plain": [
       "{'model': 'SANA',\n",
       " 'solver': 'Euler',\n",
       " 'algorithm_type': 'vector_prediction',\n",
       " 'skip_type': 'time_uniform_flow',\n",
       " 'flow_shift': 1.0,\n",
       " 'NFE': 10,\n",
       " 'CFG': 4.5,\n",
       " 'order': 2,\n",
       " 'data': 'MSCOCO2017',\n",
       " 'save_root': '/data/scpark/samplings/',\n",
       " 'n_samples': 10,\n",
       " 'batch_size': 5,\n",
       " 'save_dir': PosixPath('/data/scpark/samplings/SANA(MSCOCO2017)(Euler)(vector_prediction)(time_uniform_flow)(FS1.0)(NFE10)(CFG4.5)(ORDER2)')}"
      ]
     },
     "execution_count": 2,
     "metadata": {},
     "output_type": "execute_result"
    }
   ],
   "source": [
    "import numpy as np\n",
    "from easydict import EasyDict\n",
    "\n",
    "from pathlib import Path\n",
    "def get_sampling_dir(config) -> Path:\n",
    "    parts = [\n",
    "        config.data,\n",
    "        config.solver,\n",
    "        config.algorithm_type,\n",
    "        config.skip_type,\n",
    "        f\"FS{config.flow_shift}\",\n",
    "        f\"NFE{config.NFE}\",\n",
    "        f\"CFG{config.CFG}\",\n",
    "        f\"ORDER{config.order}\",\n",
    "    ]\n",
    "    dir_name = config.model + \"\".join(f\"({p})\" for p in parts)\n",
    "    sampling_dir = Path(config.save_root) / dir_name\n",
    "    return sampling_dir\n",
    "\n",
    "config = EasyDict()\n",
    "config.model = 'SANA'\n",
    "config.solver = 'Euler'\n",
    "config.algorithm_type = 'vector_prediction'\n",
    "config.skip_type = 'time_uniform_flow'\n",
    "config.flow_shift = 1.0\n",
    "config.NFE = 10\n",
    "config.CFG = 4.5\n",
    "config.order = 2\n",
    "config.data = 'MSCOCO2017'\n",
    "config.save_root = '/data/scpark/samplings/'\n",
    "config.n_samples = 10\n",
    "config.batch_size = 5\n",
    "config.save_dir = get_sampling_dir(config)\n",
    "\n",
    "config"
   ]
  },
  {
   "cell_type": "code",
   "execution_count": null,
   "id": "b15baba4",
   "metadata": {},
   "outputs": [],
   "source": [
    "def get_model(config):\n",
    "    if config.model == 'SANA':\n",
    "        from backbones.sana import SANA\n",
    "        model = SANA()\n",
    "    return model\n",
    "\n",
    "def get_solver(config):\n",
    "    if config.solver == 'Euler':\n",
    "        from solvers.euler_solver import Euler_Solver\n",
    "        Solver = Euler_Solver\n",
    "    return Solver\n",
    "\n",
    "def get_data(config):\n",
    "    if config.data == 'MSCOCO2017':\n",
    "        data = np.load('prompts/mscoco2017.npz')['arr_0'].tolist()\n",
    "    return data\n"
   ]
  },
  {
   "cell_type": "code",
   "execution_count": 8,
   "id": "7312fb7b",
   "metadata": {},
   "outputs": [
    {
     "name": "stderr",
     "output_type": "stream",
     "text": [
      "Loading checkpoint shards: 100%|██████████| 2/2 [00:00<00:00, 10.47it/s]\n",
      "Loading pipeline components...: 100%|██████████| 5/5 [00:00<00:00,  5.35it/s]\n"
     ]
    },
    {
     "name": "stdout",
     "output_type": "stream",
     "text": [
      "done\n"
     ]
    }
   ],
   "source": [
    "model, Solver, data = get_model(config), get_solver(config), get_data(config)\n",
    "print('done') "
   ]
  },
  {
   "cell_type": "code",
   "execution_count": null,
   "id": "14d8267c",
   "metadata": {},
   "outputs": [
    {
     "name": "stderr",
     "output_type": "stream",
     "text": [
      "Sampling batches:   0%|          | 0/2 [00:00<?, ?it/s]"
     ]
    },
    {
     "name": "stdout",
     "output_type": "stream",
     "text": [
      "Processing 0 to 5\n"
     ]
    },
    {
     "name": "stderr",
     "output_type": "stream",
     "text": [
      "Sampling batches:  50%|█████     | 1/2 [00:03<00:03,  3.97s/it]"
     ]
    },
    {
     "name": "stdout",
     "output_type": "stream",
     "text": [
      "Processing 5 to 10\n"
     ]
    },
    {
     "name": "stderr",
     "output_type": "stream",
     "text": [
      "Sampling batches: 100%|██████████| 2/2 [00:07<00:00,  3.96s/it]\n"
     ]
    }
   ],
   "source": [
    "import os\n",
    "import math\n",
    "import torch\n",
    "from tqdm import tqdm\n",
    "\n",
    "os.makedirs(config.save_dir, exist_ok=True)\n",
    "\n",
    "# 총 반복 횟수 계산\n",
    "n_iters = math.ceil(config.n_samples / config.batch_size)\n",
    "\n",
    "for start in tqdm(range(0, config.n_samples, config.batch_size), \n",
    "                  total=n_iters, \n",
    "                  desc=\"Sampling batches\"):\n",
    "    end = min(start + config.batch_size, config.n_samples)\n",
    "\n",
    "    prompts = data[start:end]\n",
    "    seeds = list(range(start, end))\n",
    "    model_fn, noise_schedule, latents = model.get_model_fn(\n",
    "        pos_texts=prompts,\n",
    "        guidance_scale=config.CFG,\n",
    "        seeds=seeds\n",
    "    )\n",
    "\n",
    "    solver = Solver(\n",
    "        model_fn,\n",
    "        noise_schedule,\n",
    "        algorithm_type=config.algorithm_type\n",
    "    )\n",
    "    latent_samples = solver.sample(\n",
    "        latents,\n",
    "        steps=config.NFE,\n",
    "        order=config.order,\n",
    "        skip_type=config.skip_type,\n",
    "        flow_shift=config.flow_shift\n",
    "    )\n",
    "    latent_samples = latent_samples.data.cpu()\n",
    "    torch.save(latent_samples, config.save_dir / f\"{start}:{end}.pt\")\n"
   ]
  },
  {
   "cell_type": "code",
   "execution_count": null,
   "id": "73b0ce62",
   "metadata": {},
   "outputs": [],
   "source": []
  }
 ],
 "metadata": {
  "kernelspec": {
   "display_name": "sana",
   "language": "python",
   "name": "python3"
  },
  "language_info": {
   "codemirror_mode": {
    "name": "ipython",
    "version": 3
   },
   "file_extension": ".py",
   "mimetype": "text/x-python",
   "name": "python",
   "nbconvert_exporter": "python",
   "pygments_lexer": "ipython3",
   "version": "3.10.0"
  }
 },
 "nbformat": 4,
 "nbformat_minor": 5
}
