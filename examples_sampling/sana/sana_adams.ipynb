{
 "cells": [
  {
   "cell_type": "code",
   "execution_count": 1,
   "metadata": {},
   "outputs": [],
   "source": [
    "import os \n",
    "os.chdir('../')"
   ]
  },
  {
   "cell_type": "code",
   "execution_count": 2,
   "metadata": {},
   "outputs": [
    {
     "name": "stderr",
     "output_type": "stream",
     "text": [
      "/home/scpark/miniconda3/envs/sana/lib/python3.10/site-packages/tqdm/auto.py:21: TqdmWarning: IProgress not found. Please update jupyter and ipywidgets. See https://ipywidgets.readthedocs.io/en/stable/user_install.html\n",
      "  from .autonotebook import tqdm as notebook_tqdm\n",
      "/home/scpark/miniconda3/envs/sana/lib/python3.10/site-packages/xformers/ops/fmha/flash.py:211: FutureWarning: `torch.library.impl_abstract` was renamed to `torch.library.register_fake`. Please use that instead; we will remove `torch.library.impl_abstract` in a future version of PyTorch.\n",
      "  @torch.library.impl_abstract(\"xformers_flash::flash_fwd\")\n",
      "/home/scpark/miniconda3/envs/sana/lib/python3.10/site-packages/xformers/ops/fmha/flash.py:344: FutureWarning: `torch.library.impl_abstract` was renamed to `torch.library.register_fake`. Please use that instead; we will remove `torch.library.impl_abstract` in a future version of PyTorch.\n",
      "  @torch.library.impl_abstract(\"xformers_flash::flash_bwd\")\n",
      "Loading checkpoint shards: 100%|██████████| 2/2 [00:00<00:00, 11.80it/s]it/s]\n",
      "Loading pipeline components...:  40%|████      | 2/5 [00:00<00:00,  6.32it/s]"
     ]
    },
    {
     "name": "stderr",
     "output_type": "stream",
     "text": [
      "Loading pipeline components...: 100%|██████████| 5/5 [00:01<00:00,  4.80it/s]\n"
     ]
    },
    {
     "name": "stdout",
     "output_type": "stream",
     "text": [
      "<backbones.sana.SANA object at 0x72633c3b79d0>\n"
     ]
    }
   ],
   "source": [
    "from backbones.sana import SANA\n",
    "\n",
    "# 사용 예\n",
    "model = SANA()\n",
    "print(model)"
   ]
  },
  {
   "cell_type": "code",
   "execution_count": 3,
   "metadata": {},
   "outputs": [],
   "source": [
    "import matplotlib.pyplot as plt\n",
    "\n",
    "def show_compare(imgs):\n",
    "    fig, axes = plt.subplots(1, len(imgs), figsize=(18, 10))\n",
    "    for i in range(len(imgs)):\n",
    "        axes[i].imshow(imgs[i]); axes[i].axis('off')\n",
    "    plt.tight_layout()\n",
    "    plt.show()\n"
   ]
  },
  {
   "cell_type": "code",
   "execution_count": 4,
   "metadata": {},
   "outputs": [],
   "source": [
    "from solvers.euler_solver import Euler_Solver\n",
    "from solvers.dpm_solver import DPM_Solver\n",
    "from solvers.adams_solver import Adams_Solver\n",
    "from solvers.adams_dual_solver import Adams_Dual_Solver\n",
    "\n",
    "pos_texts = [\"A serene twilight view of a traditional Korean hanok village nestled between misty mountain slopes: curved midnight-blue tiled eaves, softly glowing paper lanterns swaying in the breeze; ancient pine trees arching over stone pathways; intricate wooden lattice windows casting delicate shadows; a lone scholar in flowing hanbok practicing calligraphy beside a koi pond with lotus petals drifting on the water; cinematic 8K ultra-realism with dynamic volumetric moonlight filtering through morning mist; painterly strokes blending classical Joseon-era ink wash with modern hyperrealism; shot on RED Monstro 8K, 50 mm f/1.2 lens; subtle film grain; maximum fidelity; emotional atmosphere.\"]\n",
    "neg_texts = [\"lowres, bad anatomy, deformed, blurry, pixelated, oversaturated, underexposed, overexposed, artifact, jpeg artifacts, watermark, text, logo, extra limbs, mutated hands, unnatural colors, noisy background, out of focus, poor composition, cultural clichés, stereotype exaggeration, flat lighting, glitch\"]\n",
    "\n",
    "prompts = [\n",
    "    \"A photorealistic portrait of an elderly Asian woman with silver hair and deep wrinkles, soft studio lighting, 8K resolution\",\n",
    "    \"A fantasy landscape with towering crystal spires, floating islands, and a purple sunset sky, in the style of studio ghibli\",\n",
    "    \"A futuristic cyberpunk street market at night, neon signs in Japanese kanji, wet pavement reflecting lights, cinematic atmosphere\",\n",
    "    \"A detailed illustration of a steampunk airship flying above the clouds, brass gears and pipes visible, watercolor painting style\",\n",
    "    \"An isometric view of a cozy medieval tavern interior, wooden beams, roaring fireplace, characters playing dice\",\n",
    "    \"A macro shot of a dew-covered spider web glistening in the early morning light, extreme close-up, bokeh background\",\n",
    "    \"An abstract expressionist painting of swirling colors and shapes, evoking emotion rather than form, thick brush strokes\",\n",
    "    \"A cartoon-style illustration of a cheerful corgi wearing a detective hat and holding a magnifying glass, vibrant colors\",\n",
    "    \"A high-contrast black-and-white film noir scene: a trench-coated detective under a streetlamp in the rain, moody shadows\",\n",
    "    \"An ultra-wide aerial view of a winding mountain road through autumn forest, golden leaves, dramatic clouds overhead\"\n",
    "]\n",
    "\n",
    "for prompt in prompts:\n",
    "    model_fn, noise_schedule, latents = model.get_model_fn(pos_conds=[prompt], neg_conds=neg_texts, guidance_scale=4.5, seeds=[42])\n",
    "    flow_shift = 3.0\n",
    "\n",
    "    solver = Euler_Solver(model_fn, noise_schedule, algorithm_type='vector_prediction')\n",
    "    latent_samples = solver.sample(latents, steps=100, skip_type='time_uniform_flow', flow_shift=flow_shift)\n",
    "    euler_sample = model.decode_vae(latent_samples)[0]\n",
    "\n",
    "    solver = Adams_Solver(model_fn, noise_schedule, algorithm_type='data_prediction')\n",
    "    latent_samples = solver.sample(latents, steps=10, order=2, skip_type=\"time_uniform_flow\", flow_shift=flow_shift, use_corrector=False)\n",
    "    adams1_sample = model.decode_vae(latent_samples)[0]\n",
    "\n",
    "    solver = Adams_Solver(model_fn, noise_schedule, algorithm_type='vector_prediction')\n",
    "    latent_samples = solver.sample(latents, steps=10, order=2, skip_type=\"time_uniform_flow\", flow_shift=flow_shift, use_corrector=True)\n",
    "    adams2_sample = model.decode_vae(latent_samples)[0]\n",
    "\n",
    "    solver = Adams_Dual_Solver(model_fn, noise_schedule, algorithm_type='dual_prediction')\n",
    "    latent_samples = solver.sample(latents, steps=10, order=2, skip_type=\"time_uniform_flow\", flow_shift=flow_shift, use_corrector=False)\n",
    "    adams3_sample = model.decode_vae(latent_samples)[0]\n",
    "\n",
    "    solver = Adams_Dual_Solver(model_fn, noise_schedule, algorithm_type='dual_prediction')\n",
    "    latent_samples = solver.sample(latents, steps=10, order=2, skip_type=\"time_uniform_flow\", flow_shift=flow_shift, use_corrector=True)\n",
    "    adams4_sample = model.decode_vae(latent_samples)[0]\n",
    "\n",
    "    show_compare([euler_sample, adams1_sample, adams2_sample, adams3_sample, adams4_sample])"
   ]
  },
  {
   "cell_type": "code",
   "execution_count": null,
   "metadata": {},
   "outputs": [],
   "source": []
  },
  {
   "cell_type": "code",
   "execution_count": null,
   "metadata": {},
   "outputs": [],
   "source": []
  },
  {
   "cell_type": "code",
   "execution_count": null,
   "metadata": {},
   "outputs": [],
   "source": []
  }
 ],
 "metadata": {
  "kernelspec": {
   "display_name": "sana",
   "language": "python",
   "name": "python3"
  },
  "language_info": {
   "codemirror_mode": {
    "name": "ipython",
    "version": 3
   },
   "file_extension": ".py",
   "mimetype": "text/x-python",
   "name": "python",
   "nbconvert_exporter": "python",
   "pygments_lexer": "ipython3",
   "version": "3.10.0"
  }
 },
 "nbformat": 4,
 "nbformat_minor": 2
}
