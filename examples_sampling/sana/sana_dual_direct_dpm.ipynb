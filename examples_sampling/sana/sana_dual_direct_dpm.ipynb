{
 "cells": [
  {
   "cell_type": "code",
   "execution_count": 1,
   "metadata": {},
   "outputs": [],
   "source": [
    "import os \n",
    "os.chdir('../../')"
   ]
  },
  {
   "cell_type": "code",
   "execution_count": 2,
   "metadata": {},
   "outputs": [
    {
     "name": "stderr",
     "output_type": "stream",
     "text": [
      "/home/scpark/miniconda3/envs/sana/lib/python3.10/site-packages/tqdm/auto.py:21: TqdmWarning: IProgress not found. Please update jupyter and ipywidgets. See https://ipywidgets.readthedocs.io/en/stable/user_install.html\n",
      "  from .autonotebook import tqdm as notebook_tqdm\n",
      "/home/scpark/miniconda3/envs/sana/lib/python3.10/site-packages/xformers/ops/fmha/flash.py:211: FutureWarning: `torch.library.impl_abstract` was renamed to `torch.library.register_fake`. Please use that instead; we will remove `torch.library.impl_abstract` in a future version of PyTorch.\n",
      "  @torch.library.impl_abstract(\"xformers_flash::flash_fwd\")\n",
      "/home/scpark/miniconda3/envs/sana/lib/python3.10/site-packages/xformers/ops/fmha/flash.py:344: FutureWarning: `torch.library.impl_abstract` was renamed to `torch.library.register_fake`. Please use that instead; we will remove `torch.library.impl_abstract` in a future version of PyTorch.\n",
      "  @torch.library.impl_abstract(\"xformers_flash::flash_bwd\")\n"
     ]
    },
    {
     "name": "stderr",
     "output_type": "stream",
     "text": [
      "Loading checkpoint shards: 100%|██████████| 2/2 [00:00<00:00,  9.81it/s]it/s]\n",
      "Loading pipeline components...: 100%|██████████| 5/5 [00:01<00:00,  4.57it/s]\n"
     ]
    },
    {
     "name": "stdout",
     "output_type": "stream",
     "text": [
      "<backbones.sana.SANA object at 0x75a66004f550>\n"
     ]
    }
   ],
   "source": [
    "from backbones.sana import SANA\n",
    "\n",
    "# 사용 예\n",
    "model = SANA()\n",
    "print(model)"
   ]
  },
  {
   "cell_type": "code",
   "execution_count": 3,
   "metadata": {},
   "outputs": [],
   "source": [
    "import matplotlib.pyplot as plt\n",
    "\n",
    "def show_compare(euler_img, dpm_img, unipc_img):\n",
    "    fig, axes = plt.subplots(1, 3, figsize=(18, 10))\n",
    "    axes[0].imshow(euler_img); axes[0].axis('off'); axes[0].set_title('Euler')\n",
    "    axes[1].imshow(dpm_img);  axes[1].axis('off'); axes[1].set_title('DPM-Solver')\n",
    "    axes[2].imshow(unipc_img);  axes[2].axis('off'); axes[2].set_title('Dual Log DPM-Solver')\n",
    "    plt.tight_layout()\n",
    "    plt.show()\n"
   ]
  },
  {
   "cell_type": "code",
   "execution_count": 4,
   "metadata": {},
   "outputs": [
    {
     "data": {
      "text/plain": [
       "['Athletes sitting on bench at sideline during game.',\n",
       " 'A couple sits together on a bench next to the water. ',\n",
       " 'The horses are all behind the barbwire fencing.',\n",
       " 'A man with a polka dotted tie, dress shirt and wool sweater on.',\n",
       " 'an elephant in a field of tall grass with trees in the background',\n",
       " 'two people standing near one another playing nintendo wii',\n",
       " 'Four bowls filled with different types of foods on top of a table.',\n",
       " 'An image of boats, and ferries on water.',\n",
       " 'A very  big kitchen with very bright colors and nice lighting.',\n",
       " 'A gray train moving down the tracks with great speed.']"
      ]
     },
     "execution_count": 4,
     "metadata": {},
     "output_type": "execute_result"
    }
   ],
   "source": [
    "import numpy as np\n",
    "\n",
    "prompts = np.load('prompts/mscoco2017.npz')['arr_0']\n",
    "prompts = [str(p) for p in prompts[:10]]\n",
    "prompts"
   ]
  },
  {
   "cell_type": "code",
   "execution_count": 5,
   "metadata": {},
   "outputs": [
    {
     "name": "stderr",
     "output_type": "stream",
     "text": [
      "  4%|▎         | 7/200 [00:04<02:25,  1.32it/s]"
     ]
    },
    {
     "name": "stderr",
     "output_type": "stream",
     "text": [
      "100%|██████████| 200/200 [02:34<00:00,  1.29it/s]\n"
     ]
    }
   ],
   "source": [
    "from solvers.euler_solver import Euler_Solver\n",
    "from solvers.dpm_solver import DPM_Solver\n",
    "from solvers.dual.dual_direct_dpm_solver import Dual_Direct_DPM_Solver\n",
    "\n",
    "model_fn, noise_schedule, latents = model.get_model_fn(pos_conds=prompts, guidance_scale=4.5)\n",
    "\n",
    "solver = Euler_Solver(model_fn, noise_schedule, algorithm_type='vector_prediction')\n",
    "euler_latents = solver.sample(latents, steps=200, skip_type='time_uniform_flow', flow_shift=3.0)"
   ]
  },
  {
   "cell_type": "code",
   "execution_count": 6,
   "metadata": {},
   "outputs": [
    {
     "name": "stdout",
     "output_type": "stream",
     "text": [
      "NFE : 3\n",
      "0.8353796005249023\n",
      "0.8995088934898376\n",
      "NFE : 5\n",
      "0.5819185972213745\n",
      "0.6929311156272888\n",
      "NFE : 6\n",
      "0.4880281090736389\n",
      "0.6629481911659241\n",
      "NFE : 8\n",
      "0.36159461736679077\n",
      "0.5321329832077026\n",
      "NFE : 10\n",
      "0.27352744340896606\n",
      "0.4360663592815399\n",
      "NFE : 15\n",
      "0.20011790096759796\n",
      "0.2416311353445053\n",
      "NFE : 20\n",
      "0.0867912694811821\n",
      "0.12411351501941681\n",
      "NFE : 25\n",
      "0.04295635223388672\n",
      "0.03335348144173622\n",
      "NFE : 30\n",
      "0.032335031777620316\n",
      "0.03713865205645561\n"
     ]
    }
   ],
   "source": [
    "import torch.nn.functional as F\n",
    "\n",
    "for NFE in [3, 5, 6, 8, 10, 15, 20, 25, 30]:\n",
    "    solver = DPM_Solver(model_fn, noise_schedule, algorithm_type='data_prediction')\n",
    "    dpm1_latents = solver.sample(latents, steps=NFE, order=2, skip_type=\"time_uniform_flow\", method=\"multistep\", flow_shift=3.0)\n",
    "    \n",
    "    solver = Dual_Direct_DPM_Solver(model_fn, noise_schedule, algorithm_type='dual_prediction')\n",
    "    dpm2_latents = solver.sample(latents, steps=NFE, order=2, skip_type=\"time_uniform_flow\", method=\"multistep\", flow_shift=3.0)\n",
    "    \n",
    "    print('NFE :', NFE)\n",
    "    print(F.mse_loss(euler_latents, dpm1_latents).item())\n",
    "    print(F.mse_loss(euler_latents, dpm2_latents).item())"
   ]
  },
  {
   "cell_type": "code",
   "execution_count": null,
   "metadata": {},
   "outputs": [],
   "source": []
  },
  {
   "cell_type": "code",
   "execution_count": null,
   "metadata": {},
   "outputs": [],
   "source": []
  }
 ],
 "metadata": {
  "kernelspec": {
   "display_name": "sana",
   "language": "python",
   "name": "python3"
  },
  "language_info": {
   "codemirror_mode": {
    "name": "ipython",
    "version": 3
   },
   "file_extension": ".py",
   "mimetype": "text/x-python",
   "name": "python",
   "nbconvert_exporter": "python",
   "pygments_lexer": "ipython3",
   "version": "3.10.0"
  }
 },
 "nbformat": 4,
 "nbformat_minor": 2
}
