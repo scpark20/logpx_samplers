{
 "cells": [
  {
   "cell_type": "markdown",
   "id": "8ef452ba",
   "metadata": {},
   "source": [
    "### Create .npz file"
   ]
  },
  {
   "cell_type": "code",
   "execution_count": 6,
   "id": "fc44ce97",
   "metadata": {},
   "outputs": [],
   "source": [
    "import json, random\n",
    "import numpy as np\n",
    "\n",
    "def load_and_shuffle_coco_captions(path, seed=42, size=50000):\n",
    "    with open(path, 'r', encoding='utf-8') as f:\n",
    "        data = json.load(f)\n",
    "    prompts = [ann['caption'] for ann in data['annotations']]\n",
    "    random.seed(seed)\n",
    "    random.shuffle(prompts)\n",
    "    return prompts[:size]\n",
    "\n",
    "subset = load_and_shuffle_coco_captions('/home/scpark/mscoco/annotations/captions_train2017.json', size=50000)\n",
    "np.savez_compressed('mscoco2017.npz', subset)"
   ]
  },
  {
   "cell_type": "markdown",
   "id": "7d744f76",
   "metadata": {},
   "source": [
    "### Load"
   ]
  },
  {
   "cell_type": "code",
   "execution_count": null,
   "id": "56a4d69e",
   "metadata": {},
   "outputs": [
    {
     "data": {
      "text/plain": [
       "['Athletes sitting on bench at sideline during game.',\n",
       " 'A couple sits together on a bench next to the water. ',\n",
       " 'The horses are all behind the barbwire fencing.',\n",
       " 'A man with a polka dotted tie, dress shirt and wool sweater on.',\n",
       " 'an elephant in a field of tall grass with trees in the background']"
      ]
     },
     "execution_count": 5,
     "metadata": {},
     "output_type": "execute_result"
    }
   ],
   "source": [
    "import numpy as np\n",
    "data = np.load('mscoco2017.npz')['arr_0'].tolist()\n",
    "data[:5]"
   ]
  }
 ],
 "metadata": {
  "kernelspec": {
   "display_name": "sana",
   "language": "python",
   "name": "python3"
  },
  "language_info": {
   "codemirror_mode": {
    "name": "ipython",
    "version": 3
   },
   "file_extension": ".py",
   "mimetype": "text/x-python",
   "name": "python",
   "nbconvert_exporter": "python",
   "pygments_lexer": "ipython3",
   "version": "3.10.0"
  }
 },
 "nbformat": 4,
 "nbformat_minor": 5
}
