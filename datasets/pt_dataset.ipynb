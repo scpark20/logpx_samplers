{
 "cells": [
  {
   "cell_type": "code",
   "execution_count": 6,
   "id": "b9beae67",
   "metadata": {},
   "outputs": [],
   "source": [
    "import os\n",
    "os.chdir('../')"
   ]
  },
  {
   "cell_type": "code",
   "execution_count": 20,
   "id": "978294aa",
   "metadata": {},
   "outputs": [
    {
     "data": {
      "text/plain": [
       "1250"
      ]
     },
     "execution_count": 20,
     "metadata": {},
     "output_type": "execute_result"
    }
   ],
   "source": [
    "import os, glob, torch\n",
    "from torch.utils.data import Dataset, DataLoader\n",
    "\n",
    "class PtDataset(Dataset):\n",
    "    def __init__(self, pt_dir):\n",
    "        self.files = sorted(\n",
    "            glob.glob(os.path.join(pt_dir, '*.pt')),\n",
    "            key=lambda f: int(os.path.splitext(os.path.basename(f))[0])\n",
    "        )\n",
    "\n",
    "    def __len__(self):\n",
    "        return len(self.files)\n",
    "\n",
    "    def __getitem__(self, idx):\n",
    "        data = torch.load(self.files[idx])\n",
    "        return data\n",
    "\n",
    "dataset = PtDataset('samplings/dit/train/dit_train_0')\n",
    "len(dataset)"
   ]
  },
  {
   "cell_type": "code",
   "execution_count": 19,
   "id": "19c964c6",
   "metadata": {},
   "outputs": [
    {
     "name": "stdout",
     "output_type": "stream",
     "text": [
      "torch.Size([4, 32, 32])\n",
      "1\n",
      "torch.Size([4, 32, 32])\n"
     ]
    }
   ],
   "source": [
    "index = 1\n",
    "print(dataset[index]['noise'].shape)\n",
    "print(dataset[index]['cond'])\n",
    "print(dataset[index]['sample'].shape)"
   ]
  },
  {
   "cell_type": "code",
   "execution_count": null,
   "id": "9c01330e",
   "metadata": {},
   "outputs": [],
   "source": []
  }
 ],
 "metadata": {
  "kernelspec": {
   "display_name": "rbf",
   "language": "python",
   "name": "python3"
  },
  "language_info": {
   "codemirror_mode": {
    "name": "ipython",
    "version": 3
   },
   "file_extension": ".py",
   "mimetype": "text/x-python",
   "name": "python",
   "nbconvert_exporter": "python",
   "pygments_lexer": "ipython3",
   "version": "3.11.10"
  }
 },
 "nbformat": 4,
 "nbformat_minor": 5
}
