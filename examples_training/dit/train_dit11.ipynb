{
 "cells": [
  {
   "cell_type": "code",
   "execution_count": 1,
   "id": "eb41a41f",
   "metadata": {},
   "outputs": [
    {
     "name": "stdout",
     "output_type": "stream",
     "text": [
      "Sun Aug 10 02:50:27 2025       \n",
      "+-----------------------------------------------------------------------------------------+\n",
      "| NVIDIA-SMI 550.54.15              Driver Version: 550.54.15      CUDA Version: 12.4     |\n",
      "|-----------------------------------------+------------------------+----------------------+\n",
      "| GPU  Name                 Persistence-M | Bus-Id          Disp.A | Volatile Uncorr. ECC |\n",
      "| Fan  Temp   Perf          Pwr:Usage/Cap |           Memory-Usage | GPU-Util  Compute M. |\n",
      "|                                         |                        |               MIG M. |\n",
      "|=========================================+========================+======================|\n",
      "|   0  NVIDIA GeForce RTX 4090        Off |   00000000:19:00.0 Off |                  Off |\n",
      "|  0%   75C    P8             56W /  450W |      11MiB /  24564MiB |      0%      Default |\n",
      "|                                         |                        |                  N/A |\n",
      "+-----------------------------------------+------------------------+----------------------+\n",
      "|   1  NVIDIA GeForce RTX 4090        Off |   00000000:68:00.0 Off |                  Off |\n",
      "| 84%   80C    P8             68W /  450W |      28MiB /  24564MiB |      0%      Default |\n",
      "|                                         |                        |                  N/A |\n",
      "+-----------------------------------------+------------------------+----------------------+\n",
      "                                                                                         \n",
      "+-----------------------------------------------------------------------------------------+\n",
      "| Processes:                                                                              |\n",
      "|  GPU   GI   CI        PID   Type   Process name                              GPU Memory |\n",
      "|        ID   ID                                                               Usage      |\n",
      "|=========================================================================================|\n",
      "|    0   N/A  N/A      1303      G   /usr/lib/xorg/Xorg                              4MiB |\n",
      "|    1   N/A  N/A      1303      G   /usr/lib/xorg/Xorg                              9MiB |\n",
      "|    1   N/A  N/A      1585      G   /usr/bin/gnome-shell                            8MiB |\n",
      "+-----------------------------------------------------------------------------------------+\n"
     ]
    }
   ],
   "source": [
    "import os \n",
    "os.chdir('../../')\n",
    "os.environ[\"DPM_TQDM\"] = \"False\"\n",
    "os.environ[\"CUDA_VISIBLE_DEVICES\"]=\"0\"\n",
    "\n",
    "!nvidia-smi"
   ]
  },
  {
   "cell_type": "code",
   "execution_count": 2,
   "id": "56d1cbf6",
   "metadata": {},
   "outputs": [
    {
     "name": "stderr",
     "output_type": "stream",
     "text": [
      "/home/scpark/miniconda3/envs/rbf/lib/python3.11/site-packages/tqdm/auto.py:21: TqdmWarning: IProgress not found. Please update jupyter and ipywidgets. See https://ipywidgets.readthedocs.io/en/stable/user_install.html\n",
      "  from .autonotebook import tqdm as notebook_tqdm\n",
      "Loading pipeline components...:   0%|          | 0/3 [00:00<?, ?it/s]An error occurred while trying to fetch /home/scpark/.cache/huggingface/hub/models--facebook--DiT-XL-2-256/snapshots/eab87f77abd5aef071a632f08807fbaab0b704d0/vae: Error no file named diffusion_pytorch_model.safetensors found in directory /home/scpark/.cache/huggingface/hub/models--facebook--DiT-XL-2-256/snapshots/eab87f77abd5aef071a632f08807fbaab0b704d0/vae.\n",
      "Defaulting to unsafe serialization. Pass `allow_pickle=False` to raise an error instead.\n",
      "Loading pipeline components...:  33%|███▎      | 1/3 [00:00<00:00,  6.91it/s]An error occurred while trying to fetch /home/scpark/.cache/huggingface/hub/models--facebook--DiT-XL-2-256/snapshots/eab87f77abd5aef071a632f08807fbaab0b704d0/transformer: Error no file named diffusion_pytorch_model.safetensors found in directory /home/scpark/.cache/huggingface/hub/models--facebook--DiT-XL-2-256/snapshots/eab87f77abd5aef071a632f08807fbaab0b704d0/transformer.\n",
      "Defaulting to unsafe serialization. Pass `allow_pickle=False` to raise an error instead.\n",
      "Loading pipeline components...: 100%|██████████| 3/3 [00:00<00:00,  3.76it/s]\n",
      "Expected types for id2label: (typing.Dict[int, str], <class 'NoneType'>), got typing.Dict[str, str].\n"
     ]
    },
    {
     "name": "stdout",
     "output_type": "stream",
     "text": [
      "<backbones.dit.DiT object at 0x7fd0842f1cd0>\n",
      "len(train_dataset) : 10000 len(valid_dataset) : 1000\n",
      "done\n",
      "done\n"
     ]
    }
   ],
   "source": [
    "### Config\n",
    "from easydict import EasyDict\n",
    "\n",
    "config = EasyDict()\n",
    "config.backbone = 'DiT'\n",
    "config.train_pt_dir = 'samplings/dit/train/dit_train_0_trajdrop'\n",
    "config.valid_pt_dir = 'samplings/dit/eval1000/dit_eval1000_3'\n",
    "config.batch_size = 10\n",
    "config.CFG = 1.375\n",
    "config.epochs = 10\n",
    "config.val_every = 100\n",
    "config.log_dir = \"logs/exp11\"\n",
    "\n",
    "### Model\n",
    "from backbones.dit import DiT\n",
    "\n",
    "if config.backbone == 'DiT':\n",
    "    model = DiT(trainable=True)\n",
    "print(model)\n",
    "\n",
    "\n",
    "### Dataset\n",
    "from datasets.pt_dataset import PtDataset\n",
    "from torch.utils.data import DataLoader\n",
    "\n",
    "train_dataset = PtDataset(config.train_pt_dir)\n",
    "valid_dataset = PtDataset(config.valid_pt_dir)\n",
    "print('len(train_dataset) :', len(train_dataset), 'len(valid_dataset) :', len(valid_dataset))\n",
    "train_loader = DataLoader(train_dataset, batch_size=config.batch_size, shuffle=True, num_workers=8, pin_memory=True, persistent_workers=True, prefetch_factor=4)\n",
    "valid_loader = DataLoader(valid_dataset, batch_size=config.batch_size, shuffle=False)\n",
    "print('done')\n",
    "\n",
    "### Solver\n",
    "import torch\n",
    "from solvers.dual.static.gdual_coeff2_solver import GDual_Coeff2_Solver\n",
    "from torch.utils.tensorboard import SummaryWriter\n",
    "\n",
    "noise_schedule = model.get_noise_schedule()\n",
    "solver = GDual_Coeff2_Solver(noise_schedule, steps=5, skip_type=\"time_uniform\")\n",
    "solver = solver.to(model.device)\n",
    "optimizer = torch.optim.AdamW(solver.parameters(), lr=1e-3)\n",
    "print('done')"
   ]
  },
  {
   "cell_type": "code",
   "execution_count": 3,
   "id": "2e600372",
   "metadata": {},
   "outputs": [
    {
     "name": "stdout",
     "output_type": "stream",
     "text": [
      "done\n"
     ]
    }
   ],
   "source": [
    "import numpy as np\n",
    "import torch.nn.functional as F\n",
    "from tqdm import tqdm\n",
    "\n",
    "def get_valid_loss(device, solver):\n",
    "    solver.eval()\n",
    "    losses = []\n",
    "    for batch in tqdm(valid_loader):\n",
    "        with torch.no_grad():\n",
    "            noises, conds, targets = batch['noise'].to(device, non_blocking=True), batch['cond'], batch['sample'].to(device, non_blocking=True)\n",
    "            model_fn = model.get_model_fn(noise_schedule, pos_conds=conds, guidance_scale=config.CFG)\n",
    "            pred = solver.sample(noises, model_fn)\n",
    "            loss = F.mse_loss(pred, targets)\n",
    "            losses.append(loss.item())\n",
    "    return np.mean(losses)\n",
    "    \n",
    "def do_train_loop(device, epoch, writer, solver):\n",
    "    solver.train()\n",
    "    pbar = tqdm(train_loader)\n",
    "    losses = []\n",
    "    for step, batch in enumerate(pbar):\n",
    "        global_step = epoch * len(train_loader) + step\n",
    "        if global_step % config.val_every == 0:\n",
    "            valid_loss = get_valid_loss(device, solver)\n",
    "            print('step :', global_step, 'valid_loss :', valid_loss)\n",
    "            writer.add_scalar(\"valid/loss\", valid_loss, global_step)\n",
    "            save_checkpoint(global_step, config.log_dir, solver, valid_loss)\n",
    "\n",
    "        optimizer.zero_grad(set_to_none=True)\n",
    "        noises, conds, targets = batch['noise'].to(device, non_blocking=True), batch['cond'], batch['sample'].to(device, non_blocking=True)\n",
    "        model_fn = model.get_model_fn(noise_schedule, pos_conds=conds, guidance_scale=config.CFG)\n",
    "\n",
    "        with torch.autocast(device_type='cuda', dtype=torch.bfloat16):\n",
    "            pred = solver.sample(noises, model_fn)\n",
    "            loss = F.mse_loss(pred, targets)\n",
    "\n",
    "        loss.backward()\n",
    "        torch.nn.utils.clip_grad_norm_(solver.parameters(), 1.0)\n",
    "        optimizer.step()\n",
    "\n",
    "        losses.append(loss.item())\n",
    "        pbar.set_postfix({'loss': loss.item()})\n",
    "        \n",
    "    return np.mean(losses)\n",
    "\n",
    "def save_checkpoint(global_step, save_dir, solver, valid_loss):\n",
    "    ckpt = {\n",
    "        \"global_step\": global_step,\n",
    "        \"solver_state_dict\": solver.state_dict(),\n",
    "        \"valid_loss\": float(valid_loss),\n",
    "        \"config\": dict(config),\n",
    "    }\n",
    "    step_path = os.path.join(save_dir, f\"step_{global_step:08d}.pt\")\n",
    "    torch.save(ckpt, step_path)\n",
    "    \n",
    "    return step_path    \n",
    "\n",
    "print('done')"
   ]
  },
  {
   "cell_type": "markdown",
   "id": "3bf948e3",
   "metadata": {},
   "source": [
    "### Train Loop"
   ]
  },
  {
   "cell_type": "code",
   "execution_count": null,
   "id": "1e6abf95",
   "metadata": {},
   "outputs": [
    {
     "name": "stderr",
     "output_type": "stream",
     "text": [
      "100%|██████████| 100/100 [00:25<00:00,  3.87it/s]\n"
     ]
    },
    {
     "name": "stdout",
     "output_type": "stream",
     "text": [
      "step : 0 valid_loss : 0.8954178720712662\n"
     ]
    },
    {
     "name": "stderr",
     "output_type": "stream",
     "text": [
      "100%|██████████| 100/100 [00:24<00:00,  4.05it/s], loss=0.958]\n"
     ]
    },
    {
     "name": "stdout",
     "output_type": "stream",
     "text": [
      "step : 100 valid_loss : 0.8613730448484421\n"
     ]
    },
    {
     "name": "stderr",
     "output_type": "stream",
     "text": [
      "100%|██████████| 100/100 [00:24<00:00,  4.05it/s], loss=0.464]  \n"
     ]
    },
    {
     "name": "stdout",
     "output_type": "stream",
     "text": [
      "step : 200 valid_loss : 0.5256346797943116\n"
     ]
    },
    {
     "name": "stderr",
     "output_type": "stream",
     "text": [
      "100%|██████████| 100/100 [00:25<00:00,  3.98it/s], loss=0.233]  \n"
     ]
    },
    {
     "name": "stdout",
     "output_type": "stream",
     "text": [
      "step : 300 valid_loss : 0.23803266108036042\n"
     ]
    },
    {
     "name": "stderr",
     "output_type": "stream",
     "text": [
      "100%|██████████| 100/100 [00:25<00:00,  3.90it/s], loss=0.155]  \n"
     ]
    },
    {
     "name": "stdout",
     "output_type": "stream",
     "text": [
      "step : 400 valid_loss : 0.1702463436871767\n"
     ]
    },
    {
     "name": "stderr",
     "output_type": "stream",
     "text": [
      "100%|██████████| 100/100 [00:26<00:00,  3.82it/s], loss=0.13]   \n"
     ]
    },
    {
     "name": "stdout",
     "output_type": "stream",
     "text": [
      "step : 500 valid_loss : 0.14142782285809516\n"
     ]
    },
    {
     "name": "stderr",
     "output_type": "stream",
     "text": [
      "100%|██████████| 100/100 [00:27<00:00,  3.61it/s], loss=0.1]    \n"
     ]
    },
    {
     "name": "stdout",
     "output_type": "stream",
     "text": [
      "step : 600 valid_loss : 0.12069486267864704\n"
     ]
    },
    {
     "name": "stderr",
     "output_type": "stream",
     "text": [
      "100%|██████████| 100/100 [00:28<00:00,  3.52it/s], loss=0.119]   \n"
     ]
    },
    {
     "name": "stdout",
     "output_type": "stream",
     "text": [
      "step : 700 valid_loss : 0.10985560283064842\n"
     ]
    },
    {
     "name": "stderr",
     "output_type": "stream",
     "text": [
      "100%|██████████| 100/100 [00:29<00:00,  3.39it/s], loss=0.1]   \n"
     ]
    },
    {
     "name": "stdout",
     "output_type": "stream",
     "text": [
      "step : 800 valid_loss : 0.10481371074914932\n"
     ]
    },
    {
     "name": "stderr",
     "output_type": "stream",
     "text": [
      "100%|██████████| 100/100 [00:29<00:00,  3.35it/s], loss=0.102] \n"
     ]
    },
    {
     "name": "stdout",
     "output_type": "stream",
     "text": [
      "step : 900 valid_loss : 0.1008191865682602\n"
     ]
    },
    {
     "name": "stderr",
     "output_type": "stream",
     "text": [
      "100%|██████████| 1000/1000 [26:47<00:00,  1.61s/it, loss=0.095]\n"
     ]
    },
    {
     "name": "stdout",
     "output_type": "stream",
     "text": [
      "train_loss : 0.2859144819751382\n"
     ]
    },
    {
     "name": "stderr",
     "output_type": "stream",
     "text": [
      "100%|██████████| 100/100 [00:30<00:00,  3.30it/s]\n"
     ]
    },
    {
     "name": "stdout",
     "output_type": "stream",
     "text": [
      "step : 1000 valid_loss : 0.09905460372567176\n"
     ]
    },
    {
     "name": "stderr",
     "output_type": "stream",
     "text": [
      "100%|██████████| 100/100 [00:30<00:00,  3.27it/s], loss=0.0671]\n"
     ]
    },
    {
     "name": "stdout",
     "output_type": "stream",
     "text": [
      "step : 1100 valid_loss : 0.09643468622118234\n"
     ]
    },
    {
     "name": "stderr",
     "output_type": "stream",
     "text": [
      "100%|██████████| 100/100 [00:30<00:00,  3.26it/s], loss=0.0998]  \n"
     ]
    },
    {
     "name": "stdout",
     "output_type": "stream",
     "text": [
      "step : 1200 valid_loss : 0.09486889738589525\n"
     ]
    },
    {
     "name": "stderr",
     "output_type": "stream",
     "text": [
      "100%|██████████| 100/100 [00:30<00:00,  3.25it/s], loss=0.109]   \n"
     ]
    },
    {
     "name": "stdout",
     "output_type": "stream",
     "text": [
      "step : 1300 valid_loss : 0.0934385309368372\n"
     ]
    },
    {
     "name": "stderr",
     "output_type": "stream",
     "text": [
      "100%|██████████| 100/100 [00:30<00:00,  3.25it/s], loss=0.0786]  \n"
     ]
    },
    {
     "name": "stdout",
     "output_type": "stream",
     "text": [
      "step : 1400 valid_loss : 0.09254572451114655\n"
     ]
    },
    {
     "name": "stderr",
     "output_type": "stream",
     "text": [
      "100%|██████████| 100/100 [00:31<00:00,  3.19it/s], loss=0.0792]  \n"
     ]
    },
    {
     "name": "stdout",
     "output_type": "stream",
     "text": [
      "step : 1500 valid_loss : 0.0919451680406928\n"
     ]
    },
    {
     "name": "stderr",
     "output_type": "stream",
     "text": [
      "100%|██████████| 100/100 [00:31<00:00,  3.16it/s], loss=0.0885]  \n"
     ]
    },
    {
     "name": "stdout",
     "output_type": "stream",
     "text": [
      "step : 1600 valid_loss : 0.09115485396236181\n"
     ]
    },
    {
     "name": "stderr",
     "output_type": "stream",
     "text": [
      "100%|██████████| 100/100 [00:32<00:00,  3.11it/s], loss=0.0983]  \n"
     ]
    },
    {
     "name": "stdout",
     "output_type": "stream",
     "text": [
      "step : 1700 valid_loss : 0.0905314028263092\n"
     ]
    },
    {
     "name": "stderr",
     "output_type": "stream",
     "text": [
      "100%|██████████| 100/100 [00:32<00:00,  3.11it/s], loss=0.107] \n"
     ]
    },
    {
     "name": "stdout",
     "output_type": "stream",
     "text": [
      "step : 1800 valid_loss : 0.08994674693793059\n"
     ]
    },
    {
     "name": "stderr",
     "output_type": "stream",
     "text": [
      "100%|██████████| 100/100 [00:31<00:00,  3.14it/s], loss=0.0776]\n"
     ]
    },
    {
     "name": "stdout",
     "output_type": "stream",
     "text": [
      "step : 1900 valid_loss : 0.08939592998474837\n"
     ]
    },
    {
     "name": "stderr",
     "output_type": "stream",
     "text": [
      " 92%|█████████▏| 920/1000 [28:54<02:11,  1.64s/it, loss=0.117] "
     ]
    }
   ],
   "source": [
    "writer = SummaryWriter(log_dir=config.log_dir)\n",
    "\n",
    "for epoch in range(config.epochs):\n",
    "    train_loss = do_train_loop(model.device, epoch, writer, solver)\n",
    "    print('train_loss :', train_loss)\n",
    "\n",
    "writer.close()    "
   ]
  },
  {
   "cell_type": "code",
   "execution_count": null,
   "id": "8715013b",
   "metadata": {},
   "outputs": [],
   "source": []
  },
  {
   "cell_type": "markdown",
   "id": "10093e42",
   "metadata": {},
   "source": []
  },
  {
   "cell_type": "code",
   "execution_count": null,
   "id": "01f96ec9",
   "metadata": {},
   "outputs": [],
   "source": []
  },
  {
   "cell_type": "code",
   "execution_count": null,
   "id": "63b32b30",
   "metadata": {},
   "outputs": [],
   "source": []
  }
 ],
 "metadata": {
  "kernelspec": {
   "display_name": "rbf",
   "language": "python",
   "name": "python3"
  },
  "language_info": {
   "codemirror_mode": {
    "name": "ipython",
    "version": 3
   },
   "file_extension": ".py",
   "mimetype": "text/x-python",
   "name": "python",
   "nbconvert_exporter": "python",
   "pygments_lexer": "ipython3",
   "version": "3.11.10"
  }
 },
 "nbformat": 4,
 "nbformat_minor": 5
}
