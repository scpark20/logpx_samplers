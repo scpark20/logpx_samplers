{
 "cells": [
  {
   "cell_type": "code",
   "execution_count": null,
   "id": "eb41a41f",
   "metadata": {},
   "outputs": [],
   "source": [
    "import os \n",
    "os.chdir('../../')\n",
    "os.environ[\"DPM_TQDM\"] = \"False\"\n",
    "os.environ[\"CUDA_VISIBLE_DEVICES\"]=\"0\"\n",
    "\n",
    "!nvidia-smi"
   ]
  },
  {
   "cell_type": "code",
   "execution_count": 2,
   "id": "56d1cbf6",
   "metadata": {},
   "outputs": [
    {
     "name": "stderr",
     "output_type": "stream",
     "text": [
      "Loading pipeline components...:   0%|          | 0/3 [00:00<?, ?it/s]An error occurred while trying to fetch /home/scpark/.cache/huggingface/hub/models--facebook--DiT-XL-2-256/snapshots/eab87f77abd5aef071a632f08807fbaab0b704d0/vae: Error no file named diffusion_pytorch_model.safetensors found in directory /home/scpark/.cache/huggingface/hub/models--facebook--DiT-XL-2-256/snapshots/eab87f77abd5aef071a632f08807fbaab0b704d0/vae.\n",
      "Defaulting to unsafe serialization. Pass `allow_pickle=False` to raise an error instead.\n",
      "Loading pipeline components...:  33%|███▎      | 1/3 [00:00<00:00,  9.11it/s]An error occurred while trying to fetch /home/scpark/.cache/huggingface/hub/models--facebook--DiT-XL-2-256/snapshots/eab87f77abd5aef071a632f08807fbaab0b704d0/transformer: Error no file named diffusion_pytorch_model.safetensors found in directory /home/scpark/.cache/huggingface/hub/models--facebook--DiT-XL-2-256/snapshots/eab87f77abd5aef071a632f08807fbaab0b704d0/transformer.\n",
      "Defaulting to unsafe serialization. Pass `allow_pickle=False` to raise an error instead.\n",
      "Loading pipeline components...: 100%|██████████| 3/3 [00:00<00:00,  6.80it/s]\n",
      "Expected types for id2label: (typing.Dict[int, str], <class 'NoneType'>), got typing.Dict[str, str].\n"
     ]
    },
    {
     "name": "stdout",
     "output_type": "stream",
     "text": [
      "<backbones.dit.DiT object at 0x7f4cf6260890>\n",
      "len(train_dataset) : 10000 len(valid_dataset) : 1000\n",
      "done\n",
      "done\n"
     ]
    }
   ],
   "source": [
    "### Config\n",
    "from easydict import EasyDict\n",
    "\n",
    "config = EasyDict()\n",
    "config.backbone = 'DiT'\n",
    "config.train_pt_dir = 'samplings/dit/train/dit_train_0_trajdrop'\n",
    "config.valid_pt_dir = 'samplings/dit/eval1000/dit_eval1000_3'\n",
    "config.batch_size = 10\n",
    "config.CFG = 1.375\n",
    "config.epochs = 10\n",
    "config.val_every = 100\n",
    "config.log_dir = \"logs/exp13\"\n",
    "\n",
    "### Model\n",
    "from backbones.dit import DiT\n",
    "\n",
    "if config.backbone == 'DiT':\n",
    "    model = DiT(trainable=True)\n",
    "print(model)\n",
    "\n",
    "\n",
    "### Dataset\n",
    "from datasets.pt_dataset import PtDataset\n",
    "from torch.utils.data import DataLoader\n",
    "\n",
    "train_dataset = PtDataset(config.train_pt_dir)\n",
    "valid_dataset = PtDataset(config.valid_pt_dir)\n",
    "print('len(train_dataset) :', len(train_dataset), 'len(valid_dataset) :', len(valid_dataset))\n",
    "train_loader = DataLoader(train_dataset, batch_size=config.batch_size, shuffle=True, num_workers=8, pin_memory=True, persistent_workers=True, prefetch_factor=4)\n",
    "valid_loader = DataLoader(valid_dataset, batch_size=config.batch_size, shuffle=False)\n",
    "print('done')\n",
    "\n",
    "### Solver\n",
    "import torch\n",
    "from solvers.dual.static.time.gdual_time_pc_loglinear_solver import GDual_Time_PC_LogLinear_Solver\n",
    "from torch.utils.tensorboard import SummaryWriter\n",
    "\n",
    "noise_schedule = model.get_noise_schedule()\n",
    "solver = GDual_Time_PC_LogLinear_Solver(noise_schedule, steps=5, skip_type=\"time_uniform\", param_dim=(4, 1, 1))\n",
    "solver = solver.to(model.device)\n",
    "optimizer = torch.optim.AdamW(solver.parameters(), lr=1e-3)\n",
    "print('done')"
   ]
  },
  {
   "cell_type": "code",
   "execution_count": 3,
   "id": "2e600372",
   "metadata": {},
   "outputs": [
    {
     "name": "stdout",
     "output_type": "stream",
     "text": [
      "done\n"
     ]
    }
   ],
   "source": [
    "import numpy as np\n",
    "import torch.nn.functional as F\n",
    "from tqdm import tqdm\n",
    "\n",
    "def get_valid_loss(device, solver):\n",
    "    solver.eval()\n",
    "    losses = []\n",
    "    for batch in tqdm(valid_loader):\n",
    "        with torch.no_grad():\n",
    "            noises, conds, targets = batch['noise'].to(device, non_blocking=True), batch['cond'], batch['sample'].to(device, non_blocking=True)\n",
    "            model_fn = model.get_model_fn(noise_schedule, pos_conds=conds, guidance_scale=config.CFG)\n",
    "            pred = solver.sample(noises, model_fn)\n",
    "            loss = F.mse_loss(pred, targets)\n",
    "            losses.append(loss.item())\n",
    "    return np.mean(losses)\n",
    "    \n",
    "def do_train_loop(device, epoch, writer, solver):\n",
    "    solver.train()\n",
    "    pbar = tqdm(train_loader)\n",
    "    losses = []\n",
    "    for step, batch in enumerate(pbar):\n",
    "        global_step = epoch * len(train_loader) + step\n",
    "        if global_step % config.val_every == 0:\n",
    "            valid_loss = get_valid_loss(device, solver)\n",
    "            print('step :', global_step, 'valid_loss :', valid_loss)\n",
    "            writer.add_scalar(\"valid/loss\", valid_loss, global_step)\n",
    "            save_checkpoint(global_step, config.log_dir, solver, valid_loss)\n",
    "\n",
    "        optimizer.zero_grad(set_to_none=True)\n",
    "        noises, conds, targets = batch['noise'].to(device, non_blocking=True), batch['cond'], batch['sample'].to(device, non_blocking=True)\n",
    "        model_fn = model.get_model_fn(noise_schedule, pos_conds=conds, guidance_scale=config.CFG)\n",
    "\n",
    "        with torch.autocast(device_type='cuda', dtype=torch.bfloat16):\n",
    "            pred = solver.sample(noises, model_fn)\n",
    "            loss = F.mse_loss(pred, targets)\n",
    "\n",
    "        loss.backward()\n",
    "        torch.nn.utils.clip_grad_norm_(solver.parameters(), 1.0)\n",
    "        optimizer.step()\n",
    "\n",
    "        losses.append(loss.item())\n",
    "        pbar.set_postfix({'loss': loss.item()})\n",
    "        \n",
    "    return np.mean(losses)\n",
    "\n",
    "def save_checkpoint(global_step, save_dir, solver, valid_loss):\n",
    "    ckpt = {\n",
    "        \"global_step\": global_step,\n",
    "        \"solver_state_dict\": solver.state_dict(),\n",
    "        \"valid_loss\": float(valid_loss),\n",
    "        \"config\": dict(config),\n",
    "    }\n",
    "    step_path = os.path.join(save_dir, f\"step_{global_step:08d}.pt\")\n",
    "    torch.save(ckpt, step_path)\n",
    "    \n",
    "    return step_path    \n",
    "\n",
    "print('done')"
   ]
  },
  {
   "cell_type": "markdown",
   "id": "3bf948e3",
   "metadata": {},
   "source": [
    "### Train Loop"
   ]
  },
  {
   "cell_type": "code",
   "execution_count": 4,
   "id": "1e6abf95",
   "metadata": {},
   "outputs": [
    {
     "name": "stderr",
     "output_type": "stream",
     "text": [
      "100%|██████████| 100/100 [00:27<00:00,  3.64it/s]\n"
     ]
    },
    {
     "name": "stdout",
     "output_type": "stream",
     "text": [
      "step : 0 valid_loss : 0.1140930750221014\n"
     ]
    },
    {
     "name": "stderr",
     "output_type": "stream",
     "text": [
      "100%|██████████| 100/100 [00:26<00:00,  3.73it/s], loss=0.065] \n"
     ]
    },
    {
     "name": "stdout",
     "output_type": "stream",
     "text": [
      "step : 100 valid_loss : 0.08482537154108286\n"
     ]
    },
    {
     "name": "stderr",
     "output_type": "stream",
     "text": [
      "100%|██████████| 100/100 [00:26<00:00,  3.74it/s], loss=0.0923]  \n"
     ]
    },
    {
     "name": "stdout",
     "output_type": "stream",
     "text": [
      "step : 200 valid_loss : 0.07908805496990681\n"
     ]
    },
    {
     "name": "stderr",
     "output_type": "stream",
     "text": [
      "100%|██████████| 100/100 [00:26<00:00,  3.74it/s], loss=0.088]   \n"
     ]
    },
    {
     "name": "stdout",
     "output_type": "stream",
     "text": [
      "step : 300 valid_loss : 0.07573707185685635\n"
     ]
    },
    {
     "name": "stderr",
     "output_type": "stream",
     "text": [
      "100%|██████████| 100/100 [00:26<00:00,  3.77it/s], loss=0.0646]  \n"
     ]
    },
    {
     "name": "stdout",
     "output_type": "stream",
     "text": [
      "step : 400 valid_loss : 0.07373451173305512\n"
     ]
    },
    {
     "name": "stderr",
     "output_type": "stream",
     "text": [
      "100%|██████████| 100/100 [00:26<00:00,  3.74it/s], loss=0.089]   \n"
     ]
    },
    {
     "name": "stdout",
     "output_type": "stream",
     "text": [
      "step : 500 valid_loss : 0.07156141437590122\n"
     ]
    },
    {
     "name": "stderr",
     "output_type": "stream",
     "text": [
      "100%|██████████| 100/100 [00:26<00:00,  3.73it/s], loss=0.0679]  \n"
     ]
    },
    {
     "name": "stdout",
     "output_type": "stream",
     "text": [
      "step : 600 valid_loss : 0.07193665198981762\n"
     ]
    },
    {
     "name": "stderr",
     "output_type": "stream",
     "text": [
      "100%|██████████| 100/100 [00:26<00:00,  3.75it/s], loss=0.0632]  \n"
     ]
    },
    {
     "name": "stdout",
     "output_type": "stream",
     "text": [
      "step : 700 valid_loss : 0.07042043197900057\n"
     ]
    },
    {
     "name": "stderr",
     "output_type": "stream",
     "text": [
      "100%|██████████| 100/100 [00:26<00:00,  3.73it/s], loss=0.0902]\n"
     ]
    },
    {
     "name": "stdout",
     "output_type": "stream",
     "text": [
      "step : 800 valid_loss : 0.06998531956225634\n"
     ]
    },
    {
     "name": "stderr",
     "output_type": "stream",
     "text": [
      "100%|██████████| 100/100 [00:26<00:00,  3.72it/s], loss=0.0909]\n"
     ]
    },
    {
     "name": "stdout",
     "output_type": "stream",
     "text": [
      "step : 900 valid_loss : 0.0704512320831418\n"
     ]
    },
    {
     "name": "stderr",
     "output_type": "stream",
     "text": [
      "100%|██████████| 1000/1000 [25:10<00:00,  1.51s/it, loss=0.0412]\n"
     ]
    },
    {
     "name": "stdout",
     "output_type": "stream",
     "text": [
      "train_loss : 0.07615531568974257\n"
     ]
    },
    {
     "name": "stderr",
     "output_type": "stream",
     "text": [
      "100%|██████████| 100/100 [00:26<00:00,  3.72it/s]\n"
     ]
    },
    {
     "name": "stdout",
     "output_type": "stream",
     "text": [
      "step : 1000 valid_loss : 0.07047237001359463\n"
     ]
    },
    {
     "name": "stderr",
     "output_type": "stream",
     "text": [
      "100%|██████████| 100/100 [00:26<00:00,  3.75it/s], loss=0.0731]\n"
     ]
    },
    {
     "name": "stdout",
     "output_type": "stream",
     "text": [
      "step : 1100 valid_loss : 0.06935835927724839\n"
     ]
    },
    {
     "name": "stderr",
     "output_type": "stream",
     "text": [
      "100%|██████████| 100/100 [00:26<00:00,  3.75it/s], loss=0.0571]  \n"
     ]
    },
    {
     "name": "stdout",
     "output_type": "stream",
     "text": [
      "step : 1200 valid_loss : 0.06914363890886306\n"
     ]
    },
    {
     "name": "stderr",
     "output_type": "stream",
     "text": [
      "100%|██████████| 100/100 [00:26<00:00,  3.77it/s], loss=0.0555]  \n"
     ]
    },
    {
     "name": "stdout",
     "output_type": "stream",
     "text": [
      "step : 1300 valid_loss : 0.07009186170995235\n"
     ]
    },
    {
     "name": "stderr",
     "output_type": "stream",
     "text": [
      "100%|██████████| 100/100 [00:26<00:00,  3.72it/s], loss=0.085]   \n"
     ]
    },
    {
     "name": "stdout",
     "output_type": "stream",
     "text": [
      "step : 1400 valid_loss : 0.07001779638230801\n"
     ]
    },
    {
     "name": "stderr",
     "output_type": "stream",
     "text": [
      "100%|██████████| 100/100 [00:26<00:00,  3.81it/s], loss=0.0706]  \n"
     ]
    },
    {
     "name": "stdout",
     "output_type": "stream",
     "text": [
      "step : 1500 valid_loss : 0.07003508467227221\n"
     ]
    },
    {
     "name": "stderr",
     "output_type": "stream",
     "text": [
      "100%|██████████| 100/100 [00:26<00:00,  3.73it/s], loss=0.0637]  \n"
     ]
    },
    {
     "name": "stdout",
     "output_type": "stream",
     "text": [
      "step : 1600 valid_loss : 0.06997304819524289\n"
     ]
    },
    {
     "name": "stderr",
     "output_type": "stream",
     "text": [
      "100%|██████████| 100/100 [00:26<00:00,  3.79it/s], loss=0.0625]  \n"
     ]
    },
    {
     "name": "stdout",
     "output_type": "stream",
     "text": [
      "step : 1700 valid_loss : 0.06976748995482922\n"
     ]
    },
    {
     "name": "stderr",
     "output_type": "stream",
     "text": [
      " 77%|███████▋  | 767/1000 [19:23<05:53,  1.52s/it, loss=0.0788]\n"
     ]
    },
    {
     "ename": "KeyboardInterrupt",
     "evalue": "",
     "output_type": "error",
     "traceback": [
      "\u001b[31m---------------------------------------------------------------------------\u001b[39m",
      "\u001b[31mKeyboardInterrupt\u001b[39m                         Traceback (most recent call last)",
      "\u001b[36mCell\u001b[39m\u001b[36m \u001b[39m\u001b[32mIn[4]\u001b[39m\u001b[32m, line 4\u001b[39m\n\u001b[32m      1\u001b[39m writer = SummaryWriter(log_dir=config.log_dir)\n\u001b[32m      3\u001b[39m \u001b[38;5;28;01mfor\u001b[39;00m epoch \u001b[38;5;129;01min\u001b[39;00m \u001b[38;5;28mrange\u001b[39m(config.epochs):\n\u001b[32m----> \u001b[39m\u001b[32m4\u001b[39m     train_loss = \u001b[43mdo_train_loop\u001b[49m\u001b[43m(\u001b[49m\u001b[43mmodel\u001b[49m\u001b[43m.\u001b[49m\u001b[43mdevice\u001b[49m\u001b[43m,\u001b[49m\u001b[43m \u001b[49m\u001b[43mepoch\u001b[49m\u001b[43m,\u001b[49m\u001b[43m \u001b[49m\u001b[43mwriter\u001b[49m\u001b[43m,\u001b[49m\u001b[43m \u001b[49m\u001b[43msolver\u001b[49m\u001b[43m)\u001b[49m\n\u001b[32m      5\u001b[39m     \u001b[38;5;28mprint\u001b[39m(\u001b[33m'\u001b[39m\u001b[33mtrain_loss :\u001b[39m\u001b[33m'\u001b[39m, train_loss)\n\u001b[32m      7\u001b[39m writer.close()    \n",
      "\u001b[36mCell\u001b[39m\u001b[36m \u001b[39m\u001b[32mIn[3]\u001b[39m\u001b[32m, line 34\u001b[39m, in \u001b[36mdo_train_loop\u001b[39m\u001b[34m(device, epoch, writer, solver)\u001b[39m\n\u001b[32m     31\u001b[39m model_fn = model.get_model_fn(noise_schedule, pos_conds=conds, guidance_scale=config.CFG)\n\u001b[32m     33\u001b[39m \u001b[38;5;28;01mwith\u001b[39;00m torch.autocast(device_type=\u001b[33m'\u001b[39m\u001b[33mcuda\u001b[39m\u001b[33m'\u001b[39m, dtype=torch.bfloat16):\n\u001b[32m---> \u001b[39m\u001b[32m34\u001b[39m     pred = \u001b[43msolver\u001b[49m\u001b[43m.\u001b[49m\u001b[43msample\u001b[49m\u001b[43m(\u001b[49m\u001b[43mnoises\u001b[49m\u001b[43m,\u001b[49m\u001b[43m \u001b[49m\u001b[43mmodel_fn\u001b[49m\u001b[43m)\u001b[49m\n\u001b[32m     35\u001b[39m     loss = F.mse_loss(pred, targets)\n\u001b[32m     37\u001b[39m loss.backward()\n",
      "\u001b[36mFile \u001b[39m\u001b[32m~/logpx_samplers/solvers/dual/static/time/gdual_time_pc_loglinear_solver.py:181\u001b[39m, in \u001b[36mGDual_Time_PC_LogLinear_Solver.sample\u001b[39m\u001b[34m(self, x, model_fn, **kwargs)\u001b[39m\n\u001b[32m    179\u001b[39m     gamma, tau_x, tau_e, kappa_x, kappa_e = \u001b[38;5;28mself\u001b[39m.params[i][\u001b[32m1\u001b[39m]\n\u001b[32m    180\u001b[39m     tau_x, tau_e = torch.sigmoid(tau_x), torch.sigmoid(tau_e)\n\u001b[32m--> \u001b[39m\u001b[32m181\u001b[39m     x_corr = \u001b[38;5;28;43mself\u001b[39;49m\u001b[43m.\u001b[49m\u001b[43mget_next_sample\u001b[49m\u001b[43m(\u001b[49m\u001b[43mx_corr\u001b[49m\u001b[43m,\u001b[49m\u001b[43m \u001b[49m\u001b[43m(\u001b[49m\u001b[43mxn\u001b[49m\u001b[43m,\u001b[49m\u001b[43m \u001b[49m\u001b[43mxc\u001b[49m\u001b[43m,\u001b[49m\u001b[43m \u001b[49m\u001b[43mxp\u001b[49m\u001b[43m)\u001b[49m\u001b[43m,\u001b[49m\u001b[43m \u001b[49m\u001b[43m(\u001b[49m\u001b[43men\u001b[49m\u001b[43m,\u001b[49m\u001b[43m \u001b[49m\u001b[43mec\u001b[49m\u001b[43m,\u001b[49m\u001b[43m \u001b[49m\u001b[43mep\u001b[49m\u001b[43m)\u001b[49m\u001b[43m,\u001b[49m\u001b[43m \u001b[49m\u001b[43mi\u001b[49m\u001b[43m,\u001b[49m\u001b[43m \u001b[49m\u001b[43malphas\u001b[49m\u001b[43m,\u001b[49m\u001b[43m \u001b[49m\u001b[43msigmas\u001b[49m\u001b[43m,\u001b[49m\u001b[43m \u001b[49m\u001b[43mgamma\u001b[49m\u001b[43m,\u001b[49m\u001b[43m \u001b[49m\u001b[43mtau_x\u001b[49m\u001b[43m,\u001b[49m\u001b[43m \u001b[49m\u001b[43mtau_e\u001b[49m\u001b[43m,\u001b[49m\u001b[43m \u001b[49m\u001b[43mkappa_x\u001b[49m\u001b[43m,\u001b[49m\u001b[43m \u001b[49m\u001b[43mkappa_e\u001b[49m\u001b[43m,\u001b[49m\u001b[43m \u001b[49m\u001b[32;43m2\u001b[39;49m\u001b[43m,\u001b[49m\u001b[43m \u001b[49m\u001b[38;5;28;43mself\u001b[39;49m\u001b[43m.\u001b[49m\u001b[43meps\u001b[49m\u001b[43m,\u001b[49m\u001b[43m \u001b[49m\u001b[43mcorrector\u001b[49m\u001b[43m=\u001b[49m\u001b[38;5;28;43;01mTrue\u001b[39;49;00m\u001b[43m)\u001b[49m\n\u001b[32m    183\u001b[39m     xp = xc; ep = ec; xc = xn; ec = en\n\u001b[32m    185\u001b[39m \u001b[38;5;28;01mreturn\u001b[39;00m x_pred\n",
      "\u001b[36mFile \u001b[39m\u001b[32m~/logpx_samplers/solvers/dual/static/time/gdual_time_pc_loglinear_solver.py:139\u001b[39m, in \u001b[36mGDual_Time_PC_LogLinear_Solver.get_next_sample\u001b[39m\u001b[34m(self, sample, xs, es, i, alphas, sigmas, gamma, tau_x, tau_e, kappa_x, kappa_e, order, eps, corrector)\u001b[39m\n\u001b[32m    137\u001b[39m \u001b[38;5;28;01mif\u001b[39;00m corrector:\n\u001b[32m    138\u001b[39m     X += \u001b[32m0.5\u001b[39m * (xn - xc) * (delta_u/((\u001b[32m1\u001b[39m-tau_x)+tau_x/L_inv_uc) + \u001b[38;5;28mself\u001b[39m.O_delta_square(delta_u, kappa_x, tau_x, L_inv_uc))\n\u001b[32m--> \u001b[39m\u001b[32m139\u001b[39m     E += \u001b[32m0.5\u001b[39m * (en - ec) * (delta_v/((\u001b[32;43m1\u001b[39;49m\u001b[43m-\u001b[49m\u001b[43mtau_e\u001b[49m)+tau_e/L_inv_vc) + \u001b[38;5;28mself\u001b[39m.O_delta_square(delta_v, kappa_e, tau_e, L_inv_vc))\n\u001b[32m    140\u001b[39m \u001b[38;5;28;01melse\u001b[39;00m:\n\u001b[32m    141\u001b[39m     X += \u001b[32m0.5\u001b[39m * (xc - xp) * (delta_u/((\u001b[32m1\u001b[39m-tau_x)+tau_x/L_inv_uc) + \u001b[38;5;28mself\u001b[39m.O_delta_square(delta_u, kappa_x, tau_x, L_inv_uc)) / r_u.clamp_min(eps)\n",
      "\u001b[36mFile \u001b[39m\u001b[32m~/miniconda3/envs/rbf/lib/python3.11/site-packages/torch/_tensor.py:33\u001b[39m, in \u001b[36m_handle_torch_function_and_wrap_type_error_to_not_implemented.<locals>.wrapped\u001b[39m\u001b[34m(*args, **kwargs)\u001b[39m\n\u001b[32m     30\u001b[39m \u001b[38;5;28;01mdef\u001b[39;00m\u001b[38;5;250m \u001b[39m\u001b[34m_handle_torch_function_and_wrap_type_error_to_not_implemented\u001b[39m(f):\n\u001b[32m     31\u001b[39m     assigned = functools.WRAPPER_ASSIGNMENTS\n\u001b[32m---> \u001b[39m\u001b[32m33\u001b[39m     \u001b[38;5;129m@functools\u001b[39m.wraps(f, assigned=assigned)\n\u001b[32m     34\u001b[39m     \u001b[38;5;28;01mdef\u001b[39;00m\u001b[38;5;250m \u001b[39m\u001b[34mwrapped\u001b[39m(*args, **kwargs):\n\u001b[32m     35\u001b[39m         \u001b[38;5;28;01mtry\u001b[39;00m:\n\u001b[32m     36\u001b[39m             \u001b[38;5;66;03m# See https://github.com/pytorch/pytorch/issues/75462\u001b[39;00m\n\u001b[32m     37\u001b[39m             \u001b[38;5;28;01mif\u001b[39;00m has_torch_function(args):\n",
      "\u001b[31mKeyboardInterrupt\u001b[39m: "
     ]
    }
   ],
   "source": [
    "writer = SummaryWriter(log_dir=config.log_dir)\n",
    "\n",
    "for epoch in range(config.epochs):\n",
    "    train_loss = do_train_loop(model.device, epoch, writer, solver)\n",
    "    print('train_loss :', train_loss)\n",
    "\n",
    "writer.close()    "
   ]
  },
  {
   "cell_type": "code",
   "execution_count": null,
   "id": "8715013b",
   "metadata": {},
   "outputs": [],
   "source": []
  },
  {
   "cell_type": "markdown",
   "id": "10093e42",
   "metadata": {},
   "source": []
  },
  {
   "cell_type": "code",
   "execution_count": null,
   "id": "01f96ec9",
   "metadata": {},
   "outputs": [],
   "source": []
  },
  {
   "cell_type": "code",
   "execution_count": null,
   "id": "63b32b30",
   "metadata": {},
   "outputs": [],
   "source": []
  }
 ],
 "metadata": {
  "kernelspec": {
   "display_name": "rbf",
   "language": "python",
   "name": "python3"
  },
  "language_info": {
   "codemirror_mode": {
    "name": "ipython",
    "version": 3
   },
   "file_extension": ".py",
   "mimetype": "text/x-python",
   "name": "python",
   "nbconvert_exporter": "python",
   "pygments_lexer": "ipython3",
   "version": "3.11.10"
  }
 },
 "nbformat": 4,
 "nbformat_minor": 5
}
