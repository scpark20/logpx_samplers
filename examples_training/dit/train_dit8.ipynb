{
 "cells": [
  {
   "cell_type": "code",
   "execution_count": 1,
   "id": "eb41a41f",
   "metadata": {},
   "outputs": [
    {
     "name": "stdout",
     "output_type": "stream",
     "text": [
      "Sun Aug 10 01:47:19 2025       \n",
      "+-----------------------------------------------------------------------------------------+\n",
      "| NVIDIA-SMI 550.54.15              Driver Version: 550.54.15      CUDA Version: 12.4     |\n",
      "|-----------------------------------------+------------------------+----------------------+\n",
      "| GPU  Name                 Persistence-M | Bus-Id          Disp.A | Volatile Uncorr. ECC |\n",
      "| Fan  Temp   Perf          Pwr:Usage/Cap |           Memory-Usage | GPU-Util  Compute M. |\n",
      "|                                         |                        |               MIG M. |\n",
      "|=========================================+========================+======================|\n",
      "|   0  NVIDIA GeForce RTX 4090        Off |   00000000:19:00.0 Off |                  Off |\n",
      "| 89%   88C    P2            329W /  450W |   14283MiB /  24564MiB |     74%      Default |\n",
      "|                                         |                        |                  N/A |\n",
      "+-----------------------------------------+------------------------+----------------------+\n",
      "|   1  NVIDIA GeForce RTX 4090        Off |   00000000:68:00.0 Off |                  Off |\n",
      "| 85%   79C    P8             65W /  450W |      28MiB /  24564MiB |      0%      Default |\n",
      "|                                         |                        |                  N/A |\n",
      "+-----------------------------------------+------------------------+----------------------+\n",
      "                                                                                         \n",
      "+-----------------------------------------------------------------------------------------+\n",
      "| Processes:                                                                              |\n",
      "|  GPU   GI   CI        PID   Type   Process name                              GPU Memory |\n",
      "|        ID   ID                                                               Usage      |\n",
      "|=========================================================================================|\n",
      "|    0   N/A  N/A      1303      G   /usr/lib/xorg/Xorg                              4MiB |\n",
      "|    0   N/A  N/A    160018      C   ...park/miniconda3/envs/rbf/bin/python      14266MiB |\n",
      "|    1   N/A  N/A      1303      G   /usr/lib/xorg/Xorg                              9MiB |\n",
      "|    1   N/A  N/A      1585      G   /usr/bin/gnome-shell                            8MiB |\n",
      "+-----------------------------------------------------------------------------------------+\n"
     ]
    }
   ],
   "source": [
    "import os \n",
    "os.chdir('../../')\n",
    "os.environ[\"DPM_TQDM\"] = \"False\"\n",
    "os.environ[\"CUDA_VISIBLE_DEVICES\"]=\"1\"\n",
    "\n",
    "!nvidia-smi"
   ]
  },
  {
   "cell_type": "code",
   "execution_count": 2,
   "id": "56d1cbf6",
   "metadata": {},
   "outputs": [
    {
     "name": "stderr",
     "output_type": "stream",
     "text": [
      "/home/scpark/miniconda3/envs/rbf/lib/python3.11/site-packages/tqdm/auto.py:21: TqdmWarning: IProgress not found. Please update jupyter and ipywidgets. See https://ipywidgets.readthedocs.io/en/stable/user_install.html\n",
      "  from .autonotebook import tqdm as notebook_tqdm\n",
      "Loading pipeline components...:   0%|          | 0/3 [00:00<?, ?it/s]An error occurred while trying to fetch /home/scpark/.cache/huggingface/hub/models--facebook--DiT-XL-2-256/snapshots/eab87f77abd5aef071a632f08807fbaab0b704d0/transformer: Error no file named diffusion_pytorch_model.safetensors found in directory /home/scpark/.cache/huggingface/hub/models--facebook--DiT-XL-2-256/snapshots/eab87f77abd5aef071a632f08807fbaab0b704d0/transformer.\n",
      "Defaulting to unsafe serialization. Pass `allow_pickle=False` to raise an error instead.\n",
      "Loading pipeline components...:  33%|███▎      | 1/3 [00:00<00:01,  1.32it/s]An error occurred while trying to fetch /home/scpark/.cache/huggingface/hub/models--facebook--DiT-XL-2-256/snapshots/eab87f77abd5aef071a632f08807fbaab0b704d0/vae: Error no file named diffusion_pytorch_model.safetensors found in directory /home/scpark/.cache/huggingface/hub/models--facebook--DiT-XL-2-256/snapshots/eab87f77abd5aef071a632f08807fbaab0b704d0/vae.\n",
      "Defaulting to unsafe serialization. Pass `allow_pickle=False` to raise an error instead.\n",
      "Loading pipeline components...: 100%|██████████| 3/3 [00:00<00:00,  3.21it/s]\n",
      "Expected types for id2label: (typing.Dict[int, str], <class 'NoneType'>), got typing.Dict[str, str].\n"
     ]
    },
    {
     "name": "stdout",
     "output_type": "stream",
     "text": [
      "<backbones.dit.DiT object at 0x7f1fa6b52690>\n",
      "len(train_dataset) : 10000 len(valid_dataset) : 1000\n",
      "done\n",
      "done\n"
     ]
    }
   ],
   "source": [
    "### Config\n",
    "from easydict import EasyDict\n",
    "\n",
    "config = EasyDict()\n",
    "config.backbone = 'DiT'\n",
    "config.train_pt_dir = 'samplings/dit/train/dit_train_0_trajdrop'\n",
    "config.valid_pt_dir = 'samplings/dit/eval1000/dit_eval1000_3'\n",
    "config.batch_size = 10\n",
    "config.CFG = 1.375\n",
    "config.epochs = 10\n",
    "config.val_every = 100\n",
    "config.log_dir = \"logs/exp8\"\n",
    "\n",
    "### Model\n",
    "from backbones.dit import DiT\n",
    "\n",
    "if config.backbone == 'DiT':\n",
    "    model = DiT(trainable=True)\n",
    "print(model)\n",
    "\n",
    "\n",
    "### Dataset\n",
    "from datasets.pt_dataset import PtDataset\n",
    "from torch.utils.data import DataLoader\n",
    "\n",
    "train_dataset = PtDataset(config.train_pt_dir)\n",
    "valid_dataset = PtDataset(config.valid_pt_dir)\n",
    "print('len(train_dataset) :', len(train_dataset), 'len(valid_dataset) :', len(valid_dataset))\n",
    "train_loader = DataLoader(train_dataset, batch_size=config.batch_size, shuffle=True, num_workers=8, pin_memory=True, persistent_workers=True, prefetch_factor=4)\n",
    "valid_loader = DataLoader(valid_dataset, batch_size=config.batch_size, shuffle=False)\n",
    "print('done')\n",
    "\n",
    "### Solver\n",
    "import torch\n",
    "from solvers.dual.static.gdual_pc_loglinear_solver import GDual_PC_LogLinear_Solver\n",
    "from torch.utils.tensorboard import SummaryWriter\n",
    "\n",
    "noise_schedule = model.get_noise_schedule()\n",
    "solver = GDual_PC_LogLinear_Solver(noise_schedule, steps=5, skip_type=\"time_uniform\", param_dim=(4, 1, 1), O2_coeff=True)\n",
    "solver = solver.to(model.device)\n",
    "optimizer = torch.optim.AdamW(solver.parameters(), lr=1e-3)\n",
    "print('done')"
   ]
  },
  {
   "cell_type": "code",
   "execution_count": 3,
   "id": "2e600372",
   "metadata": {},
   "outputs": [
    {
     "name": "stdout",
     "output_type": "stream",
     "text": [
      "done\n"
     ]
    }
   ],
   "source": [
    "import numpy as np\n",
    "import torch.nn.functional as F\n",
    "from tqdm import tqdm\n",
    "\n",
    "def get_valid_loss(device, solver):\n",
    "    solver.eval()\n",
    "    losses = []\n",
    "    for batch in tqdm(valid_loader):\n",
    "        with torch.no_grad():\n",
    "            noises, conds, targets = batch['noise'].to(device, non_blocking=True), batch['cond'], batch['sample'].to(device, non_blocking=True)\n",
    "            model_fn = model.get_model_fn(noise_schedule, pos_conds=conds, guidance_scale=config.CFG)\n",
    "            pred = solver.sample(noises, model_fn)\n",
    "            loss = F.mse_loss(pred, targets)\n",
    "            losses.append(loss.item())\n",
    "    return np.mean(losses)\n",
    "    \n",
    "def do_train_loop(device, epoch, writer, solver):\n",
    "    solver.train()\n",
    "    pbar = tqdm(train_loader)\n",
    "    losses = []\n",
    "    for step, batch in enumerate(pbar):\n",
    "        global_step = epoch * len(train_loader) + step\n",
    "        if global_step % config.val_every == 0:\n",
    "            valid_loss = get_valid_loss(device, solver)\n",
    "            print('step :', global_step, 'valid_loss :', valid_loss)\n",
    "            writer.add_scalar(\"valid/loss\", valid_loss, global_step)\n",
    "            save_checkpoint(global_step, config.log_dir, solver, valid_loss)\n",
    "\n",
    "        optimizer.zero_grad(set_to_none=True)\n",
    "        noises, conds, targets = batch['noise'].to(device, non_blocking=True), batch['cond'], batch['sample'].to(device, non_blocking=True)\n",
    "        model_fn = model.get_model_fn(noise_schedule, pos_conds=conds, guidance_scale=config.CFG)\n",
    "\n",
    "        with torch.autocast(device_type='cuda', dtype=torch.bfloat16):\n",
    "            pred = solver.sample(noises, model_fn)\n",
    "            loss = F.mse_loss(pred, targets)\n",
    "\n",
    "        loss.backward()\n",
    "        torch.nn.utils.clip_grad_norm_(solver.parameters(), 1.0)\n",
    "        optimizer.step()\n",
    "\n",
    "        losses.append(loss.item())\n",
    "        pbar.set_postfix({'loss': loss.item()})\n",
    "        \n",
    "    return np.mean(losses)\n",
    "\n",
    "def save_checkpoint(global_step, save_dir, solver, valid_loss):\n",
    "    ckpt = {\n",
    "        \"global_step\": global_step,\n",
    "        \"solver_state_dict\": solver.state_dict(),\n",
    "        \"valid_loss\": float(valid_loss),\n",
    "        \"config\": dict(config),\n",
    "    }\n",
    "    step_path = os.path.join(save_dir, f\"step_{global_step:08d}.pt\")\n",
    "    torch.save(ckpt, step_path)\n",
    "    \n",
    "    return step_path    \n",
    "\n",
    "print('done')"
   ]
  },
  {
   "cell_type": "markdown",
   "id": "3bf948e3",
   "metadata": {},
   "source": [
    "### Train Loop"
   ]
  },
  {
   "cell_type": "code",
   "execution_count": 4,
   "id": "1e6abf95",
   "metadata": {},
   "outputs": [
    {
     "name": "stderr",
     "output_type": "stream",
     "text": [
      "100%|██████████| 100/100 [00:39<00:00,  2.53it/s]\n"
     ]
    },
    {
     "name": "stdout",
     "output_type": "stream",
     "text": [
      "step : 0 valid_loss : 0.11410509288311005\n"
     ]
    },
    {
     "name": "stderr",
     "output_type": "stream",
     "text": [
      "100%|██████████| 100/100 [00:50<00:00,  1.97it/s], loss=0.0902]\n"
     ]
    },
    {
     "name": "stdout",
     "output_type": "stream",
     "text": [
      "step : 100 valid_loss : 0.10351623337715864\n"
     ]
    },
    {
     "name": "stderr",
     "output_type": "stream",
     "text": [
      "100%|██████████| 100/100 [00:41<00:00,  2.40it/s], loss=0.0776]  \n"
     ]
    },
    {
     "name": "stdout",
     "output_type": "stream",
     "text": [
      "step : 200 valid_loss : 0.09519208267331124\n"
     ]
    },
    {
     "name": "stderr",
     "output_type": "stream",
     "text": [
      " 21%|██        | 207/1000 [09:39<36:58,  2.80s/it, loss=0.131]   \n"
     ]
    },
    {
     "ename": "RuntimeError",
     "evalue": "The size of tensor a (4) must match the size of tensor b (2) at non-singleton dimension 1",
     "output_type": "error",
     "traceback": [
      "\u001b[31m---------------------------------------------------------------------------\u001b[39m",
      "\u001b[31mRuntimeError\u001b[39m                              Traceback (most recent call last)",
      "\u001b[36mCell\u001b[39m\u001b[36m \u001b[39m\u001b[32mIn[4]\u001b[39m\u001b[32m, line 4\u001b[39m\n\u001b[32m      1\u001b[39m writer = SummaryWriter(log_dir=config.log_dir)\n\u001b[32m      3\u001b[39m \u001b[38;5;28;01mfor\u001b[39;00m epoch \u001b[38;5;129;01min\u001b[39;00m \u001b[38;5;28mrange\u001b[39m(config.epochs):\n\u001b[32m----> \u001b[39m\u001b[32m4\u001b[39m     train_loss = \u001b[43mdo_train_loop\u001b[49m\u001b[43m(\u001b[49m\u001b[43mmodel\u001b[49m\u001b[43m.\u001b[49m\u001b[43mdevice\u001b[49m\u001b[43m,\u001b[49m\u001b[43m \u001b[49m\u001b[43mepoch\u001b[49m\u001b[43m,\u001b[49m\u001b[43m \u001b[49m\u001b[43mwriter\u001b[49m\u001b[43m,\u001b[49m\u001b[43m \u001b[49m\u001b[43msolver\u001b[49m\u001b[43m)\u001b[49m\n\u001b[32m      5\u001b[39m     \u001b[38;5;28mprint\u001b[39m(\u001b[33m'\u001b[39m\u001b[33mtrain_loss :\u001b[39m\u001b[33m'\u001b[39m, train_loss)\n\u001b[32m      7\u001b[39m writer.close()    \n",
      "\u001b[36mCell\u001b[39m\u001b[36m \u001b[39m\u001b[32mIn[3]\u001b[39m\u001b[32m, line 34\u001b[39m, in \u001b[36mdo_train_loop\u001b[39m\u001b[34m(device, epoch, writer, solver)\u001b[39m\n\u001b[32m     31\u001b[39m model_fn = model.get_model_fn(noise_schedule, pos_conds=conds, guidance_scale=config.CFG)\n\u001b[32m     33\u001b[39m \u001b[38;5;28;01mwith\u001b[39;00m torch.autocast(device_type=\u001b[33m'\u001b[39m\u001b[33mcuda\u001b[39m\u001b[33m'\u001b[39m, dtype=torch.bfloat16):\n\u001b[32m---> \u001b[39m\u001b[32m34\u001b[39m     pred = \u001b[43msolver\u001b[49m\u001b[43m.\u001b[49m\u001b[43msample\u001b[49m\u001b[43m(\u001b[49m\u001b[43mnoises\u001b[49m\u001b[43m,\u001b[49m\u001b[43m \u001b[49m\u001b[43mmodel_fn\u001b[49m\u001b[43m)\u001b[49m\n\u001b[32m     35\u001b[39m     loss = F.mse_loss(pred, targets)\n\u001b[32m     37\u001b[39m loss.backward()\n",
      "\u001b[36mFile \u001b[39m\u001b[32m~/logpx_samplers/solvers/dual/static/gdual_pc_loglinear_solver.py:153\u001b[39m, in \u001b[36mGDual_PC_LogLinear_Solver.sample\u001b[39m\u001b[34m(self, x, model_fn, **kwargs)\u001b[39m\n\u001b[32m    150\u001b[39m x_pred = \u001b[38;5;28mself\u001b[39m.get_next_sample(x_corr, (xn, xc, xp), (en, ec, ep), i, alphas, sigmas, gamma, tau_x, tau_e, kappa_x, kappa_e, p, \u001b[38;5;28mself\u001b[39m.eps, corrector=\u001b[38;5;28;01mFalse\u001b[39;00m)\n\u001b[32m    152\u001b[39m \u001b[38;5;28;01mif\u001b[39;00m i < \u001b[38;5;28mself\u001b[39m.steps - \u001b[32m1\u001b[39m:\n\u001b[32m--> \u001b[39m\u001b[32m153\u001b[39m     xn, en = \u001b[38;5;28;43mself\u001b[39;49m\u001b[43m.\u001b[49m\u001b[43mcheckpoint_model_fn\u001b[49m\u001b[43m(\u001b[49m\u001b[43mx_pred\u001b[49m\u001b[43m,\u001b[49m\u001b[43m \u001b[49m\u001b[43mtimesteps\u001b[49m\u001b[43m[\u001b[49m\u001b[43mi\u001b[49m\u001b[43m \u001b[49m\u001b[43m+\u001b[49m\u001b[43m \u001b[49m\u001b[32;43m1\u001b[39;49m\u001b[43m]\u001b[49m\u001b[43m)\u001b[49m\n\u001b[32m    155\u001b[39m \u001b[38;5;66;03m# Corrector\u001b[39;00m\n\u001b[32m    156\u001b[39m gamma, tau_x, tau_e, kappa_x, kappa_e = \u001b[38;5;28mself\u001b[39m.params[i][\u001b[32m1\u001b[39m]\n",
      "\u001b[36mFile \u001b[39m\u001b[32m~/logpx_samplers/solvers/solver.py:60\u001b[39m, in \u001b[36mSolver.checkpoint_model_fn\u001b[39m\u001b[34m(self, x, t)\u001b[39m\n\u001b[32m     58\u001b[39m \u001b[38;5;28;01mdef\u001b[39;00m\u001b[38;5;250m \u001b[39m\u001b[34mcheckpoint_model_fn\u001b[39m(\u001b[38;5;28mself\u001b[39m, x, t):\n\u001b[32m     59\u001b[39m     \u001b[38;5;28;01mwith\u001b[39;00m save_on_cpu(pin_memory=\u001b[38;5;28;01mTrue\u001b[39;00m):\n\u001b[32m---> \u001b[39m\u001b[32m60\u001b[39m         y = \u001b[43mcheckpoint\u001b[49m\u001b[43m(\u001b[49m\u001b[38;5;28;43mself\u001b[39;49m\u001b[43m.\u001b[49m\u001b[43mmodel_fn\u001b[49m\u001b[43m,\u001b[49m\u001b[43m \u001b[49m\u001b[43mx\u001b[49m\u001b[43m,\u001b[49m\u001b[43m \u001b[49m\u001b[43mt\u001b[49m\u001b[43m,\u001b[49m\u001b[43m \u001b[49m\u001b[43muse_reentrant\u001b[49m\u001b[43m=\u001b[49m\u001b[38;5;28;43;01mFalse\u001b[39;49;00m\u001b[43m)\u001b[49m\n\u001b[32m     61\u001b[39m     \u001b[38;5;28;01mreturn\u001b[39;00m y\n",
      "\u001b[36mFile \u001b[39m\u001b[32m~/miniconda3/envs/rbf/lib/python3.11/site-packages/torch/_compile.py:51\u001b[39m, in \u001b[36m_disable_dynamo.<locals>.inner\u001b[39m\u001b[34m(*args, **kwargs)\u001b[39m\n\u001b[32m     48\u001b[39m     disable_fn = torch._dynamo.disable(fn, recursive)\n\u001b[32m     49\u001b[39m     fn.__dynamo_disable = disable_fn  \u001b[38;5;66;03m# type: ignore[attr-defined]\u001b[39;00m\n\u001b[32m---> \u001b[39m\u001b[32m51\u001b[39m \u001b[38;5;28;01mreturn\u001b[39;00m \u001b[43mdisable_fn\u001b[49m\u001b[43m(\u001b[49m\u001b[43m*\u001b[49m\u001b[43margs\u001b[49m\u001b[43m,\u001b[49m\u001b[43m \u001b[49m\u001b[43m*\u001b[49m\u001b[43m*\u001b[49m\u001b[43mkwargs\u001b[49m\u001b[43m)\u001b[49m\n",
      "\u001b[36mFile \u001b[39m\u001b[32m~/miniconda3/envs/rbf/lib/python3.11/site-packages/torch/_dynamo/eval_frame.py:838\u001b[39m, in \u001b[36mDisableContext.__call__.<locals>._fn\u001b[39m\u001b[34m(*args, **kwargs)\u001b[39m\n\u001b[32m    836\u001b[39m _maybe_set_eval_frame(_callback_from_stance(\u001b[38;5;28mself\u001b[39m.callback))\n\u001b[32m    837\u001b[39m \u001b[38;5;28;01mtry\u001b[39;00m:\n\u001b[32m--> \u001b[39m\u001b[32m838\u001b[39m     \u001b[38;5;28;01mreturn\u001b[39;00m \u001b[43mfn\u001b[49m\u001b[43m(\u001b[49m\u001b[43m*\u001b[49m\u001b[43margs\u001b[49m\u001b[43m,\u001b[49m\u001b[43m \u001b[49m\u001b[43m*\u001b[49m\u001b[43m*\u001b[49m\u001b[43mkwargs\u001b[49m\u001b[43m)\u001b[49m\n\u001b[32m    839\u001b[39m \u001b[38;5;28;01mfinally\u001b[39;00m:\n\u001b[32m    840\u001b[39m     set_eval_frame(\u001b[38;5;28;01mNone\u001b[39;00m)\n",
      "\u001b[36mFile \u001b[39m\u001b[32m~/miniconda3/envs/rbf/lib/python3.11/site-packages/torch/utils/checkpoint.py:495\u001b[39m, in \u001b[36mcheckpoint\u001b[39m\u001b[34m(function, use_reentrant, context_fn, determinism_check, debug, *args, **kwargs)\u001b[39m\n\u001b[32m    493\u001b[39m \u001b[38;5;66;03m# Runs pre-forward logic\u001b[39;00m\n\u001b[32m    494\u001b[39m \u001b[38;5;28mnext\u001b[39m(gen)\n\u001b[32m--> \u001b[39m\u001b[32m495\u001b[39m ret = \u001b[43mfunction\u001b[49m\u001b[43m(\u001b[49m\u001b[43m*\u001b[49m\u001b[43margs\u001b[49m\u001b[43m,\u001b[49m\u001b[43m \u001b[49m\u001b[43m*\u001b[49m\u001b[43m*\u001b[49m\u001b[43mkwargs\u001b[49m\u001b[43m)\u001b[49m\n\u001b[32m    496\u001b[39m \u001b[38;5;66;03m# Runs post-forward logic\u001b[39;00m\n\u001b[32m    497\u001b[39m \u001b[38;5;28;01mtry\u001b[39;00m:\n",
      "\u001b[36mFile \u001b[39m\u001b[32m~/logpx_samplers/solvers/solver.py:77\u001b[39m, in \u001b[36mSolver.model_fn\u001b[39m\u001b[34m(self, x, t)\u001b[39m\n\u001b[32m     75\u001b[39m alpha_t = \u001b[38;5;28mself\u001b[39m.noise_schedule.marginal_alpha(t)\n\u001b[32m     76\u001b[39m sigma_t = \u001b[38;5;28mself\u001b[39m.noise_schedule.marginal_std(t)\n\u001b[32m---> \u001b[39m\u001b[32m77\u001b[39m x0 = (\u001b[43mx\u001b[49m\u001b[43m \u001b[49m\u001b[43m-\u001b[49m\u001b[43m \u001b[49m\u001b[43msigma_t\u001b[49m\u001b[43m \u001b[49m\u001b[43m*\u001b[49m\u001b[43m \u001b[49m\u001b[43mnoise\u001b[49m) / alpha_t\n\u001b[32m     78\u001b[39m \u001b[38;5;28;01mif\u001b[39;00m \u001b[38;5;28mself\u001b[39m.correcting_x0_fn \u001b[38;5;129;01mis\u001b[39;00m \u001b[38;5;129;01mnot\u001b[39;00m \u001b[38;5;28;01mNone\u001b[39;00m:\n\u001b[32m     79\u001b[39m     x0 = \u001b[38;5;28mself\u001b[39m.correcting_x0_fn(x0, t)\n",
      "\u001b[31mRuntimeError\u001b[39m: The size of tensor a (4) must match the size of tensor b (2) at non-singleton dimension 1"
     ]
    }
   ],
   "source": [
    "writer = SummaryWriter(log_dir=config.log_dir)\n",
    "\n",
    "for epoch in range(config.epochs):\n",
    "    train_loss = do_train_loop(model.device, epoch, writer, solver)\n",
    "    print('train_loss :', train_loss)\n",
    "\n",
    "writer.close()    "
   ]
  },
  {
   "cell_type": "code",
   "execution_count": null,
   "id": "8715013b",
   "metadata": {},
   "outputs": [],
   "source": []
  },
  {
   "cell_type": "markdown",
   "id": "10093e42",
   "metadata": {},
   "source": []
  },
  {
   "cell_type": "code",
   "execution_count": null,
   "id": "01f96ec9",
   "metadata": {},
   "outputs": [],
   "source": []
  },
  {
   "cell_type": "code",
   "execution_count": null,
   "id": "63b32b30",
   "metadata": {},
   "outputs": [],
   "source": []
  }
 ],
 "metadata": {
  "kernelspec": {
   "display_name": "rbf",
   "language": "python",
   "name": "python3"
  },
  "language_info": {
   "codemirror_mode": {
    "name": "ipython",
    "version": 3
   },
   "file_extension": ".py",
   "mimetype": "text/x-python",
   "name": "python",
   "nbconvert_exporter": "python",
   "pygments_lexer": "ipython3",
   "version": "3.11.10"
  }
 },
 "nbformat": 4,
 "nbformat_minor": 5
}
