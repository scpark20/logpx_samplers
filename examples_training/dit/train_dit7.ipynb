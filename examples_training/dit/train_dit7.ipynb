{
 "cells": [
  {
   "cell_type": "code",
   "execution_count": null,
   "id": "eb41a41f",
   "metadata": {},
   "outputs": [
    {
     "ename": "UnboundLocalError",
     "evalue": "cannot access local variable 'child' where it is not associated with a value",
     "output_type": "error",
     "traceback": [
      "\u001b[31m---------------------------------------------------------------------------\u001b[39m",
      "\u001b[31mKeyboardInterrupt\u001b[39m                         Traceback (most recent call last)",
      "\u001b[36mFile \u001b[39m\u001b[32m~/miniconda3/envs/rbf/lib/python3.11/site-packages/IPython/utils/_process_posix.py:125\u001b[39m, in \u001b[36mProcessHandler.system\u001b[39m\u001b[34m(self, cmd)\u001b[39m\n\u001b[32m    124\u001b[39m \u001b[38;5;28;01melse\u001b[39;00m:\n\u001b[32m--> \u001b[39m\u001b[32m125\u001b[39m     child = \u001b[43mpexpect\u001b[49m\u001b[43m.\u001b[49m\u001b[43mspawn\u001b[49m\u001b[43m(\u001b[49m\u001b[38;5;28;43mself\u001b[39;49m\u001b[43m.\u001b[49m\u001b[43msh\u001b[49m\u001b[43m,\u001b[49m\u001b[43m \u001b[49m\u001b[43margs\u001b[49m\u001b[43m=\u001b[49m\u001b[43m[\u001b[49m\u001b[33;43m'\u001b[39;49m\u001b[33;43m-c\u001b[39;49m\u001b[33;43m'\u001b[39;49m\u001b[43m,\u001b[49m\u001b[43m \u001b[49m\u001b[43mcmd\u001b[49m\u001b[43m]\u001b[49m\u001b[43m)\u001b[49m  \u001b[38;5;66;03m# Vanilla Pexpect\u001b[39;00m\n\u001b[32m    126\u001b[39m flush = sys.stdout.flush\n",
      "\u001b[36mFile \u001b[39m\u001b[32m~/miniconda3/envs/rbf/lib/python3.11/site-packages/pexpect/pty_spawn.py:205\u001b[39m, in \u001b[36mspawn.__init__\u001b[39m\u001b[34m(self, command, args, timeout, maxread, searchwindowsize, logfile, cwd, env, ignore_sighup, echo, preexec_fn, encoding, codec_errors, dimensions, use_poll)\u001b[39m\n\u001b[32m    204\u001b[39m \u001b[38;5;28;01melse\u001b[39;00m:\n\u001b[32m--> \u001b[39m\u001b[32m205\u001b[39m     \u001b[38;5;28;43mself\u001b[39;49m\u001b[43m.\u001b[49m\u001b[43m_spawn\u001b[49m\u001b[43m(\u001b[49m\u001b[43mcommand\u001b[49m\u001b[43m,\u001b[49m\u001b[43m \u001b[49m\u001b[43margs\u001b[49m\u001b[43m,\u001b[49m\u001b[43m \u001b[49m\u001b[43mpreexec_fn\u001b[49m\u001b[43m,\u001b[49m\u001b[43m \u001b[49m\u001b[43mdimensions\u001b[49m\u001b[43m)\u001b[49m\n\u001b[32m    206\u001b[39m \u001b[38;5;28mself\u001b[39m.use_poll = use_poll\n",
      "\u001b[36mFile \u001b[39m\u001b[32m~/miniconda3/envs/rbf/lib/python3.11/site-packages/pexpect/pty_spawn.py:303\u001b[39m, in \u001b[36mspawn._spawn\u001b[39m\u001b[34m(self, command, args, preexec_fn, dimensions)\u001b[39m\n\u001b[32m    300\u001b[39m     \u001b[38;5;28mself\u001b[39m.args = [a \u001b[38;5;28;01mif\u001b[39;00m \u001b[38;5;28misinstance\u001b[39m(a, \u001b[38;5;28mbytes\u001b[39m) \u001b[38;5;28;01melse\u001b[39;00m a.encode(\u001b[38;5;28mself\u001b[39m.encoding)\n\u001b[32m    301\u001b[39m                  \u001b[38;5;28;01mfor\u001b[39;00m a \u001b[38;5;129;01min\u001b[39;00m \u001b[38;5;28mself\u001b[39m.args]\n\u001b[32m--> \u001b[39m\u001b[32m303\u001b[39m \u001b[38;5;28mself\u001b[39m.ptyproc = \u001b[38;5;28;43mself\u001b[39;49m\u001b[43m.\u001b[49m\u001b[43m_spawnpty\u001b[49m\u001b[43m(\u001b[49m\u001b[38;5;28;43mself\u001b[39;49m\u001b[43m.\u001b[49m\u001b[43margs\u001b[49m\u001b[43m,\u001b[49m\u001b[43m \u001b[49m\u001b[43menv\u001b[49m\u001b[43m=\u001b[49m\u001b[38;5;28;43mself\u001b[39;49m\u001b[43m.\u001b[49m\u001b[43menv\u001b[49m\u001b[43m,\u001b[49m\n\u001b[32m    304\u001b[39m \u001b[43m                             \u001b[49m\u001b[43mcwd\u001b[49m\u001b[43m=\u001b[49m\u001b[38;5;28;43mself\u001b[39;49m\u001b[43m.\u001b[49m\u001b[43mcwd\u001b[49m\u001b[43m,\u001b[49m\u001b[43m \u001b[49m\u001b[43m*\u001b[49m\u001b[43m*\u001b[49m\u001b[43mkwargs\u001b[49m\u001b[43m)\u001b[49m\n\u001b[32m    306\u001b[39m \u001b[38;5;28mself\u001b[39m.pid = \u001b[38;5;28mself\u001b[39m.ptyproc.pid\n",
      "\u001b[36mFile \u001b[39m\u001b[32m~/miniconda3/envs/rbf/lib/python3.11/site-packages/pexpect/pty_spawn.py:315\u001b[39m, in \u001b[36mspawn._spawnpty\u001b[39m\u001b[34m(self, args, **kwargs)\u001b[39m\n\u001b[32m    314\u001b[39m \u001b[38;5;250m\u001b[39m\u001b[33;03m'''Spawn a pty and return an instance of PtyProcess.'''\u001b[39;00m\n\u001b[32m--> \u001b[39m\u001b[32m315\u001b[39m \u001b[38;5;28;01mreturn\u001b[39;00m \u001b[43mptyprocess\u001b[49m\u001b[43m.\u001b[49m\u001b[43mPtyProcess\u001b[49m\u001b[43m.\u001b[49m\u001b[43mspawn\u001b[49m\u001b[43m(\u001b[49m\u001b[43margs\u001b[49m\u001b[43m,\u001b[49m\u001b[43m \u001b[49m\u001b[43m*\u001b[49m\u001b[43m*\u001b[49m\u001b[43mkwargs\u001b[49m\u001b[43m)\u001b[49m\n",
      "\u001b[36mFile \u001b[39m\u001b[32m~/miniconda3/envs/rbf/lib/python3.11/site-packages/ptyprocess/ptyprocess.py:315\u001b[39m, in \u001b[36mPtyProcess.spawn\u001b[39m\u001b[34m(cls, argv, cwd, env, echo, preexec_fn, dimensions, pass_fds)\u001b[39m\n\u001b[32m    314\u001b[39m os.close(exec_err_pipe_write)\n\u001b[32m--> \u001b[39m\u001b[32m315\u001b[39m exec_err_data = \u001b[43mos\u001b[49m\u001b[43m.\u001b[49m\u001b[43mread\u001b[49m\u001b[43m(\u001b[49m\u001b[43mexec_err_pipe_read\u001b[49m\u001b[43m,\u001b[49m\u001b[43m \u001b[49m\u001b[32;43m4096\u001b[39;49m\u001b[43m)\u001b[49m\n\u001b[32m    316\u001b[39m os.close(exec_err_pipe_read)\n",
      "\u001b[31mKeyboardInterrupt\u001b[39m: ",
      "\nDuring handling of the above exception, another exception occurred:\n",
      "\u001b[31mUnboundLocalError\u001b[39m                         Traceback (most recent call last)",
      "\u001b[36mCell\u001b[39m\u001b[36m \u001b[39m\u001b[32mIn[5]\u001b[39m\u001b[32m, line 6\u001b[39m\n\u001b[32m      3\u001b[39m os.environ[\u001b[33m\"\u001b[39m\u001b[33mDPM_TQDM\u001b[39m\u001b[33m\"\u001b[39m] = \u001b[33m\"\u001b[39m\u001b[33mFalse\u001b[39m\u001b[33m\"\u001b[39m\n\u001b[32m      4\u001b[39m os.environ[\u001b[33m\"\u001b[39m\u001b[33mCUDA_VISIBLE_DEVICES\u001b[39m\u001b[33m\"\u001b[39m]=\u001b[33m\"\u001b[39m\u001b[33m0\u001b[39m\u001b[33m\"\u001b[39m\n\u001b[32m----> \u001b[39m\u001b[32m6\u001b[39m \u001b[43mget_ipython\u001b[49m\u001b[43m(\u001b[49m\u001b[43m)\u001b[49m\u001b[43m.\u001b[49m\u001b[43msystem\u001b[49m\u001b[43m(\u001b[49m\u001b[33;43m'\u001b[39;49m\u001b[33;43mnvidia-smi\u001b[39;49m\u001b[33;43m'\u001b[39;49m\u001b[43m)\u001b[49m\n",
      "\u001b[36mFile \u001b[39m\u001b[32m~/miniconda3/envs/rbf/lib/python3.11/site-packages/ipykernel/zmqshell.py:657\u001b[39m, in \u001b[36mZMQInteractiveShell.system_piped\u001b[39m\u001b[34m(self, cmd)\u001b[39m\n\u001b[32m    655\u001b[39m         \u001b[38;5;28mself\u001b[39m.user_ns[\u001b[33m\"\u001b[39m\u001b[33m_exit_code\u001b[39m\u001b[33m\"\u001b[39m] = system(cmd)\n\u001b[32m    656\u001b[39m \u001b[38;5;28;01melse\u001b[39;00m:\n\u001b[32m--> \u001b[39m\u001b[32m657\u001b[39m     \u001b[38;5;28mself\u001b[39m.user_ns[\u001b[33m\"\u001b[39m\u001b[33m_exit_code\u001b[39m\u001b[33m\"\u001b[39m] = \u001b[43msystem\u001b[49m\u001b[43m(\u001b[49m\u001b[38;5;28;43mself\u001b[39;49m\u001b[43m.\u001b[49m\u001b[43mvar_expand\u001b[49m\u001b[43m(\u001b[49m\u001b[43mcmd\u001b[49m\u001b[43m,\u001b[49m\u001b[43m \u001b[49m\u001b[43mdepth\u001b[49m\u001b[43m=\u001b[49m\u001b[32;43m1\u001b[39;49m\u001b[43m)\u001b[49m\u001b[43m)\u001b[49m\n",
      "\u001b[36mFile \u001b[39m\u001b[32m~/miniconda3/envs/rbf/lib/python3.11/site-packages/IPython/utils/_process_posix.py:141\u001b[39m, in \u001b[36mProcessHandler.system\u001b[39m\u001b[34m(self, cmd)\u001b[39m\n\u001b[32m    136\u001b[39m         out_size = \u001b[38;5;28mlen\u001b[39m(child.before)\n\u001b[32m    137\u001b[39m \u001b[38;5;28;01mexcept\u001b[39;00m \u001b[38;5;167;01mKeyboardInterrupt\u001b[39;00m:\n\u001b[32m    138\u001b[39m     \u001b[38;5;66;03m# We need to send ^C to the process.  The ascii code for '^C' is 3\u001b[39;00m\n\u001b[32m    139\u001b[39m     \u001b[38;5;66;03m# (the character is known as ETX for 'End of Text', see\u001b[39;00m\n\u001b[32m    140\u001b[39m     \u001b[38;5;66;03m# curses.ascii.ETX).\u001b[39;00m\n\u001b[32m--> \u001b[39m\u001b[32m141\u001b[39m     \u001b[43mchild\u001b[49m.sendline(\u001b[38;5;28mchr\u001b[39m(\u001b[32m3\u001b[39m))\n\u001b[32m    142\u001b[39m     \u001b[38;5;66;03m# Read and print any more output the program might produce on its\u001b[39;00m\n\u001b[32m    143\u001b[39m     \u001b[38;5;66;03m# way out.\u001b[39;00m\n\u001b[32m    144\u001b[39m     \u001b[38;5;28;01mtry\u001b[39;00m:\n",
      "\u001b[31mUnboundLocalError\u001b[39m: cannot access local variable 'child' where it is not associated with a value"
     ]
    },
    {
     "name": "stderr",
     "output_type": "stream",
     "text": [
      "--- Logging error ---\n",
      "Traceback (most recent call last):\n",
      "  File \"/home/scpark/miniconda3/envs/rbf/lib/python3.11/site-packages/IPython/utils/_process_posix.py\", line 125, in system\n",
      "    child = pexpect.spawn(self.sh, args=['-c', cmd])  # Vanilla Pexpect\n",
      "            ^^^^^^^^^^^^^^^^^^^^^^^^^^^^^^^^^^^^^^^^\n",
      "  File \"/home/scpark/miniconda3/envs/rbf/lib/python3.11/site-packages/pexpect/pty_spawn.py\", line 205, in __init__\n",
      "    self._spawn(command, args, preexec_fn, dimensions)\n",
      "  File \"/home/scpark/miniconda3/envs/rbf/lib/python3.11/site-packages/pexpect/pty_spawn.py\", line 303, in _spawn\n",
      "    self.ptyproc = self._spawnpty(self.args, env=self.env,\n",
      "                   ^^^^^^^^^^^^^^^^^^^^^^^^^^^^^^^^^^^^^^^\n",
      "  File \"/home/scpark/miniconda3/envs/rbf/lib/python3.11/site-packages/pexpect/pty_spawn.py\", line 315, in _spawnpty\n",
      "    return ptyprocess.PtyProcess.spawn(args, **kwargs)\n",
      "           ^^^^^^^^^^^^^^^^^^^^^^^^^^^^^^^^^^^^^^^^^^^\n",
      "  File \"/home/scpark/miniconda3/envs/rbf/lib/python3.11/site-packages/ptyprocess/ptyprocess.py\", line 269, in spawn\n",
      "    os.closerange(pair[0]+1, pair[1])\n",
      "KeyboardInterrupt\n",
      "\n",
      "During handling of the above exception, another exception occurred:\n",
      "\n",
      "Traceback (most recent call last):\n",
      "  File \"/home/scpark/miniconda3/envs/rbf/lib/python3.11/site-packages/IPython/core/interactiveshell.py\", line 3699, in run_code\n",
      "    exec(code_obj, self.user_global_ns, self.user_ns)\n",
      "  File \"/tmp/ipykernel_160018/2680912373.py\", line 6, in <module>\n",
      "    get_ipython().system('nvidia-smi')\n",
      "  File \"/home/scpark/miniconda3/envs/rbf/lib/python3.11/site-packages/ipykernel/zmqshell.py\", line 657, in system_piped\n",
      "    self.user_ns[\"_exit_code\"] = system(self.var_expand(cmd, depth=1))\n",
      "                                 ^^^^^^^^^^^^^^^^^^^^^^^^^^^^^^^^^^^^^\n",
      "  File \"/home/scpark/miniconda3/envs/rbf/lib/python3.11/site-packages/IPython/utils/_process_posix.py\", line 141, in system\n",
      "    child.sendline(chr(3))\n",
      "    ^^^^^\n",
      "UnboundLocalError: cannot access local variable 'child' where it is not associated with a value\n",
      "\n",
      "During handling of the above exception, another exception occurred:\n",
      "\n",
      "Traceback (most recent call last):\n",
      "  File \"/home/scpark/miniconda3/envs/rbf/lib/python3.11/logging/__init__.py\", line 1113, in emit\n",
      "    stream.write(msg + self.terminator)\n",
      "OSError: [Errno 9] Bad file descriptor\n",
      "Call stack:\n",
      "  File \"<frozen runpy>\", line 198, in _run_module_as_main\n",
      "  File \"<frozen runpy>\", line 88, in _run_code\n",
      "  File \"/home/scpark/miniconda3/envs/rbf/lib/python3.11/site-packages/ipykernel_launcher.py\", line 18, in <module>\n",
      "    app.launch_new_instance()\n",
      "  File \"/home/scpark/miniconda3/envs/rbf/lib/python3.11/site-packages/traitlets/config/application.py\", line 1075, in launch_instance\n",
      "    app.start()\n",
      "  File \"/home/scpark/miniconda3/envs/rbf/lib/python3.11/site-packages/ipykernel/kernelapp.py\", line 739, in start\n",
      "    self.io_loop.start()\n",
      "  File \"/home/scpark/miniconda3/envs/rbf/lib/python3.11/site-packages/tornado/platform/asyncio.py\", line 211, in start\n",
      "    self.asyncio_loop.run_forever()\n",
      "  File \"/home/scpark/miniconda3/envs/rbf/lib/python3.11/asyncio/base_events.py\", line 608, in run_forever\n",
      "    self._run_once()\n",
      "  File \"/home/scpark/miniconda3/envs/rbf/lib/python3.11/asyncio/base_events.py\", line 1936, in _run_once\n",
      "    handle._run()\n",
      "  File \"/home/scpark/miniconda3/envs/rbf/lib/python3.11/asyncio/events.py\", line 84, in _run\n",
      "    self._context.run(self._callback, *self._args)\n",
      "  File \"/home/scpark/miniconda3/envs/rbf/lib/python3.11/site-packages/ipykernel/kernelbase.py\", line 545, in dispatch_queue\n",
      "    await self.process_one()\n",
      "  File \"/home/scpark/miniconda3/envs/rbf/lib/python3.11/site-packages/ipykernel/kernelbase.py\", line 534, in process_one\n",
      "    await dispatch(*args)\n",
      "  File \"/home/scpark/miniconda3/envs/rbf/lib/python3.11/site-packages/ipykernel/kernelbase.py\", line 437, in dispatch_shell\n",
      "    await result\n",
      "  File \"/home/scpark/miniconda3/envs/rbf/lib/python3.11/site-packages/ipykernel/ipkernel.py\", line 362, in execute_request\n",
      "    await super().execute_request(stream, ident, parent)\n",
      "  File \"/home/scpark/miniconda3/envs/rbf/lib/python3.11/site-packages/ipykernel/kernelbase.py\", line 778, in execute_request\n",
      "    reply_content = await reply_content\n",
      "  File \"/home/scpark/miniconda3/envs/rbf/lib/python3.11/site-packages/ipykernel/ipkernel.py\", line 449, in do_execute\n",
      "    res = shell.run_cell(\n",
      "  File \"/home/scpark/miniconda3/envs/rbf/lib/python3.11/site-packages/ipykernel/zmqshell.py\", line 549, in run_cell\n",
      "    return super().run_cell(*args, **kwargs)\n",
      "  File \"/home/scpark/miniconda3/envs/rbf/lib/python3.11/site-packages/IPython/core/interactiveshell.py\", line 3116, in run_cell\n",
      "    result = self._run_cell(\n",
      "  File \"/home/scpark/miniconda3/envs/rbf/lib/python3.11/site-packages/IPython/core/interactiveshell.py\", line 3171, in _run_cell\n",
      "    result = runner(coro)\n",
      "  File \"/home/scpark/miniconda3/envs/rbf/lib/python3.11/site-packages/IPython/core/async_helpers.py\", line 128, in _pseudo_sync_runner\n",
      "    coro.send(None)\n",
      "  File \"/home/scpark/miniconda3/envs/rbf/lib/python3.11/site-packages/IPython/core/interactiveshell.py\", line 3394, in run_cell_async\n",
      "    has_raised = await self.run_ast_nodes(code_ast.body, cell_name,\n",
      "  File \"/home/scpark/miniconda3/envs/rbf/lib/python3.11/site-packages/IPython/core/interactiveshell.py\", line 3639, in run_ast_nodes\n",
      "    if await self.run_code(code, result, async_=asy):\n",
      "  File \"/home/scpark/miniconda3/envs/rbf/lib/python3.11/site-packages/IPython/core/interactiveshell.py\", line 3721, in run_code\n",
      "    self.showtraceback(running_compiled_code=True)\n",
      "  File \"/home/scpark/miniconda3/envs/rbf/lib/python3.11/site-packages/IPython/core/interactiveshell.py\", line 2205, in showtraceback\n",
      "    self._showtraceback(etype, value, stb)\n",
      "  File \"/home/scpark/miniconda3/envs/rbf/lib/python3.11/site-packages/ipykernel/zmqshell.py\", line 569, in _showtraceback\n",
      "    dh.session.send(  # type:ignore[attr-defined]\n",
      "  File \"/home/scpark/miniconda3/envs/rbf/lib/python3.11/site-packages/jupyter_client/session.py\", line 831, in send\n",
      "    get_logger().warning(\"WARNING: attempted to send message from fork\\n%s\", msg)\n",
      "Message: 'WARNING: attempted to send message from fork\\n%s'\n",
      "Arguments: {'header': {'msg_id': '8b8f2c61-9597e8354581626dd7fed45c_185100_4725', 'msg_type': 'error', 'username': 'scpark', 'session': '8b8f2c61-9597e8354581626dd7fed45c', 'date': datetime.datetime(2025, 8, 9, 16, 55, 31, 176973, tzinfo=datetime.timezone.utc), 'version': '5.3'}, 'msg_id': '8b8f2c61-9597e8354581626dd7fed45c_185100_4725', 'msg_type': 'error', 'parent_header': {'date': datetime.datetime(2025, 8, 9, 16, 55, 29, 753000, tzinfo=tzutc()), 'msg_id': '8b89ad40-b1cc-4f41-ab00-84d3f512c33a', 'msg_type': 'execute_request', 'session': 'bd6b6a28-623c-4431-9a5e-45e737a7b761', 'username': 'abc749d3-f555-4212-9fd7-487d3e7d29ab', 'version': '5.2'}, 'content': {'traceback': ['\\x1b[31m---------------------------------------------------------------------------\\x1b[39m', '\\x1b[31mKeyboardInterrupt\\x1b[39m                         Traceback (most recent call last)', \"\\x1b[36mFile \\x1b[39m\\x1b[32m~/miniconda3/envs/rbf/lib/python3.11/site-packages/IPython/utils/_process_posix.py:125\\x1b[39m, in \\x1b[36mProcessHandler.system\\x1b[39m\\x1b[34m(self, cmd)\\x1b[39m\\n\\x1b[32m    124\\x1b[39m \\x1b[38;5;28;01melse\\x1b[39;00m:\\n\\x1b[32m--> \\x1b[39m\\x1b[32m125\\x1b[39m     child = \\x1b[43mpexpect\\x1b[49m\\x1b[43m.\\x1b[49m\\x1b[43mspawn\\x1b[49m\\x1b[43m(\\x1b[49m\\x1b[38;5;28;43mself\\x1b[39;49m\\x1b[43m.\\x1b[49m\\x1b[43msh\\x1b[49m\\x1b[43m,\\x1b[49m\\x1b[43m \\x1b[49m\\x1b[43margs\\x1b[49m\\x1b[43m=\\x1b[49m\\x1b[43m[\\x1b[49m\\x1b[33;43m'\\x1b[39;49m\\x1b[33;43m-c\\x1b[39;49m\\x1b[33;43m'\\x1b[39;49m\\x1b[43m,\\x1b[49m\\x1b[43m \\x1b[49m\\x1b[43mcmd\\x1b[49m\\x1b[43m]\\x1b[49m\\x1b[43m)\\x1b[49m  \\x1b[38;5;66;03m# Vanilla Pexpect\\x1b[39;00m\\n\\x1b[32m    126\\x1b[39m flush = sys.stdout.flush\\n\", '\\x1b[36mFile \\x1b[39m\\x1b[32m~/miniconda3/envs/rbf/lib/python3.11/site-packages/pexpect/pty_spawn.py:205\\x1b[39m, in \\x1b[36mspawn.__init__\\x1b[39m\\x1b[34m(self, command, args, timeout, maxread, searchwindowsize, logfile, cwd, env, ignore_sighup, echo, preexec_fn, encoding, codec_errors, dimensions, use_poll)\\x1b[39m\\n\\x1b[32m    204\\x1b[39m \\x1b[38;5;28;01melse\\x1b[39;00m:\\n\\x1b[32m--> \\x1b[39m\\x1b[32m205\\x1b[39m     \\x1b[38;5;28;43mself\\x1b[39;49m\\x1b[43m.\\x1b[49m\\x1b[43m_spawn\\x1b[49m\\x1b[43m(\\x1b[49m\\x1b[43mcommand\\x1b[49m\\x1b[43m,\\x1b[49m\\x1b[43m \\x1b[49m\\x1b[43margs\\x1b[49m\\x1b[43m,\\x1b[49m\\x1b[43m \\x1b[49m\\x1b[43mpreexec_fn\\x1b[49m\\x1b[43m,\\x1b[49m\\x1b[43m \\x1b[49m\\x1b[43mdimensions\\x1b[49m\\x1b[43m)\\x1b[49m\\n\\x1b[32m    206\\x1b[39m \\x1b[38;5;28mself\\x1b[39m.use_poll = use_poll\\n', '\\x1b[36mFile \\x1b[39m\\x1b[32m~/miniconda3/envs/rbf/lib/python3.11/site-packages/pexpect/pty_spawn.py:303\\x1b[39m, in \\x1b[36mspawn._spawn\\x1b[39m\\x1b[34m(self, command, args, preexec_fn, dimensions)\\x1b[39m\\n\\x1b[32m    300\\x1b[39m     \\x1b[38;5;28mself\\x1b[39m.args = [a \\x1b[38;5;28;01mif\\x1b[39;00m \\x1b[38;5;28misinstance\\x1b[39m(a, \\x1b[38;5;28mbytes\\x1b[39m) \\x1b[38;5;28;01melse\\x1b[39;00m a.encode(\\x1b[38;5;28mself\\x1b[39m.encoding)\\n\\x1b[32m    301\\x1b[39m                  \\x1b[38;5;28;01mfor\\x1b[39;00m a \\x1b[38;5;129;01min\\x1b[39;00m \\x1b[38;5;28mself\\x1b[39m.args]\\n\\x1b[32m--> \\x1b[39m\\x1b[32m303\\x1b[39m \\x1b[38;5;28mself\\x1b[39m.ptyproc = \\x1b[38;5;28;43mself\\x1b[39;49m\\x1b[43m.\\x1b[49m\\x1b[43m_spawnpty\\x1b[49m\\x1b[43m(\\x1b[49m\\x1b[38;5;28;43mself\\x1b[39;49m\\x1b[43m.\\x1b[49m\\x1b[43margs\\x1b[49m\\x1b[43m,\\x1b[49m\\x1b[43m \\x1b[49m\\x1b[43menv\\x1b[49m\\x1b[43m=\\x1b[49m\\x1b[38;5;28;43mself\\x1b[39;49m\\x1b[43m.\\x1b[49m\\x1b[43menv\\x1b[49m\\x1b[43m,\\x1b[49m\\n\\x1b[32m    304\\x1b[39m \\x1b[43m                             \\x1b[49m\\x1b[43mcwd\\x1b[49m\\x1b[43m=\\x1b[49m\\x1b[38;5;28;43mself\\x1b[39;49m\\x1b[43m.\\x1b[49m\\x1b[43mcwd\\x1b[49m\\x1b[43m,\\x1b[49m\\x1b[43m \\x1b[49m\\x1b[43m*\\x1b[49m\\x1b[43m*\\x1b[49m\\x1b[43mkwargs\\x1b[49m\\x1b[43m)\\x1b[49m\\n\\x1b[32m    306\\x1b[39m \\x1b[38;5;28mself\\x1b[39m.pid = \\x1b[38;5;28mself\\x1b[39m.ptyproc.pid\\n', \"\\x1b[36mFile \\x1b[39m\\x1b[32m~/miniconda3/envs/rbf/lib/python3.11/site-packages/pexpect/pty_spawn.py:315\\x1b[39m, in \\x1b[36mspawn._spawnpty\\x1b[39m\\x1b[34m(self, args, **kwargs)\\x1b[39m\\n\\x1b[32m    314\\x1b[39m \\x1b[38;5;250m\\x1b[39m\\x1b[33;03m'''Spawn a pty and return an instance of PtyProcess.'''\\x1b[39;00m\\n\\x1b[32m--> \\x1b[39m\\x1b[32m315\\x1b[39m \\x1b[38;5;28;01mreturn\\x1b[39;00m \\x1b[43mptyprocess\\x1b[49m\\x1b[43m.\\x1b[49m\\x1b[43mPtyProcess\\x1b[49m\\x1b[43m.\\x1b[49m\\x1b[43mspawn\\x1b[49m\\x1b[43m(\\x1b[49m\\x1b[43margs\\x1b[49m\\x1b[43m,\\x1b[49m\\x1b[43m \\x1b[49m\\x1b[43m*\\x1b[49m\\x1b[43m*\\x1b[49m\\x1b[43mkwargs\\x1b[49m\\x1b[43m)\\x1b[49m\\n\", '\\x1b[36mFile \\x1b[39m\\x1b[32m~/miniconda3/envs/rbf/lib/python3.11/site-packages/ptyprocess/ptyprocess.py:269\\x1b[39m, in \\x1b[36mPtyProcess.spawn\\x1b[39m\\x1b[34m(cls, argv, cwd, env, echo, preexec_fn, dimensions, pass_fds)\\x1b[39m\\n\\x1b[32m    268\\x1b[39m \\x1b[38;5;28;01mfor\\x1b[39;00m pair \\x1b[38;5;129;01min\\x1b[39;00m \\x1b[38;5;28mzip\\x1b[39m([\\x1b[32m2\\x1b[39m] + spass_fds, spass_fds + [max_fd]):\\n\\x1b[32m--> \\x1b[39m\\x1b[32m269\\x1b[39m     \\x1b[43mos\\x1b[49m\\x1b[43m.\\x1b[49m\\x1b[43mcloserange\\x1b[49m\\x1b[43m(\\x1b[49m\\x1b[43mpair\\x1b[49m\\x1b[43m[\\x1b[49m\\x1b[32;43m0\\x1b[39;49m\\x1b[43m]\\x1b[49m\\x1b[43m+\\x1b[49m\\x1b[32;43m1\\x1b[39;49m\\x1b[43m,\\x1b[49m\\x1b[43m \\x1b[49m\\x1b[43mpair\\x1b[49m\\x1b[43m[\\x1b[49m\\x1b[32;43m1\\x1b[39;49m\\x1b[43m]\\x1b[49m\\x1b[43m)\\x1b[49m\\n\\x1b[32m    271\\x1b[39m \\x1b[38;5;28;01mif\\x1b[39;00m cwd \\x1b[38;5;129;01mis\\x1b[39;00m \\x1b[38;5;129;01mnot\\x1b[39;00m \\x1b[38;5;28;01mNone\\x1b[39;00m:\\n', '\\x1b[31mKeyboardInterrupt\\x1b[39m: ', '\\nDuring handling of the above exception, another exception occurred:\\n', '\\x1b[31mUnboundLocalError\\x1b[39m                         Traceback (most recent call last)', '\\x1b[36mCell\\x1b[39m\\x1b[36m \\x1b[39m\\x1b[32mIn[5]\\x1b[39m\\x1b[32m, line 6\\x1b[39m\\n\\x1b[32m      3\\x1b[39m os.environ[\\x1b[33m\"\\x1b[39m\\x1b[33mDPM_TQDM\\x1b[39m\\x1b[33m\"\\x1b[39m] = \\x1b[33m\"\\x1b[39m\\x1b[33mFalse\\x1b[39m\\x1b[33m\"\\x1b[39m\\n\\x1b[32m      4\\x1b[39m os.environ[\\x1b[33m\"\\x1b[39m\\x1b[33mCUDA_VISIBLE_DEVICES\\x1b[39m\\x1b[33m\"\\x1b[39m]=\\x1b[33m\"\\x1b[39m\\x1b[33m0\\x1b[39m\\x1b[33m\"\\x1b[39m\\n\\x1b[32m----> \\x1b[39m\\x1b[32m6\\x1b[39m \\x1b[43mget_ipython\\x1b[49m\\x1b[43m(\\x1b[49m\\x1b[43m)\\x1b[49m\\x1b[43m.\\x1b[49m\\x1b[43msystem\\x1b[49m\\x1b[43m(\\x1b[49m\\x1b[33;43m\\'\\x1b[39;49m\\x1b[33;43mnvidia-smi\\x1b[39;49m\\x1b[33;43m\\'\\x1b[39;49m\\x1b[43m)\\x1b[49m\\n', '\\x1b[36mFile \\x1b[39m\\x1b[32m~/miniconda3/envs/rbf/lib/python3.11/site-packages/ipykernel/zmqshell.py:657\\x1b[39m, in \\x1b[36mZMQInteractiveShell.system_piped\\x1b[39m\\x1b[34m(self, cmd)\\x1b[39m\\n\\x1b[32m    655\\x1b[39m         \\x1b[38;5;28mself\\x1b[39m.user_ns[\\x1b[33m\"\\x1b[39m\\x1b[33m_exit_code\\x1b[39m\\x1b[33m\"\\x1b[39m] = system(cmd)\\n\\x1b[32m    656\\x1b[39m \\x1b[38;5;28;01melse\\x1b[39;00m:\\n\\x1b[32m--> \\x1b[39m\\x1b[32m657\\x1b[39m     \\x1b[38;5;28mself\\x1b[39m.user_ns[\\x1b[33m\"\\x1b[39m\\x1b[33m_exit_code\\x1b[39m\\x1b[33m\"\\x1b[39m] = \\x1b[43msystem\\x1b[49m\\x1b[43m(\\x1b[49m\\x1b[38;5;28;43mself\\x1b[39;49m\\x1b[43m.\\x1b[49m\\x1b[43mvar_expand\\x1b[49m\\x1b[43m(\\x1b[49m\\x1b[43mcmd\\x1b[49m\\x1b[43m,\\x1b[49m\\x1b[43m \\x1b[49m\\x1b[43mdepth\\x1b[49m\\x1b[43m=\\x1b[49m\\x1b[32;43m1\\x1b[39;49m\\x1b[43m)\\x1b[49m\\x1b[43m)\\x1b[49m\\n', \"\\x1b[36mFile \\x1b[39m\\x1b[32m~/miniconda3/envs/rbf/lib/python3.11/site-packages/IPython/utils/_process_posix.py:141\\x1b[39m, in \\x1b[36mProcessHandler.system\\x1b[39m\\x1b[34m(self, cmd)\\x1b[39m\\n\\x1b[32m    136\\x1b[39m         out_size = \\x1b[38;5;28mlen\\x1b[39m(child.before)\\n\\x1b[32m    137\\x1b[39m \\x1b[38;5;28;01mexcept\\x1b[39;00m \\x1b[38;5;167;01mKeyboardInterrupt\\x1b[39;00m:\\n\\x1b[32m    138\\x1b[39m     \\x1b[38;5;66;03m# We need to send ^C to the process.  The ascii code for '^C' is 3\\x1b[39;00m\\n\\x1b[32m    139\\x1b[39m     \\x1b[38;5;66;03m# (the character is known as ETX for 'End of Text', see\\x1b[39;00m\\n\\x1b[32m    140\\x1b[39m     \\x1b[38;5;66;03m# curses.ascii.ETX).\\x1b[39;00m\\n\\x1b[32m--> \\x1b[39m\\x1b[32m141\\x1b[39m     \\x1b[43mchild\\x1b[49m.sendline(\\x1b[38;5;28mchr\\x1b[39m(\\x1b[32m3\\x1b[39m))\\n\\x1b[32m    142\\x1b[39m     \\x1b[38;5;66;03m# Read and print any more output the program might produce on its\\x1b[39;00m\\n\\x1b[32m    143\\x1b[39m     \\x1b[38;5;66;03m# way out.\\x1b[39;00m\\n\\x1b[32m    144\\x1b[39m     \\x1b[38;5;28;01mtry\\x1b[39;00m:\\n\", \"\\x1b[31mUnboundLocalError\\x1b[39m: cannot access local variable 'child' where it is not associated with a value\"], 'ename': 'UnboundLocalError', 'evalue': \"cannot access local variable 'child' where it is not associated with a value\"}, 'metadata': {}}\n"
     ]
    },
    {
     "ename": "",
     "evalue": "",
     "output_type": "error",
     "traceback": [
      "\u001b[1;31mThe Kernel crashed while executing code in the current cell or a previous cell. \n",
      "\u001b[1;31mPlease review the code in the cell(s) to identify a possible cause of the failure. \n",
      "\u001b[1;31mClick <a href='https://aka.ms/vscodeJupyterKernelCrash'>here</a> for more info. \n",
      "\u001b[1;31mView Jupyter <a href='command:jupyter.viewOutput'>log</a> for further details."
     ]
    }
   ],
   "source": [
    "import os \n",
    "os.chdir('../../')\n",
    "os.environ[\"DPM_TQDM\"] = \"False\"\n",
    "os.environ[\"CUDA_VISIBLE_DEVICES\"]=\"0\"\n",
    "\n",
    "!nvidia-smi"
   ]
  },
  {
   "cell_type": "code",
   "execution_count": null,
   "id": "56d1cbf6",
   "metadata": {},
   "outputs": [
    {
     "name": "stderr",
     "output_type": "stream",
     "text": [
      "/home/scpark/miniconda3/envs/rbf/lib/python3.11/site-packages/tqdm/auto.py:21: TqdmWarning: IProgress not found. Please update jupyter and ipywidgets. See https://ipywidgets.readthedocs.io/en/stable/user_install.html\n",
      "  from .autonotebook import tqdm as notebook_tqdm\n",
      "Loading pipeline components...:   0%|          | 0/3 [00:00<?, ?it/s]An error occurred while trying to fetch /home/scpark/.cache/huggingface/hub/models--facebook--DiT-XL-2-256/snapshots/eab87f77abd5aef071a632f08807fbaab0b704d0/vae: Error no file named diffusion_pytorch_model.safetensors found in directory /home/scpark/.cache/huggingface/hub/models--facebook--DiT-XL-2-256/snapshots/eab87f77abd5aef071a632f08807fbaab0b704d0/vae.\n",
      "Defaulting to unsafe serialization. Pass `allow_pickle=False` to raise an error instead.\n",
      "Loading pipeline components...:  67%|██████▋   | 2/3 [00:00<00:00, 16.68it/s]An error occurred while trying to fetch /home/scpark/.cache/huggingface/hub/models--facebook--DiT-XL-2-256/snapshots/eab87f77abd5aef071a632f08807fbaab0b704d0/transformer: Error no file named diffusion_pytorch_model.safetensors found in directory /home/scpark/.cache/huggingface/hub/models--facebook--DiT-XL-2-256/snapshots/eab87f77abd5aef071a632f08807fbaab0b704d0/transformer.\n",
      "Defaulting to unsafe serialization. Pass `allow_pickle=False` to raise an error instead.\n",
      "Loading pipeline components...: 100%|██████████| 3/3 [00:00<00:00,  5.64it/s]\n",
      "Expected types for id2label: (typing.Dict[int, str], <class 'NoneType'>), got typing.Dict[str, str].\n"
     ]
    },
    {
     "name": "stdout",
     "output_type": "stream",
     "text": [
      "<backbones.dit.DiT object at 0x7fc70b5e1d90>\n",
      "len(train_dataset) : 10000 len(valid_dataset) : 1000\n",
      "done\n",
      "done\n"
     ]
    }
   ],
   "source": [
    "### Config\n",
    "from easydict import EasyDict\n",
    "\n",
    "config = EasyDict()\n",
    "config.backbone = 'DiT'\n",
    "config.train_pt_dir = 'samplings/dit/train/dit_train_0_trajdrop'\n",
    "config.valid_pt_dir = 'samplings/dit/eval1000/dit_eval1000_3'\n",
    "config.batch_size = 10\n",
    "config.CFG = 1.375\n",
    "config.epochs = 10\n",
    "config.val_every = 100\n",
    "config.log_dir = \"logs/exp7\"\n",
    "\n",
    "### Model\n",
    "from backbones.dit import DiT\n",
    "\n",
    "if config.backbone == 'DiT':\n",
    "    model = DiT(trainable=True)\n",
    "print(model)\n",
    "\n",
    "\n",
    "### Dataset\n",
    "from datasets.pt_dataset import PtDataset\n",
    "from torch.utils.data import DataLoader\n",
    "\n",
    "train_dataset = PtDataset(config.train_pt_dir)\n",
    "valid_dataset = PtDataset(config.valid_pt_dir)\n",
    "print('len(train_dataset) :', len(train_dataset), 'len(valid_dataset) :', len(valid_dataset))\n",
    "train_loader = DataLoader(train_dataset, batch_size=config.batch_size, shuffle=True, num_workers=8, pin_memory=True, persistent_workers=True, prefetch_factor=4)\n",
    "valid_loader = DataLoader(valid_dataset, batch_size=config.batch_size, shuffle=False)\n",
    "print('done')\n",
    "\n",
    "### Solver\n",
    "import torch\n",
    "from solvers.dual.static.gdual_pc_loglinear_solver import GDual_PC_LogLinear_Solver\n",
    "from torch.utils.tensorboard import SummaryWriter\n",
    "\n",
    "noise_schedule = model.get_noise_schedule()\n",
    "solver = GDual_PC_LogLinear_Solver(noise_schedule, steps=5, skip_type=\"time_uniform\", param_dim=(4, 1, 1))\n",
    "solver = solver.to(model.device)\n",
    "optimizer = torch.optim.AdamW(solver.parameters(), lr=1e-3)\n",
    "print('done')"
   ]
  },
  {
   "cell_type": "code",
   "execution_count": null,
   "id": "2e600372",
   "metadata": {},
   "outputs": [
    {
     "name": "stdout",
     "output_type": "stream",
     "text": [
      "done\n"
     ]
    }
   ],
   "source": [
    "import numpy as np\n",
    "import torch.nn.functional as F\n",
    "from tqdm import tqdm\n",
    "\n",
    "def get_valid_loss(device, solver):\n",
    "    solver.eval()\n",
    "    losses = []\n",
    "    for batch in tqdm(valid_loader):\n",
    "        with torch.no_grad():\n",
    "            noises, conds, targets = batch['noise'].to(device, non_blocking=True), batch['cond'], batch['sample'].to(device, non_blocking=True)\n",
    "            model_fn = model.get_model_fn(noise_schedule, pos_conds=conds, guidance_scale=config.CFG)\n",
    "            pred = solver.sample(noises, model_fn)\n",
    "            loss = F.mse_loss(pred, targets)\n",
    "            losses.append(loss.item())\n",
    "    return np.mean(losses)\n",
    "    \n",
    "def do_train_loop(device, epoch, writer, solver):\n",
    "    solver.train()\n",
    "    pbar = tqdm(train_loader)\n",
    "    losses = []\n",
    "    for step, batch in enumerate(pbar):\n",
    "        global_step = epoch * len(train_loader) + step\n",
    "        if global_step % config.val_every == 0:\n",
    "            valid_loss = get_valid_loss(device, solver)\n",
    "            print('step :', global_step, 'valid_loss :', valid_loss)\n",
    "            writer.add_scalar(\"valid/loss\", valid_loss, global_step)\n",
    "            save_checkpoint(global_step, config.log_dir, solver, valid_loss)\n",
    "\n",
    "        optimizer.zero_grad(set_to_none=True)\n",
    "        noises, conds, targets = batch['noise'].to(device, non_blocking=True), batch['cond'], batch['sample'].to(device, non_blocking=True)\n",
    "        model_fn = model.get_model_fn(noise_schedule, pos_conds=conds, guidance_scale=config.CFG)\n",
    "\n",
    "        with torch.autocast(device_type='cuda', dtype=torch.bfloat16):\n",
    "            pred = solver.sample(noises, model_fn)\n",
    "            loss = F.mse_loss(pred, targets)\n",
    "\n",
    "        loss.backward()\n",
    "        torch.nn.utils.clip_grad_norm_(solver.parameters(), 1.0)\n",
    "        optimizer.step()\n",
    "\n",
    "        losses.append(loss.item())\n",
    "        pbar.set_postfix({'loss': loss.item()})\n",
    "        \n",
    "    return np.mean(losses)\n",
    "\n",
    "def save_checkpoint(global_step, save_dir, solver, valid_loss):\n",
    "    ckpt = {\n",
    "        \"global_step\": global_step,\n",
    "        \"solver_state_dict\": solver.state_dict(),\n",
    "        \"valid_loss\": float(valid_loss),\n",
    "        \"config\": dict(config),\n",
    "    }\n",
    "    step_path = os.path.join(save_dir, f\"step_{global_step:08d}.pt\")\n",
    "    torch.save(ckpt, step_path)\n",
    "    \n",
    "    return step_path    \n",
    "\n",
    "print('done')"
   ]
  },
  {
   "cell_type": "markdown",
   "id": "3bf948e3",
   "metadata": {},
   "source": [
    "### Train Loop"
   ]
  },
  {
   "cell_type": "code",
   "execution_count": null,
   "id": "1e6abf95",
   "metadata": {},
   "outputs": [
    {
     "name": "stderr",
     "output_type": "stream",
     "text": [
      "  0%|          | 0/1000 [00:00<?, ?it/s]"
     ]
    },
    {
     "name": "stdout",
     "output_type": "stream",
     "text": [
      "step : 0 valid_loss : 0.11410509288311005\n"
     ]
    },
    {
     "name": "stderr",
     "output_type": "stream",
     "text": [
      " 10%|█         | 100/1000 [02:30<18:37,  1.24s/it, loss=0.083] "
     ]
    },
    {
     "name": "stdout",
     "output_type": "stream",
     "text": [
      "step : 100 valid_loss : 0.08821294501423836\n"
     ]
    },
    {
     "name": "stderr",
     "output_type": "stream",
     "text": [
      " 20%|██        | 200/1000 [04:59<16:15,  1.22s/it, loss=0.0708]  "
     ]
    },
    {
     "name": "stdout",
     "output_type": "stream",
     "text": [
      "step : 200 valid_loss : 0.08402609713375568\n"
     ]
    },
    {
     "name": "stderr",
     "output_type": "stream",
     "text": [
      " 30%|███       | 300/1000 [07:27<13:58,  1.20s/it, loss=0.0832]  "
     ]
    },
    {
     "name": "stdout",
     "output_type": "stream",
     "text": [
      "step : 300 valid_loss : 0.081602753251791\n"
     ]
    },
    {
     "name": "stderr",
     "output_type": "stream",
     "text": [
      " 40%|████      | 400/1000 [09:56<12:26,  1.24s/it, loss=0.0592]  "
     ]
    },
    {
     "name": "stdout",
     "output_type": "stream",
     "text": [
      "step : 400 valid_loss : 0.07969183340668679\n"
     ]
    },
    {
     "name": "stderr",
     "output_type": "stream",
     "text": [
      " 50%|█████     | 500/1000 [12:24<10:06,  1.21s/it, loss=0.0726]  "
     ]
    },
    {
     "name": "stdout",
     "output_type": "stream",
     "text": [
      "step : 500 valid_loss : 0.07853386040776968\n"
     ]
    },
    {
     "name": "stderr",
     "output_type": "stream",
     "text": [
      " 60%|██████    | 600/1000 [14:53<08:20,  1.25s/it, loss=0.0619]  "
     ]
    },
    {
     "name": "stdout",
     "output_type": "stream",
     "text": [
      "step : 600 valid_loss : 0.07795773461461067\n"
     ]
    },
    {
     "name": "stderr",
     "output_type": "stream",
     "text": [
      " 70%|███████   | 700/1000 [17:22<05:56,  1.19s/it, loss=0.071]   "
     ]
    },
    {
     "name": "stdout",
     "output_type": "stream",
     "text": [
      "step : 700 valid_loss : 0.07737044431269169\n"
     ]
    },
    {
     "name": "stderr",
     "output_type": "stream",
     "text": [
      " 80%|████████  | 800/1000 [19:50<04:08,  1.24s/it, loss=0.0863]"
     ]
    },
    {
     "name": "stdout",
     "output_type": "stream",
     "text": [
      "step : 800 valid_loss : 0.07705624781548977\n"
     ]
    },
    {
     "name": "stderr",
     "output_type": "stream",
     "text": [
      " 90%|█████████ | 900/1000 [22:19<02:04,  1.24s/it, loss=0.0716]"
     ]
    },
    {
     "name": "stdout",
     "output_type": "stream",
     "text": [
      "step : 900 valid_loss : 0.07693292755633592\n"
     ]
    },
    {
     "name": "stderr",
     "output_type": "stream",
     "text": [
      "100%|██████████| 1000/1000 [24:49<00:00,  1.49s/it, loss=0.089]\n"
     ]
    },
    {
     "name": "stdout",
     "output_type": "stream",
     "text": [
      "train_loss : 0.08184933226928115\n"
     ]
    },
    {
     "name": "stderr",
     "output_type": "stream",
     "text": [
      "  0%|          | 0/1000 [00:00<?, ?it/s]"
     ]
    },
    {
     "name": "stdout",
     "output_type": "stream",
     "text": [
      "step : 1000 valid_loss : 0.07656678799539804\n"
     ]
    },
    {
     "name": "stderr",
     "output_type": "stream",
     "text": [
      " 10%|█         | 100/1000 [02:32<18:57,  1.26s/it, loss=0.088] "
     ]
    },
    {
     "name": "stdout",
     "output_type": "stream",
     "text": [
      "step : 1100 valid_loss : 0.07636283826082944\n"
     ]
    },
    {
     "name": "stderr",
     "output_type": "stream",
     "text": [
      " 20%|██        | 200/1000 [05:13<17:27,  1.31s/it, loss=0.0611]  "
     ]
    },
    {
     "name": "stdout",
     "output_type": "stream",
     "text": [
      "step : 1200 valid_loss : 0.07634044736623764\n"
     ]
    },
    {
     "name": "stderr",
     "output_type": "stream",
     "text": [
      " 30%|███       | 300/1000 [08:01<16:40,  1.43s/it, loss=0.0885]  "
     ]
    },
    {
     "name": "stdout",
     "output_type": "stream",
     "text": [
      "step : 1300 valid_loss : 0.07637966681271792\n"
     ]
    },
    {
     "name": "stderr",
     "output_type": "stream",
     "text": [
      " 40%|████      | 400/1000 [11:04<15:33,  1.56s/it, loss=0.0793]  "
     ]
    },
    {
     "name": "stdout",
     "output_type": "stream",
     "text": [
      "step : 1400 valid_loss : 0.0764648462459445\n"
     ]
    },
    {
     "name": "stderr",
     "output_type": "stream",
     "text": [
      " 50%|█████     | 500/1000 [14:14<13:03,  1.57s/it, loss=0.0762]  "
     ]
    },
    {
     "name": "stdout",
     "output_type": "stream",
     "text": [
      "step : 1500 valid_loss : 0.07634517058730125\n"
     ]
    },
    {
     "name": "stderr",
     "output_type": "stream",
     "text": [
      " 60%|██████    | 600/1000 [17:28<10:55,  1.64s/it, loss=0.0786] "
     ]
    },
    {
     "name": "stdout",
     "output_type": "stream",
     "text": [
      "step : 1600 valid_loss : 0.07634060729295016\n"
     ]
    },
    {
     "name": "stderr",
     "output_type": "stream",
     "text": [
      " 70%|███████   | 700/1000 [20:46<08:20,  1.67s/it, loss=0.0796]  "
     ]
    },
    {
     "name": "stdout",
     "output_type": "stream",
     "text": [
      "step : 1700 valid_loss : 0.07613841339945793\n"
     ]
    },
    {
     "name": "stderr",
     "output_type": "stream",
     "text": [
      " 80%|████████  | 800/1000 [24:07<05:31,  1.66s/it, loss=0.0884]  "
     ]
    },
    {
     "name": "stdout",
     "output_type": "stream",
     "text": [
      "step : 1800 valid_loss : 0.07653397023677826\n"
     ]
    },
    {
     "name": "stderr",
     "output_type": "stream",
     "text": [
      " 90%|█████████ | 900/1000 [27:33<02:48,  1.69s/it, loss=0.114] "
     ]
    },
    {
     "name": "stdout",
     "output_type": "stream",
     "text": [
      "step : 1900 valid_loss : 0.07625425100326538\n"
     ]
    },
    {
     "name": "stderr",
     "output_type": "stream",
     "text": [
      "100%|██████████| 1000/1000 [31:01<00:00,  1.86s/it, loss=0.0892]\n"
     ]
    },
    {
     "name": "stdout",
     "output_type": "stream",
     "text": [
      "train_loss : 0.07687492361292243\n"
     ]
    },
    {
     "name": "stderr",
     "output_type": "stream",
     "text": [
      "  0%|          | 0/1000 [00:00<?, ?it/s]"
     ]
    },
    {
     "name": "stdout",
     "output_type": "stream",
     "text": [
      "step : 2000 valid_loss : 0.07625873364508153\n"
     ]
    },
    {
     "name": "stderr",
     "output_type": "stream",
     "text": [
      " 10%|█         | 100/1000 [03:31<25:31,  1.70s/it, loss=0.0978] "
     ]
    },
    {
     "name": "stdout",
     "output_type": "stream",
     "text": [
      "step : 2100 valid_loss : 0.07624793037772179\n"
     ]
    },
    {
     "name": "stderr",
     "output_type": "stream",
     "text": [
      " 20%|██        | 200/1000 [06:55<22:46,  1.71s/it, loss=0.115]   "
     ]
    },
    {
     "name": "stdout",
     "output_type": "stream",
     "text": [
      "step : 2200 valid_loss : 0.07619009688496589\n"
     ]
    },
    {
     "name": "stderr",
     "output_type": "stream",
     "text": [
      " 30%|███       | 300/1000 [10:22<19:47,  1.70s/it, loss=0.0637]  "
     ]
    },
    {
     "name": "stdout",
     "output_type": "stream",
     "text": [
      "step : 2300 valid_loss : 0.0763366561383009\n"
     ]
    },
    {
     "name": "stderr",
     "output_type": "stream",
     "text": [
      " 31%|███       | 311/1000 [11:19<25:04,  2.18s/it, loss=0.0584]  \n"
     ]
    },
    {
     "ename": "RuntimeError",
     "evalue": "The size of tensor a (4) must match the size of tensor b (2) at non-singleton dimension 1",
     "output_type": "error",
     "traceback": [
      "\u001b[31m---------------------------------------------------------------------------\u001b[39m",
      "\u001b[31mRuntimeError\u001b[39m                              Traceback (most recent call last)",
      "\u001b[36mCell\u001b[39m\u001b[36m \u001b[39m\u001b[32mIn[4]\u001b[39m\u001b[32m, line 4\u001b[39m\n\u001b[32m      1\u001b[39m writer = SummaryWriter(log_dir=config.log_dir)\n\u001b[32m      3\u001b[39m \u001b[38;5;28;01mfor\u001b[39;00m epoch \u001b[38;5;129;01min\u001b[39;00m \u001b[38;5;28mrange\u001b[39m(config.epochs):\n\u001b[32m----> \u001b[39m\u001b[32m4\u001b[39m     train_loss = \u001b[43mdo_train_loop\u001b[49m\u001b[43m(\u001b[49m\u001b[43mmodel\u001b[49m\u001b[43m.\u001b[49m\u001b[43mdevice\u001b[49m\u001b[43m,\u001b[49m\u001b[43m \u001b[49m\u001b[43mepoch\u001b[49m\u001b[43m,\u001b[49m\u001b[43m \u001b[49m\u001b[43mwriter\u001b[49m\u001b[43m,\u001b[49m\u001b[43m \u001b[49m\u001b[43msolver\u001b[49m\u001b[43m)\u001b[49m\n\u001b[32m      5\u001b[39m     \u001b[38;5;28mprint\u001b[39m(\u001b[33m'\u001b[39m\u001b[33mtrain_loss :\u001b[39m\u001b[33m'\u001b[39m, train_loss)\n\u001b[32m      7\u001b[39m writer.close()    \n",
      "\u001b[36mCell\u001b[39m\u001b[36m \u001b[39m\u001b[32mIn[3]\u001b[39m\u001b[32m, line 34\u001b[39m, in \u001b[36mdo_train_loop\u001b[39m\u001b[34m(device, epoch, writer, solver)\u001b[39m\n\u001b[32m     31\u001b[39m model_fn = model.get_model_fn(noise_schedule, pos_conds=conds, guidance_scale=config.CFG)\n\u001b[32m     33\u001b[39m \u001b[38;5;28;01mwith\u001b[39;00m torch.autocast(device_type=\u001b[33m'\u001b[39m\u001b[33mcuda\u001b[39m\u001b[33m'\u001b[39m, dtype=torch.bfloat16):\n\u001b[32m---> \u001b[39m\u001b[32m34\u001b[39m     pred = \u001b[43msolver\u001b[49m\u001b[43m.\u001b[49m\u001b[43msample\u001b[49m\u001b[43m(\u001b[49m\u001b[43mnoises\u001b[49m\u001b[43m,\u001b[49m\u001b[43m \u001b[49m\u001b[43mmodel_fn\u001b[49m\u001b[43m)\u001b[49m\n\u001b[32m     35\u001b[39m     loss = F.mse_loss(pred, targets)\n\u001b[32m     37\u001b[39m loss.backward()\n",
      "\u001b[36mFile \u001b[39m\u001b[32m~/logpx_samplers/solvers/dual/static/gdual_pc_loglinear_solver.py:147\u001b[39m, in \u001b[36msample\u001b[39m\u001b[34m(self, x, model_fn, **kwargs)\u001b[39m\n\u001b[32m    144\u001b[39m for i in tqdm(range(self.steps), disable=os.getenv(\"TQDM\", \"False\")):\n\u001b[32m    145\u001b[39m     p = min(i+1, self.steps - i, self.order) if self.lower_order_final else min(i+1, self.order)\n\u001b[32m--> \u001b[39m\u001b[32m147\u001b[39m     # Predictor\n\u001b[32m    148\u001b[39m     gamma, tau_x, tau_e, kappa_x, kappa_e = self.params[i][0]\n\u001b[32m    149\u001b[39m     tau_x, tau_e = torch.sigmoid(tau_x), torch.sigmoid(tau_e)\n",
      "\u001b[36mFile \u001b[39m\u001b[32m~/logpx_samplers/solvers/solver.py:60\u001b[39m, in \u001b[36mSolver.checkpoint_model_fn\u001b[39m\u001b[34m(self, x, t)\u001b[39m\n\u001b[32m     58\u001b[39m \u001b[38;5;28;01mdef\u001b[39;00m\u001b[38;5;250m \u001b[39m\u001b[34mcheckpoint_model_fn\u001b[39m(\u001b[38;5;28mself\u001b[39m, x, t):\n\u001b[32m     59\u001b[39m     \u001b[38;5;28;01mwith\u001b[39;00m save_on_cpu(pin_memory=\u001b[38;5;28;01mTrue\u001b[39;00m):\n\u001b[32m---> \u001b[39m\u001b[32m60\u001b[39m         y = \u001b[43mcheckpoint\u001b[49m\u001b[43m(\u001b[49m\u001b[38;5;28;43mself\u001b[39;49m\u001b[43m.\u001b[49m\u001b[43mmodel_fn\u001b[49m\u001b[43m,\u001b[49m\u001b[43m \u001b[49m\u001b[43mx\u001b[49m\u001b[43m,\u001b[49m\u001b[43m \u001b[49m\u001b[43mt\u001b[49m\u001b[43m,\u001b[49m\u001b[43m \u001b[49m\u001b[43muse_reentrant\u001b[49m\u001b[43m=\u001b[49m\u001b[38;5;28;43;01mFalse\u001b[39;49;00m\u001b[43m)\u001b[49m\n\u001b[32m     61\u001b[39m     \u001b[38;5;28;01mreturn\u001b[39;00m y\n",
      "\u001b[36mFile \u001b[39m\u001b[32m~/miniconda3/envs/rbf/lib/python3.11/site-packages/torch/_compile.py:51\u001b[39m, in \u001b[36m_disable_dynamo.<locals>.inner\u001b[39m\u001b[34m(*args, **kwargs)\u001b[39m\n\u001b[32m     48\u001b[39m     disable_fn = torch._dynamo.disable(fn, recursive)\n\u001b[32m     49\u001b[39m     fn.__dynamo_disable = disable_fn  \u001b[38;5;66;03m# type: ignore[attr-defined]\u001b[39;00m\n\u001b[32m---> \u001b[39m\u001b[32m51\u001b[39m \u001b[38;5;28;01mreturn\u001b[39;00m \u001b[43mdisable_fn\u001b[49m\u001b[43m(\u001b[49m\u001b[43m*\u001b[49m\u001b[43margs\u001b[49m\u001b[43m,\u001b[49m\u001b[43m \u001b[49m\u001b[43m*\u001b[49m\u001b[43m*\u001b[49m\u001b[43mkwargs\u001b[49m\u001b[43m)\u001b[49m\n",
      "\u001b[36mFile \u001b[39m\u001b[32m~/miniconda3/envs/rbf/lib/python3.11/site-packages/torch/_dynamo/eval_frame.py:838\u001b[39m, in \u001b[36mDisableContext.__call__.<locals>._fn\u001b[39m\u001b[34m(*args, **kwargs)\u001b[39m\n\u001b[32m    836\u001b[39m _maybe_set_eval_frame(_callback_from_stance(\u001b[38;5;28mself\u001b[39m.callback))\n\u001b[32m    837\u001b[39m \u001b[38;5;28;01mtry\u001b[39;00m:\n\u001b[32m--> \u001b[39m\u001b[32m838\u001b[39m     \u001b[38;5;28;01mreturn\u001b[39;00m \u001b[43mfn\u001b[49m\u001b[43m(\u001b[49m\u001b[43m*\u001b[49m\u001b[43margs\u001b[49m\u001b[43m,\u001b[49m\u001b[43m \u001b[49m\u001b[43m*\u001b[49m\u001b[43m*\u001b[49m\u001b[43mkwargs\u001b[49m\u001b[43m)\u001b[49m\n\u001b[32m    839\u001b[39m \u001b[38;5;28;01mfinally\u001b[39;00m:\n\u001b[32m    840\u001b[39m     set_eval_frame(\u001b[38;5;28;01mNone\u001b[39;00m)\n",
      "\u001b[36mFile \u001b[39m\u001b[32m~/miniconda3/envs/rbf/lib/python3.11/site-packages/torch/utils/checkpoint.py:495\u001b[39m, in \u001b[36mcheckpoint\u001b[39m\u001b[34m(function, use_reentrant, context_fn, determinism_check, debug, *args, **kwargs)\u001b[39m\n\u001b[32m    493\u001b[39m \u001b[38;5;66;03m# Runs pre-forward logic\u001b[39;00m\n\u001b[32m    494\u001b[39m \u001b[38;5;28mnext\u001b[39m(gen)\n\u001b[32m--> \u001b[39m\u001b[32m495\u001b[39m ret = \u001b[43mfunction\u001b[49m\u001b[43m(\u001b[49m\u001b[43m*\u001b[49m\u001b[43margs\u001b[49m\u001b[43m,\u001b[49m\u001b[43m \u001b[49m\u001b[43m*\u001b[49m\u001b[43m*\u001b[49m\u001b[43mkwargs\u001b[49m\u001b[43m)\u001b[49m\n\u001b[32m    496\u001b[39m \u001b[38;5;66;03m# Runs post-forward logic\u001b[39;00m\n\u001b[32m    497\u001b[39m \u001b[38;5;28;01mtry\u001b[39;00m:\n",
      "\u001b[36mFile \u001b[39m\u001b[32m~/logpx_samplers/solvers/solver.py:77\u001b[39m, in \u001b[36mSolver.model_fn\u001b[39m\u001b[34m(self, x, t)\u001b[39m\n\u001b[32m     75\u001b[39m alpha_t = \u001b[38;5;28mself\u001b[39m.noise_schedule.marginal_alpha(t)\n\u001b[32m     76\u001b[39m sigma_t = \u001b[38;5;28mself\u001b[39m.noise_schedule.marginal_std(t)\n\u001b[32m---> \u001b[39m\u001b[32m77\u001b[39m x0 = (\u001b[43mx\u001b[49m\u001b[43m \u001b[49m\u001b[43m-\u001b[49m\u001b[43m \u001b[49m\u001b[43msigma_t\u001b[49m\u001b[43m \u001b[49m\u001b[43m*\u001b[49m\u001b[43m \u001b[49m\u001b[43mnoise\u001b[49m) / alpha_t\n\u001b[32m     78\u001b[39m \u001b[38;5;28;01mif\u001b[39;00m \u001b[38;5;28mself\u001b[39m.correcting_x0_fn \u001b[38;5;129;01mis\u001b[39;00m \u001b[38;5;129;01mnot\u001b[39;00m \u001b[38;5;28;01mNone\u001b[39;00m:\n\u001b[32m     79\u001b[39m     x0 = \u001b[38;5;28mself\u001b[39m.correcting_x0_fn(x0, t)\n",
      "\u001b[31mRuntimeError\u001b[39m: The size of tensor a (4) must match the size of tensor b (2) at non-singleton dimension 1"
     ]
    }
   ],
   "source": [
    "writer = SummaryWriter(log_dir=config.log_dir)\n",
    "\n",
    "for epoch in range(config.epochs):\n",
    "    train_loss = do_train_loop(model.device, epoch, writer, solver)\n",
    "    print('train_loss :', train_loss)\n",
    "\n",
    "writer.close()    "
   ]
  },
  {
   "cell_type": "code",
   "execution_count": null,
   "id": "8715013b",
   "metadata": {},
   "outputs": [],
   "source": []
  },
  {
   "cell_type": "markdown",
   "id": "10093e42",
   "metadata": {},
   "source": []
  },
  {
   "cell_type": "code",
   "execution_count": null,
   "id": "01f96ec9",
   "metadata": {},
   "outputs": [],
   "source": []
  },
  {
   "cell_type": "code",
   "execution_count": null,
   "id": "63b32b30",
   "metadata": {},
   "outputs": [],
   "source": []
  }
 ],
 "metadata": {
  "kernelspec": {
   "display_name": "rbf",
   "language": "python",
   "name": "python3"
  },
  "language_info": {
   "codemirror_mode": {
    "name": "ipython",
    "version": 3
   },
   "file_extension": ".py",
   "mimetype": "text/x-python",
   "name": "python",
   "nbconvert_exporter": "python",
   "pygments_lexer": "ipython3",
   "version": "3.11.10"
  }
 },
 "nbformat": 4,
 "nbformat_minor": 5
}
