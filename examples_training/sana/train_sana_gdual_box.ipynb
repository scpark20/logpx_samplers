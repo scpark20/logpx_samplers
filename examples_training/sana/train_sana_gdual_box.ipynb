{
 "cells": [
  {
   "cell_type": "code",
   "execution_count": 1,
   "metadata": {},
   "outputs": [],
   "source": [
    "import os \n",
    "os.chdir('../../')\n",
    "os.environ[\"DPM_TQDM\"] = \"False\""
   ]
  },
  {
   "cell_type": "code",
   "execution_count": 2,
   "metadata": {},
   "outputs": [
    {
     "name": "stderr",
     "output_type": "stream",
     "text": [
      "/home/scpark/miniconda3/envs/sana/lib/python3.10/site-packages/tqdm/auto.py:21: TqdmWarning: IProgress not found. Please update jupyter and ipywidgets. See https://ipywidgets.readthedocs.io/en/stable/user_install.html\n",
      "  from .autonotebook import tqdm as notebook_tqdm\n",
      "Loading checkpoint shards: 100%|██████████| 2/2 [00:00<00:00, 108.82it/s]\n",
      "Loading pipeline components...: 100%|██████████| 5/5 [00:00<00:00,  5.85it/s]\n"
     ]
    },
    {
     "name": "stdout",
     "output_type": "stream",
     "text": [
      "<backbones.sana.SANA object at 0x7716d4139cc0>\n"
     ]
    }
   ],
   "source": [
    "from backbones.sana import SANA\n",
    "\n",
    "# 사용 예\n",
    "model = SANA(model_id='Efficient-Large-Model/Sana_600M_1024px_diffusers',\n",
    "             trainable=True)\n",
    "print(model)"
   ]
  },
  {
   "cell_type": "code",
   "execution_count": 3,
   "metadata": {},
   "outputs": [
    {
     "name": "stdout",
     "output_type": "stream",
     "text": [
      "done\n"
     ]
    }
   ],
   "source": [
    "from solvers.euler_solver import Euler_Solver\n",
    "\n",
    "pos_texts = [\"A serene twilight view of a traditional Korean hanok village nestled between misty mountain slopes: curved midnight-blue tiled eaves, softly glowing paper lanterns swaying in the breeze; ancient pine trees arching over stone pathways; intricate wooden lattice windows casting delicate shadows; a lone scholar in flowing hanbok practicing calligraphy beside a koi pond with lotus petals drifting on the water; cinematic 8K ultra-realism with dynamic volumetric moonlight filtering through morning mist; painterly strokes blending classical Joseon-era ink wash with modern hyperrealism; shot on RED Monstro 8K, 50 mm f/1.2 lens; subtle film grain; maximum fidelity; emotional atmosphere.\"]\n",
    "neg_texts = [\"lowres, bad anatomy, deformed, blurry, pixelated, oversaturated, underexposed, overexposed, artifact, jpeg artifacts, watermark, text, logo, extra limbs, mutated hands, unnatural colors, noisy background, out of focus, poor composition, cultural clichés, stereotype exaggeration, flat lighting, glitch\"]\n",
    "\n",
    "model_fn, noise_schedule, latents = model.get_model_fn(pos_conds=pos_texts, neg_conds=neg_texts, guidance_scale=4.5, seeds=[42])\n",
    "print('done')"
   ]
  },
  {
   "cell_type": "code",
   "execution_count": 4,
   "metadata": {},
   "outputs": [],
   "source": [
    "import torch\n",
    "import torch.nn.functional as F\n",
    "from torch import amp\n",
    "from solvers.euler_solver import Euler_Solver\n",
    "\n",
    "# with torch.no_grad():\n",
    "#     solver = Euler_Solver(model_fn, noise_schedule, algorithm_type=\"data_prediction\")\n",
    "#     euler_latents = solver.sample(latents, steps=10, skip_type='time_uniform_flow', flow_shift=3.0)\n",
    "#     euler_samples = model.decode_vae(euler_latents['samples'])\n",
    "    \n",
    "# euler_samples[0]"
   ]
  },
  {
   "cell_type": "code",
   "execution_count": 5,
   "metadata": {},
   "outputs": [
    {
     "name": "stdout",
     "output_type": "stream",
     "text": [
      "done\n"
     ]
    }
   ],
   "source": [
    "import torch\n",
    "from torch import amp\n",
    "from solvers.dual.static.gdual_box_solver import GDual_Box_Solver\n",
    "\n",
    "device = 'cuda:0'\n",
    "solver = GDual_Box_Solver(model_fn, noise_schedule, steps=5, skip_type=\"time_uniform_flow\", flow_shift=3.0, param_dim=(1, 1, 1))\n",
    "solver = solver.to(device)\n",
    "\n",
    "    \n",
    "optimizer = torch.optim.AdamW(solver.parameters(), lr=1e-3)\n",
    "scaler = amp.GradScaler()\n",
    "print('done')\n",
    "\n",
    "#gdual_samples[0]"
   ]
  },
  {
   "cell_type": "code",
   "execution_count": null,
   "metadata": {},
   "outputs": [
    {
     "name": "stderr",
     "output_type": "stream",
     "text": [
      "  1%|          | 12/1000 [00:09<11:59,  1.37it/s, loss=2.36]"
     ]
    }
   ],
   "source": [
    "from tqdm import tqdm\n",
    "import torch.nn.functional as F\n",
    "\n",
    "pbar = tqdm(range(1000))\n",
    "for iter in pbar:\n",
    "    optimizer.zero_grad(set_to_none=True)\n",
    "    with amp.autocast(device_type=device, dtype=torch.bfloat16):\n",
    "        preds = solver.sample(latents)\n",
    "        loss = F.mse_loss(preds, torch.randn_like(preds))\n",
    "\n",
    "        pbar.set_postfix({'loss': loss.item()})\n",
    "\n",
    "    scaler.scale(loss).backward()\n",
    "    scaler.step(optimizer)\n",
    "    scaler.update()\n",
    "\n",
    "    # if iter % 100 == 0:\n",
    "    #     with torch.no_grad():\n",
    "    #         pr_samples = model.decode_vae(pr_latents)\n",
    "            \n",
    "    #         import matplotlib.pyplot as plt\n",
    "    #         plt.imshow(pr_samples[0])\n",
    "    #         plt.show()\n",
    "\n",
    "print('done')"
   ]
  },
  {
   "cell_type": "code",
   "execution_count": null,
   "metadata": {},
   "outputs": [],
   "source": []
  },
  {
   "cell_type": "markdown",
   "metadata": {},
   "source": []
  },
  {
   "cell_type": "code",
   "execution_count": null,
   "metadata": {},
   "outputs": [],
   "source": []
  },
  {
   "cell_type": "code",
   "execution_count": null,
   "metadata": {},
   "outputs": [],
   "source": []
  },
  {
   "cell_type": "code",
   "execution_count": null,
   "metadata": {},
   "outputs": [],
   "source": []
  }
 ],
 "metadata": {
  "kernelspec": {
   "display_name": "sana",
   "language": "python",
   "name": "python3"
  },
  "language_info": {
   "codemirror_mode": {
    "name": "ipython",
    "version": 3
   },
   "file_extension": ".py",
   "mimetype": "text/x-python",
   "name": "python",
   "nbconvert_exporter": "python",
   "pygments_lexer": "ipython3",
   "version": "3.10.0"
  }
 },
 "nbformat": 4,
 "nbformat_minor": 2
}
