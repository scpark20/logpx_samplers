{
 "cells": [
  {
   "cell_type": "code",
   "execution_count": null,
   "id": "cc7a3238",
   "metadata": {},
   "outputs": [],
   "source": [
    "import os\n",
    "os.chdir('../')"
   ]
  },
  {
   "cell_type": "code",
   "execution_count": null,
   "id": "dc86b063",
   "metadata": {},
   "outputs": [],
   "source": [
    "ref_root = 'samplings/sana/ref'\n",
    "sam_root = 'samplings/sana/sam'\n",
    "\n",
    "# Attributes to compare between reference and sample configs\n",
    "attrs = ['model', 'algorithm_type', 'skip_type', 'flow_shift', 'CFG', 'n_samples']"
   ]
  },
  {
   "cell_type": "code",
   "execution_count": null,
   "id": "44607628",
   "metadata": {},
   "outputs": [],
   "source": [
    "from reports.util import load_config, match, write_rmse\n",
    "\n",
    "# Load reference configs\n",
    "ref_configs = [load_config(os.path.join(ref_root, d)) for d in os.listdir(ref_root)]\n",
    "\n",
    "# Load sample configs\n",
    "sam_configs = [load_config(os.path.join(sam_root, d)) for d in os.listdir(sam_root)]\n",
    "\n",
    "# Build a dictionary mapping each reference config's save_dir\n",
    "# to the list of sample config save_dirs that match the reference config\n",
    "config_dict = {\n",
    "    ref.save_dir: [\n",
    "        sam.save_dir for sam in sam_configs if match(ref, sam, attrs)\n",
    "    ]\n",
    "    for ref in ref_configs\n",
    "}\n",
    "\n",
    "for ref_dir in config_dict:\n",
    "    for sam_dir in config_dict[ref_dir]:\n",
    "        write_rmse(ref_dir, sam_dir)\n"
   ]
  },
  {
   "cell_type": "code",
   "execution_count": 1,
   "id": "5a8aedac",
   "metadata": {},
   "outputs": [
    {
     "name": "stdout",
     "output_type": "stream",
     "text": [
      "Name: diffusers\n",
      "Version: 0.34.0\n",
      "Summary: State-of-the-art diffusion in PyTorch and JAX.\n",
      "Home-page: https://github.com/huggingface/diffusers\n",
      "Author: The Hugging Face team (past and future) with the help of all our contributors (https://github.com/huggingface/diffusers/graphs/contributors)\n",
      "Author-email: diffusers@huggingface.co\n",
      "License: Apache 2.0 License\n",
      "Location: /home/scpark/miniconda3/envs/sana/lib/python3.10/site-packages\n",
      "Requires: filelock, huggingface-hub, importlib_metadata, numpy, Pillow, regex, requests, safetensors\n",
      "Required-by: image-reward, sana\n",
      "---\n",
      "Name: transformers\n",
      "Version: 4.45.2\n",
      "Summary: State-of-the-art Machine Learning for JAX, PyTorch and TensorFlow\n",
      "Home-page: https://github.com/huggingface/transformers\n",
      "Author: The Hugging Face team (past and future) with the help of all our contributors (https://github.com/huggingface/transformers/graphs/contributors)\n",
      "Author-email: transformers@huggingface.co\n",
      "License: Apache 2.0 License\n",
      "Location: /home/scpark/miniconda3/envs/sana/lib/python3.10/site-packages\n",
      "Requires: filelock, huggingface-hub, numpy, packaging, pyyaml, regex, requests, safetensors, tokenizers, tqdm\n",
      "Required-by: image-reward, optimum, peft, sana\n",
      "Note: you may need to restart the kernel to use updated packages.\n"
     ]
    }
   ],
   "source": [
    "pip show diffusers transformers"
   ]
  },
  {
   "cell_type": "code",
   "execution_count": null,
   "id": "0c8b765e",
   "metadata": {},
   "outputs": [],
   "source": []
  }
 ],
 "metadata": {
  "kernelspec": {
   "display_name": "sana",
   "language": "python",
   "name": "python3"
  },
  "language_info": {
   "codemirror_mode": {
    "name": "ipython",
    "version": 3
   },
   "file_extension": ".py",
   "mimetype": "text/x-python",
   "name": "python",
   "nbconvert_exporter": "python",
   "pygments_lexer": "ipython3",
   "version": "3.10.0"
  }
 },
 "nbformat": 4,
 "nbformat_minor": 5
}
