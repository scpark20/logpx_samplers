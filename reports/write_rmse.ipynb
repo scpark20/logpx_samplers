{
 "cells": [
  {
   "cell_type": "code",
   "execution_count": null,
   "id": "cc7a3238",
   "metadata": {},
   "outputs": [],
   "source": [
    "import os\n",
    "os.chdir('../')"
   ]
  },
  {
   "cell_type": "code",
   "execution_count": null,
   "id": "dc86b063",
   "metadata": {},
   "outputs": [],
   "source": [
    "ref_root = 'samplings/sana/ref'\n",
    "sam_root = 'samplings/sana/sam'\n",
    "\n",
    "# Attributes to compare between reference and sample configs\n",
    "attrs = ['model', 'algorithm_type', 'skip_type', 'flow_shift', 'CFG', 'n_samples']"
   ]
  },
  {
   "cell_type": "code",
   "execution_count": null,
   "id": "44607628",
   "metadata": {},
   "outputs": [],
   "source": [
    "from reports.util import load_config, match, write_rmse\n",
    "\n",
    "# Load reference configs\n",
    "ref_configs = [load_config(os.path.join(ref_root, d)) for d in os.listdir(ref_root)]\n",
    "\n",
    "# Load sample configs\n",
    "sam_configs = [load_config(os.path.join(sam_root, d)) for d in os.listdir(sam_root)]\n",
    "\n",
    "# Build a dictionary mapping each reference config's save_dir\n",
    "# to the list of sample config save_dirs that match the reference config\n",
    "config_dict = {\n",
    "    ref.save_dir: [\n",
    "        sam.save_dir for sam in sam_configs if match(ref, sam, attrs)\n",
    "    ]\n",
    "    for ref in ref_configs\n",
    "}\n",
    "\n",
    "for ref_dir in config_dict:\n",
    "    for sam_dir in config_dict[ref_dir]:\n",
    "        write_rmse(ref_dir, sam_dir)\n"
   ]
  },
  {
   "cell_type": "code",
   "execution_count": null,
   "id": "5a8aedac",
   "metadata": {},
   "outputs": [],
   "source": []
  }
 ],
 "metadata": {
  "kernelspec": {
   "display_name": "sana",
   "language": "python",
   "name": "python3"
  },
  "language_info": {
   "codemirror_mode": {
    "name": "ipython",
    "version": 3
   },
   "file_extension": ".py",
   "mimetype": "text/x-python",
   "name": "python",
   "nbconvert_exporter": "python",
   "pygments_lexer": "ipython3",
   "version": "3.10.0"
  }
 },
 "nbformat": 4,
 "nbformat_minor": 5
}
