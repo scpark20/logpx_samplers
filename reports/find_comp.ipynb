{
 "cells": [
  {
   "cell_type": "code",
   "execution_count": 1,
   "id": "42f2c273",
   "metadata": {},
   "outputs": [],
   "source": [
    "import os\n",
    "os.chdir('../')"
   ]
  },
  {
   "cell_type": "code",
   "execution_count": 4,
   "id": "629dbd63",
   "metadata": {},
   "outputs": [],
   "source": [
    "import os\n",
    "import json\n",
    "from easydict import EasyDict\n",
    "\n",
    "import torch\n",
    "import numpy as np\n",
    "import torch.nn.functional as F\n",
    "\n",
    "\n",
    "# Load a config.json file and return it as an EasyDict\n",
    "def load_config(path):\n",
    "    with open(os.path.join(path, 'config.json'), 'r') as f:\n",
    "        return EasyDict(json.load(f))\n",
    "\n",
    "# Check if two config objects match for all specified keys\n",
    "def match(c1, c2, keys):\n",
    "    return all(c1[k] == c2[k] for k in keys)\n",
    "\n",
    "def get_rmse(dir1, dir2):\n",
    "    rmses = []\n",
    "    i = 0\n",
    "    while True:\n",
    "        file1 = os.path.join(dir1, f\"{i}.pt\")\n",
    "        file2 = os.path.join(dir2, f\"{i}.pt\")\n",
    "        if not os.path.exists(file1) or not os.path.exists(file2):\n",
    "            break\n",
    "        data1 = torch.load(file1, weights_only=True)\n",
    "        data2 = torch.load(file2, weights_only=True)\n",
    "        rmse = torch.sqrt(F.mse_loss(data1, data2))\n",
    "        rmses.append(rmse.item())\n",
    "        i += 1\n",
    "    rmse = np.mean(rmses).item()\n",
    "    return rmse\n",
    "\n"
   ]
  },
  {
   "cell_type": "code",
   "execution_count": 6,
   "id": "a61cdbe5",
   "metadata": {},
   "outputs": [
    {
     "name": "stdout",
     "output_type": "stream",
     "text": [
      "samplings/sana/ref/sanaref_1 samplings/sana/sam/sana_37 0.28\n",
      "samplings/sana/ref/sanaref_1 samplings/sana/sam/sana_13 0.34\n",
      "samplings/sana/ref/sanaref_1 samplings/sana/sam/sana_7 0.41\n",
      "samplings/sana/ref/sanaref_1 samplings/sana/sam/sana_19 0.30\n",
      "samplings/sana/ref/sanaref_1 samplings/sana/sam/sana_1 0.46\n",
      "samplings/sana/ref/sanaref_1 samplings/sana/sam/sana_25 0.41\n",
      "samplings/sana/ref/sanaref_1 samplings/sana/sam/sana_31 0.35\n",
      "\n",
      "samplings/sana/ref/sanaref_4 samplings/sana/sam/sana_4 1.09\n",
      "samplings/sana/ref/sanaref_4 samplings/sana/sam/sana_10 1.09\n",
      "samplings/sana/ref/sanaref_4 samplings/sana/sam/sana_34 1.08\n",
      "samplings/sana/ref/sanaref_4 samplings/sana/sam/sana_28 1.09\n",
      "samplings/sana/ref/sanaref_4 samplings/sana/sam/sana_16 1.07\n",
      "samplings/sana/ref/sanaref_4 samplings/sana/sam/sana_40 1.07\n",
      "samplings/sana/ref/sanaref_4 samplings/sana/sam/sana_22 1.05\n",
      "\n",
      "samplings/sana/ref/sanaref_5 samplings/sana/sam/sana_17 0.95\n",
      "samplings/sana/ref/sanaref_5 samplings/sana/sam/sana_5 1.07\n",
      "samplings/sana/ref/sanaref_5 samplings/sana/sam/sana_11 1.01\n",
      "samplings/sana/ref/sanaref_5 samplings/sana/sam/sana_23 0.89\n",
      "samplings/sana/ref/sanaref_5 samplings/sana/sam/sana_41 0.97\n",
      "samplings/sana/ref/sanaref_5 samplings/sana/sam/sana_35 1.03\n",
      "samplings/sana/ref/sanaref_5 samplings/sana/sam/sana_29 1.09\n",
      "\n",
      "samplings/sana/ref/sanaref_2 samplings/sana/sam/sana_14 0.73\n",
      "samplings/sana/ref/sanaref_2 samplings/sana/sam/sana_32 0.75\n",
      "samplings/sana/ref/sanaref_2 samplings/sana/sam/sana_26 0.77\n",
      "samplings/sana/ref/sanaref_2 samplings/sana/sam/sana_8 0.76\n",
      "samplings/sana/ref/sanaref_2 samplings/sana/sam/sana_38 0.73\n",
      "samplings/sana/ref/sanaref_2 samplings/sana/sam/sana_2 0.78\n",
      "samplings/sana/ref/sanaref_2 samplings/sana/sam/sana_20 0.71\n",
      "\n",
      "samplings/sana/ref/sanaref_0 samplings/sana/sam/sana_30 0.48\n",
      "samplings/sana/ref/sanaref_0 samplings/sana/sam/sana_42 nan\n",
      "samplings/sana/ref/sanaref_0 samplings/sana/sam/sana_36 0.44\n",
      "samplings/sana/ref/sanaref_0 samplings/sana/sam/sana_0 0.55\n",
      "samplings/sana/ref/sanaref_0 samplings/sana/sam/sana_24 0.52\n",
      "samplings/sana/ref/sanaref_0 samplings/sana/sam/sana_12 0.47\n",
      "samplings/sana/ref/sanaref_0 samplings/sana/sam/sana_6 0.52\n",
      "samplings/sana/ref/sanaref_0 samplings/sana/sam/sana_18 0.41\n",
      "\n",
      "samplings/sana/ref/sanaref_3 samplings/sana/sam/sana_27 0.71\n",
      "samplings/sana/ref/sanaref_3 samplings/sana/sam/sana_39 0.62\n",
      "samplings/sana/ref/sanaref_3 samplings/sana/sam/sana_15 0.63\n",
      "samplings/sana/ref/sanaref_3 samplings/sana/sam/sana_33 0.68\n",
      "samplings/sana/ref/sanaref_3 samplings/sana/sam/sana_9 0.67\n",
      "samplings/sana/ref/sanaref_3 samplings/sana/sam/sana_21 0.58\n",
      "samplings/sana/ref/sanaref_3 samplings/sana/sam/sana_3 0.71\n",
      "\n"
     ]
    },
    {
     "name": "stderr",
     "output_type": "stream",
     "text": [
      "/home/scpark/miniconda3/envs/sana/lib/python3.10/site-packages/numpy/_core/fromnumeric.py:3904: RuntimeWarning: Mean of empty slice.\n",
      "  return _methods._mean(a, axis=axis, dtype=dtype,\n",
      "/home/scpark/miniconda3/envs/sana/lib/python3.10/site-packages/numpy/_core/_methods.py:147: RuntimeWarning: invalid value encountered in scalar divide\n",
      "  ret = ret.dtype.type(ret / rcount)\n"
     ]
    }
   ],
   "source": [
    "ref_root = 'samplings/sana/ref'\n",
    "sam_root = 'samplings/sana/sam'\n",
    "# Attributes to compare between reference and sample configs\n",
    "attrs = ['model', 'algorithm_type', 'skip_type', 'flow_shift', 'CFG', 'n_samples']\n",
    "\n",
    "# Load reference configs\n",
    "ref_configs = [load_config(os.path.join(ref_root, d)) for d in os.listdir(ref_root)]\n",
    "\n",
    "# Load sample configs\n",
    "sam_configs = [load_config(os.path.join(sam_root, d)) for d in os.listdir(sam_root)]\n",
    "\n",
    "# Build a dictionary mapping each reference config's save_dir\n",
    "# to the list of sample config save_dirs that match the reference config\n",
    "config_dict = {\n",
    "    ref.save_dir: [\n",
    "        sam.save_dir for sam in sam_configs if match(ref, sam, attrs)\n",
    "    ]\n",
    "    for ref in ref_configs\n",
    "}\n",
    "\n",
    "for ref_dir in config_dict:\n",
    "    for sam_dir in config_dict[ref_dir]:\n",
    "        rmse = get_rmse(ref_dir, sam_dir)\n",
    "        print(ref_dir, sam_dir, f\"{rmse:0.2f}\")\n",
    "    print()\n"
   ]
  },
  {
   "cell_type": "code",
   "execution_count": null,
   "id": "f71c9674",
   "metadata": {},
   "outputs": [],
   "source": []
  },
  {
   "cell_type": "code",
   "execution_count": null,
   "id": "90c880f6",
   "metadata": {},
   "outputs": [],
   "source": []
  }
 ],
 "metadata": {
  "kernelspec": {
   "display_name": "sana",
   "language": "python",
   "name": "python3"
  },
  "language_info": {
   "codemirror_mode": {
    "name": "ipython",
    "version": 3
   },
   "file_extension": ".py",
   "mimetype": "text/x-python",
   "name": "python",
   "nbconvert_exporter": "python",
   "pygments_lexer": "ipython3",
   "version": "3.10.0"
  }
 },
 "nbformat": 4,
 "nbformat_minor": 5
}
