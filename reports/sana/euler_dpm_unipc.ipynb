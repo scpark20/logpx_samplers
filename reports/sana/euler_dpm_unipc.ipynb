{
 "cells": [
  {
   "cell_type": "code",
   "execution_count": 1,
   "id": "30413648",
   "metadata": {},
   "outputs": [],
   "source": [
    "import os\n",
    "os.chdir('../../')"
   ]
  },
  {
   "cell_type": "markdown",
   "id": "2417e169",
   "metadata": {},
   "source": [
    "### Reference Files"
   ]
  },
  {
   "cell_type": "code",
   "execution_count": 3,
   "id": "8f2726ef",
   "metadata": {},
   "outputs": [
    {
     "data": {
      "text/plain": [
       "{1.5: 'samplings/SANA(MSCOCO2017)(Euler)(data_prediction)(time_uniform_flow)(FS1.0)(NFE200)(CFG1.5)(ORDER2)',\n",
       " 3.5: 'samplings/SANA(MSCOCO2017)(Euler)(data_prediction)(time_uniform_flow)(FS1.0)(NFE200)(CFG3.5)(ORDER2)',\n",
       " 5.5: 'samplings/SANA(MSCOCO2017)(Euler)(data_prediction)(time_uniform_flow)(FS1.0)(NFE200)(CFG5.5)(ORDER2)',\n",
       " 7.5: 'samplings/SANA(MSCOCO2017)(Euler)(data_prediction)(time_uniform_flow)(FS1.0)(NFE200)(CFG7.5)(ORDER2)',\n",
       " 9.5: 'samplings/SANA(MSCOCO2017)(Euler)(data_prediction)(time_uniform_flow)(FS1.0)(NFE200)(CFG9.5)(ORDER2)'}"
      ]
     },
     "execution_count": 3,
     "metadata": {},
     "output_type": "execute_result"
    }
   ],
   "source": [
    "import os\n",
    "\n",
    "ref_dirs = {}\n",
    "root_dir = 'samplings'\n",
    "for cfg in [1.5, 3.5, 5.5, 7.5, 9.5]:    \n",
    "    dir = f'SANA(MSCOCO2017)(Euler)(data_prediction)(time_uniform_flow)(FS1.0)(NFE200)(CFG{cfg})(ORDER2)'\n",
    "    ref_dirs[cfg] = str(os.path.join(root_dir, dir))\n",
    "\n",
    "ref_dirs"
   ]
  },
  {
   "cell_type": "markdown",
   "id": "ea9b02bb",
   "metadata": {},
   "source": [
    "### Comparison Files"
   ]
  },
  {
   "cell_type": "code",
   "execution_count": 6,
   "id": "0a7d263b",
   "metadata": {},
   "outputs": [],
   "source": [
    "import torch\n",
    "import numpy as np\n",
    "import torch.nn.functional as F\n",
    "\n",
    "def get_rmse(dir1, dir2):\n",
    "    rmses = []\n",
    "    for i in range(1000):\n",
    "        comp_file = os.path.join(dir1, f\"{i}.pt\")\n",
    "        ref_file = os.path.join(dir2, f\"{i}.pt\")\n",
    "        comp_data = torch.load(comp_file, weights_only=True)\n",
    "        ref_data = torch.load(ref_file, weights_only=True)\n",
    "        rmse = torch.sqrt(F.mse_loss(comp_data, ref_data))\n",
    "        rmses.append(rmse.item())\n",
    "    rmse = np.mean(rmses).item()\n",
    "    return rmse\n"
   ]
  },
  {
   "cell_type": "code",
   "execution_count": 7,
   "id": "0e2736bd",
   "metadata": {},
   "outputs": [
    {
     "name": "stdout",
     "output_type": "stream",
     "text": [
      "Euler 1.5 5\n",
      "Euler 1.5 6\n",
      "Euler 1.5 8\n",
      "Euler 1.5 10\n",
      "Euler 3.5 5\n",
      "Euler 3.5 6\n",
      "Euler 3.5 8\n",
      "Euler 3.5 10\n",
      "Euler 5.5 5\n",
      "Euler 5.5 6\n",
      "Euler 5.5 8\n",
      "Euler 5.5 10\n",
      "Euler 7.5 5\n",
      "Euler 7.5 6\n",
      "Euler 7.5 8\n",
      "Euler 7.5 10\n",
      "Euler 9.5 5\n",
      "Euler 9.5 6\n",
      "Euler 9.5 8\n",
      "Euler 9.5 10\n",
      "DPM-Solver 1.5 5\n",
      "DPM-Solver 1.5 6\n",
      "DPM-Solver 1.5 8\n",
      "DPM-Solver 1.5 10\n",
      "DPM-Solver 3.5 5\n",
      "DPM-Solver 3.5 6\n",
      "DPM-Solver 3.5 8\n",
      "DPM-Solver 3.5 10\n",
      "DPM-Solver 5.5 5\n",
      "DPM-Solver 5.5 6\n",
      "DPM-Solver 5.5 8\n",
      "DPM-Solver 5.5 10\n",
      "DPM-Solver 7.5 5\n",
      "DPM-Solver 7.5 6\n",
      "DPM-Solver 7.5 8\n",
      "DPM-Solver 7.5 10\n",
      "DPM-Solver 9.5 5\n",
      "DPM-Solver 9.5 6\n",
      "DPM-Solver 9.5 8\n",
      "DPM-Solver 9.5 10\n",
      "UniPC 1.5 5\n",
      "UniPC 1.5 6\n",
      "UniPC 1.5 8\n",
      "UniPC 1.5 10\n",
      "UniPC 3.5 5\n",
      "UniPC 3.5 6\n",
      "UniPC 3.5 8\n",
      "UniPC 3.5 10\n",
      "UniPC 5.5 5\n",
      "UniPC 5.5 6\n",
      "UniPC 5.5 8\n",
      "UniPC 5.5 10\n",
      "UniPC 7.5 5\n",
      "UniPC 7.5 6\n",
      "UniPC 7.5 8\n",
      "UniPC 7.5 10\n",
      "UniPC 9.5 5\n",
      "UniPC 9.5 6\n",
      "UniPC 9.5 8\n",
      "UniPC 9.5 10\n",
      "done\n"
     ]
    }
   ],
   "source": [
    "import torch\n",
    "import torch.nn.functional as F\n",
    "from tqdm import tqdm\n",
    "import numpy as np\n",
    "\n",
    "save_dir = 'reports/sana/euler_dpm_unipc'\n",
    "os.makedirs(save_dir, exist_ok=True)\n",
    "\n",
    "for solver in ['Euler', 'DPM-Solver', 'UniPC']:\n",
    "    for cfg in [1.5, 3.5, 5.5, 7.5, 9.5]:\n",
    "        for NFE in [5, 6, 8, 10]:\n",
    "            print(solver, cfg, NFE)\n",
    "            dir = f'SANA(MSCOCO2017)({solver})(data_prediction)(time_uniform_flow)(FS1.0)(NFE{NFE})(CFG{cfg})(ORDER2)'\n",
    "            comp_dir = os.path.join(root_dir, dir)\n",
    "            ref_dir = ref_dirs[cfg]\n",
    "            rmse = get_rmse(comp_dir, ref_dir)\n",
    "            save_file = os.path.join(save_dir, f'{solver}_{cfg}_{NFE}.txt')\n",
    "            with open(save_file, 'w') as f:\n",
    "                f.write(f\"{rmse}\")\n",
    "\n",
    "print('done')"
   ]
  },
  {
   "cell_type": "code",
   "execution_count": 22,
   "id": "3b67a748",
   "metadata": {},
   "outputs": [
    {
     "name": "stdout",
     "output_type": "stream",
     "text": [
      "done\n"
     ]
    }
   ],
   "source": [
    "print(\"done\")"
   ]
  },
  {
   "cell_type": "code",
   "execution_count": null,
   "id": "413d611b",
   "metadata": {},
   "outputs": [],
   "source": []
  }
 ],
 "metadata": {
  "kernelspec": {
   "display_name": "sana",
   "language": "python",
   "name": "python3"
  },
  "language_info": {
   "codemirror_mode": {
    "name": "ipython",
    "version": 3
   },
   "file_extension": ".py",
   "mimetype": "text/x-python",
   "name": "python",
   "nbconvert_exporter": "python",
   "pygments_lexer": "ipython3",
   "version": "3.10.0"
  }
 },
 "nbformat": 4,
 "nbformat_minor": 5
}
